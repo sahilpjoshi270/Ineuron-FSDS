{
 "cells": [
  {
   "cell_type": "markdown",
   "id": "93fa0168",
   "metadata": {},
   "source": [
    "# Q-1. Write an SQL query to fetch “FIRST_NAME” from Worker table using the alias name as<WORKER_NAME>.\n",
    "\n"
   ]
  },
  {
   "cell_type": "markdown",
   "id": "7d77dc61",
   "metadata": {},
   "source": [
    "SELECT FIRST_NAME AS WORKER_NAME FROM Worker;\n"
   ]
  },
  {
   "cell_type": "markdown",
   "id": "5ba53216",
   "metadata": {},
   "source": [
    "# Q-2. Write an SQL query to fetch unique values of DEPARTMENT from Worker table.\n",
    "\n"
   ]
  },
  {
   "cell_type": "markdown",
   "id": "61decb3a",
   "metadata": {},
   "source": [
    "SELECT DISTINCT DEPARTMENT FROM Worker;\n"
   ]
  },
  {
   "cell_type": "markdown",
   "id": "3912fc39",
   "metadata": {},
   "source": [
    "# Q-3. Write an SQL query to show the last 5 record from a table.\n"
   ]
  },
  {
   "cell_type": "markdown",
   "id": "cb77bcc2",
   "metadata": {},
   "source": [
    "SELECT * from Worker ORDER by id DESC LIMIT 5;"
   ]
  }
 ],
 "metadata": {
  "kernelspec": {
   "display_name": "Python 3",
   "language": "python",
   "name": "python3"
  },
  "language_info": {
   "codemirror_mode": {
    "name": "ipython",
    "version": 3
   },
   "file_extension": ".py",
   "mimetype": "text/x-python",
   "name": "python",
   "nbconvert_exporter": "python",
   "pygments_lexer": "ipython3",
   "version": "3.8.8"
  }
 },
 "nbformat": 4,
 "nbformat_minor": 5
}
