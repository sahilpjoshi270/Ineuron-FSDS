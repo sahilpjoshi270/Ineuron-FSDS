{
 "cells": [
  {
   "cell_type": "markdown",
   "id": "1a1fc5b5",
   "metadata": {},
   "source": [
    "# Q-17. Write an SQL query to show the top n (say 10) records of a table.\n"
   ]
  },
  {
   "cell_type": "markdown",
   "id": "36db9242",
   "metadata": {},
   "source": [
    "`SELECT TOP 10 * FROM Worker;` #Top Keyword is not supported by Many Popular Databases  \n",
    "`SELECT * FROM Worker LIMIT 10;`"
   ]
  },
  {
   "cell_type": "markdown",
   "id": "ba86a9d5",
   "metadata": {},
   "source": [
    "# Q-18. Write an SQL query to determine the nth (say n=5) highest salary from a table.\n"
   ]
  },
  {
   "cell_type": "markdown",
   "id": "f62f59a1",
   "metadata": {},
   "source": [
    "`SELECT DISTINCT(Salary) FROM Worker ORDER BY DESC LIMIT 1 OFFSET 5;`"
   ]
  }
 ],
 "metadata": {
  "kernelspec": {
   "display_name": "Python 3",
   "language": "python",
   "name": "python3"
  },
  "language_info": {
   "codemirror_mode": {
    "name": "ipython",
    "version": 3
   },
   "file_extension": ".py",
   "mimetype": "text/x-python",
   "name": "python",
   "nbconvert_exporter": "python",
   "pygments_lexer": "ipython3",
   "version": "3.8.8"
  }
 },
 "nbformat": 4,
 "nbformat_minor": 5
}
