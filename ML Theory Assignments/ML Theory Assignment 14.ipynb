{
 "cells": [
  {
   "cell_type": "markdown",
   "id": "79234a95",
   "metadata": {},
   "source": [
    "# 1. What is the concept of supervised learning? What is the significance of the name ?\n",
    "\n"
   ]
  },
  {
   "cell_type": "markdown",
   "id": "53f782e8",
   "metadata": {},
   "source": [
    "`Supervised learning`, also known as supervised machine learning, is a subcategory of machine learning and artificial intelligence. It is defined by its use of labeled datasets to train algorithms that to classify data or predict outcomes accurately.\n"
   ]
  },
  {
   "cell_type": "markdown",
   "id": "86d62dfe",
   "metadata": {},
   "source": [
    "# 2. In the hospital sector, offer an example of supervised learning ?\n"
   ]
  },
  {
   "cell_type": "markdown",
   "id": "bcb1d9b4",
   "metadata": {},
   "source": [
    "`Supervised learning` uses a training set to teach models to yield the desired output. This training dataset includes inputs and correct outputs, which allow the model to learn over time. The algorithm measures its accuracy through the loss function, adjusting until the error has been sufficiently minimized.\n",
    "\n"
   ]
  },
  {
   "cell_type": "markdown",
   "id": "0594c799",
   "metadata": {},
   "source": [
    "# 3. Give three supervised learning examples ?\n"
   ]
  },
  {
   "cell_type": "markdown",
   "id": "1e52e6f4",
   "metadata": {},
   "source": [
    "Example of Supervised Learning Algorithms are:\n",
    "\n",
    "1. Linear Regression.\n",
    "2. Nearest Neighbor.\n",
    "3. Gaussian Naive Bayes.\n",
    "4. Decision Trees.\n",
    "5. Support Vector Machine (SVM)\n",
    "6. Random Forest.\n"
   ]
  },
  {
   "cell_type": "markdown",
   "id": "2a6b9d2f",
   "metadata": {},
   "source": [
    "# 4. In supervised learning, what are classification and regression ?\n"
   ]
  },
  {
   "cell_type": "markdown",
   "id": "4a784e8a",
   "metadata": {},
   "source": [
    "Fundamentally, classification is about predicting a label and regression is about predicting a quantity. That classification is the problem of predicting a discrete class label output for an example. That regression is the problem of predicting a continuous quantity output for an example.\n",
    "\n"
   ]
  },
  {
   "cell_type": "markdown",
   "id": "8e1a77de",
   "metadata": {},
   "source": [
    "# 5. Give some popular classification algorithms as examples ?\n"
   ]
  },
  {
   "cell_type": "markdown",
   "id": "dbc6e1e2",
   "metadata": {},
   "source": [
    "Popular algorithms that can be used for multi-class classification include:\n",
    "\n",
    "1. k-Nearest Neighbors\n",
    "2. Decision Trees.\n",
    "3. Naive Bayes\n"
   ]
  },
  {
   "cell_type": "markdown",
   "id": "b398408b",
   "metadata": {},
   "source": [
    "# 6. Briefly describe the SVM model ?\n",
    "\n",
    "\n"
   ]
  },
  {
   "cell_type": "markdown",
   "id": "bd213513",
   "metadata": {},
   "source": [
    "A support vector machine (SVM) is a supervised machine learning model that uses classification algorithms for two-group classification problems. After giving an SVM model sets of labeled training data for each category, they're able to categorize new text."
   ]
  },
  {
   "cell_type": "markdown",
   "id": "51b4b28d",
   "metadata": {},
   "source": [
    "# 7. In SVM, what is the cost of misclassification ?\n"
   ]
  },
  {
   "cell_type": "markdown",
   "id": "9f310037",
   "metadata": {},
   "source": [
    "In cost-sensitive learning instead of each instance being either correctly or incorrectly classified, each class (or instance) is given a misclassification cost. Thus, instead of trying to optimize the accuracy, the problem is then to minimize the total misclassification cost.\n",
    "\n"
   ]
  },
  {
   "cell_type": "markdown",
   "id": "4348dcb2",
   "metadata": {},
   "source": [
    "# 8. In the SVM model, define Support Vectors ?\n"
   ]
  },
  {
   "cell_type": "markdown",
   "id": "fff8f845",
   "metadata": {},
   "source": [
    "Support vectors are data points that are closer to the hyperplane and influence the position and orientation of the hyperplane. Using these support vectors, we maximize the margin of the classifier. Deleting the support vectors will change the position of the hyperplane. These are the points that help us build our SVM.\n",
    "\n"
   ]
  },
  {
   "cell_type": "markdown",
   "id": "53cc36e4",
   "metadata": {},
   "source": [
    "# 9. In the SVM model, define the kernel ?\n"
   ]
  },
  {
   "cell_type": "markdown",
   "id": "a1ee4889",
   "metadata": {},
   "source": [
    "SVM algorithms use a set of mathematical functions that are defined as the kernel. The function of kernel is to take data as input and transform it into the required form. These functions can be different types. For example linear, nonlinear, polynomial, radial basis function (RBF), and sigmoid.\n",
    "\n"
   ]
  },
  {
   "cell_type": "markdown",
   "id": "9e0cc19e",
   "metadata": {},
   "source": [
    "# 10. What are the factors that influence SVM's effectiveness ?\n",
    "\n"
   ]
  },
  {
   "cell_type": "markdown",
   "id": "3259196b",
   "metadata": {},
   "source": [
    "SVM or Support Vector Machine is a linear model for classification and regression problems. It can solve linear and non-linear problems and work well for many practical problems. The idea of SVM is simple: The algorithm creates a line or a hyperplane which separates the data into classes.\n"
   ]
  },
  {
   "cell_type": "markdown",
   "id": "74694bba",
   "metadata": {},
   "source": [
    "# 11. What are the benefits of using the SVM model ?\n"
   ]
  },
  {
   "cell_type": "markdown",
   "id": "35326730",
   "metadata": {},
   "source": [
    "SVM works relatively well when there is a clear margin of separation between classes. `SVM is more effective in high dimensional spaces`. SVM is effective in cases where the number of dimensions is greater than the number of samples.SVM is relatively memory efficient.\n",
    "\n"
   ]
  },
  {
   "cell_type": "markdown",
   "id": "242c2f68",
   "metadata": {},
   "source": [
    "# 12. What are the drawbacks of using the SVM model ?\n"
   ]
  },
  {
   "cell_type": "markdown",
   "id": "047c9257",
   "metadata": {},
   "source": [
    "`SVM algorithm is not suitable for large data sets`. SVM does not perform very well when the data set has more noise i.e. target classes are overlapping. In cases where the number of features for each data point exceeds the number of training data samples, the SVM will underperform.\n",
    "\n"
   ]
  },
  {
   "cell_type": "markdown",
   "id": "47e07f48",
   "metadata": {},
   "source": [
    "# 13. Notes should be written on\n",
    "1. The kNN algorithm has a validation flaw.\n",
    "2. In the kNN algorithm, the k value is chosen.\n",
    "3. A decision tree with inductive bias\n",
    " "
   ]
  },
  {
   "cell_type": "markdown",
   "id": "d1320bee",
   "metadata": {},
   "source": [
    "The Short notes on below topics is:\n",
    "\n",
    "`The kNN algorithm has a validation flaw`. The relatively low accuracy of kNN is caused by several factors. One of them is that every characteristic of the method has the same result on calculating distance. The solution of this problem is to give weight to each data characteristic.\n",
    "\n",
    "`In the kNN algorithm, the k value is chosen`. The optimal K value usually found is the square root of N, where N is the total number of samples. Use an error plot or accuracy plot to find the most favorable K value. KNN performs well with multi-label classes, but you must be aware of the outliers.\n",
    "\n",
    "`A decision tree with inductive bias` Shorter trees are preferred over longer ones. Trees that place high information gain attributes close to the root are preferred over those that do not.\n"
   ]
  },
  {
   "cell_type": "markdown",
   "id": "130abb57",
   "metadata": {},
   "source": [
    "# 14. What are some of the benefits of the kNN algorithm ?\n"
   ]
  },
  {
   "cell_type": "markdown",
   "id": "c479abaf",
   "metadata": {},
   "source": [
    "Some Advantages of KNN are:\n",
    "\n",
    "1. Quick calculation time.\n",
    "2. Simple algorithm – to interpret.\n",
    "3. Versatile – useful for regression and classification.\n",
    "4. High accuracy – you do not need to compare with better-supervised learning models.\n"
   ]
  },
  {
   "cell_type": "markdown",
   "id": "617d16d9",
   "metadata": {},
   "source": [
    "# 15. What are some of the kNN algorithm's drawbacks ?\n"
   ]
  },
  {
   "cell_type": "markdown",
   "id": "27ac323a",
   "metadata": {},
   "source": [
    "Some Disadvantages of KNN are:\n",
    "\n",
    "1. Accuracy depends on the quality of the data.\n",
    "2. With large data, the prediction stage might be slow.\n",
    "3. Sensitive to the scale of the data and irrelevant features.\n",
    "4. Require high memory – need to store all of the training data.\n",
    "5. Given that it stores all of the training, it can be computationally expensive.\n"
   ]
  },
  {
   "cell_type": "markdown",
   "id": "9fe23bd0",
   "metadata": {},
   "source": [
    "# 16. Explain the decision tree algorithm in a few words ?\n"
   ]
  },
  {
   "cell_type": "markdown",
   "id": "e66331d8",
   "metadata": {},
   "source": [
    "A decision tree is a graphical representation of all the possible solutions to a decision based on certain conditions. Tree models where the target variable can take a finite set of values are called classification trees and target variable can take continuous values (numbers) are called regression trees."
   ]
  },
  {
   "cell_type": "markdown",
   "id": "24d86580",
   "metadata": {},
   "source": [
    "# 17. What is the difference between a node and a leaf in a decision tree ?\n"
   ]
  },
  {
   "cell_type": "markdown",
   "id": "4b5d22a4",
   "metadata": {},
   "source": [
    "A decision tree is a flowchart-like structure in which each internal node represents a \"test\" on an attribute (e.g. whether a coin flip comes up heads or tails), each branch represents the outcome of the test, and each leaf node represents a class label (decision taken after computing all attributes).\n",
    "\n"
   ]
  },
  {
   "cell_type": "markdown",
   "id": "86b5bbf3",
   "metadata": {},
   "source": [
    "# 18. What is a decision tree's entropy ?\n"
   ]
  },
  {
   "cell_type": "markdown",
   "id": "159c8a5e",
   "metadata": {},
   "source": [
    "Entropy helps us to build an appropriate decision tree for selecting the best splitter. Entropy can be defined as a measure of the purity of the sub split. Entropy always lies between 0 to 1. The entropy of any split can be calculate by this formula.\n",
    "\n"
   ]
  },
  {
   "cell_type": "markdown",
   "id": "bf708e73",
   "metadata": {},
   "source": [
    "# 19. In a decision tree, define knowledge gain ?\n"
   ]
  },
  {
   "cell_type": "markdown",
   "id": "36a20480",
   "metadata": {},
   "source": [
    "Information gain is the reduction in entropy or surprise by transforming a dataset and is often used in training decision trees.Information gain is calculated by comparing the entropy of the dataset before and after a transformation.\n"
   ]
  },
  {
   "cell_type": "markdown",
   "id": "a020d2e5",
   "metadata": {},
   "source": [
    "# 20. Choose three advantages of the decision tree approach and write them down ?\n"
   ]
  },
  {
   "cell_type": "markdown",
   "id": "3304d39c",
   "metadata": {},
   "source": [
    "Advantages of Decision Trees :\n",
    "\n",
    "1. Easy to read and interpret. One of the advantages of decision trees is that their outputs are easy to read and interpret without requiring statistical knowledge.\n",
    "2. Easy to prepare.\n",
    "3. Less data cleaning required.\n"
   ]
  },
  {
   "cell_type": "markdown",
   "id": "58b9b38b",
   "metadata": {},
   "source": [
    "# 21. Make a list of three flaws in the decision tree process ?\n"
   ]
  },
  {
   "cell_type": "markdown",
   "id": "31a8d0aa",
   "metadata": {},
   "source": [
    "Issues in Decision Tree Learning :\n",
    "\n",
    "1. Overfitting the data.\n",
    "2. Guarding against bad attribute choices.\n",
    "3. Handling continuous valued attributes.\n",
    "4. Handling missing attribute values.\n",
    "5. Handling attributes with differing costs.\n"
   ]
  },
  {
   "cell_type": "markdown",
   "id": "d9adf132",
   "metadata": {},
   "source": [
    "# 22. Briefly describe the random forest model ?\n"
   ]
  },
  {
   "cell_type": "markdown",
   "id": "7293a2bb",
   "metadata": {},
   "source": [
    "The random forest is a classification algorithm consisting of many decisions trees. It uses bagging and feature randomness when building each individual tree to try to create an uncorrelated forest of trees whose prediction by committee is more accurate than that of any individual tree."
   ]
  }
 ],
 "metadata": {
  "kernelspec": {
   "display_name": "Python 3",
   "language": "python",
   "name": "python3"
  },
  "language_info": {
   "codemirror_mode": {
    "name": "ipython",
    "version": 3
   },
   "file_extension": ".py",
   "mimetype": "text/x-python",
   "name": "python",
   "nbconvert_exporter": "python",
   "pygments_lexer": "ipython3",
   "version": "3.8.8"
  }
 },
 "nbformat": 4,
 "nbformat_minor": 5
}
