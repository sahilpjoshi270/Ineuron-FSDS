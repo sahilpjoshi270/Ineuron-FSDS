{
 "cells": [
  {
   "cell_type": "markdown",
   "id": "0fedf498",
   "metadata": {},
   "source": [
    "# 1. What does one mean by the term \"machine learning\"?\n",
    "\n"
   ]
  },
  {
   "cell_type": "markdown",
   "id": "afb8680e",
   "metadata": {},
   "source": [
    "Machine learning Popularly known as ML is a branch of Artificial Intelligence (AI) that allows software applications to become more accurate at predicting outcomes without being explicitly programmed to do so. Machine learning algorithms use historical data as input to predict new output values."
   ]
  },
  {
   "cell_type": "markdown",
   "id": "04837f31",
   "metadata": {},
   "source": [
    "# 2.Can you think of 4 distinct types of issues where it shines?\n",
    "\n",
    "\n",
    "\n"
   ]
  },
  {
   "cell_type": "markdown",
   "id": "5bbe17e1",
   "metadata": {},
   "source": [
    "The following are some of the issues where Machine Learning can be used:\n",
    "\n",
    "__`Image Recognition`__: Image recognition is one of the most common applications of machine learning. It is used to identify objects, persons, places, digital images, etc. The popular use case of image recognition and face detection is Automatic friend tagging suggestion.\n",
    "\n",
    "__`Speech Recognition`__: While using Google, we get an option of Search by voice, it comes under speech recognition, and it's a popular application of Machine Learning. Speech recognition is a process of converting voice instructions into text, and it is also known as Speech to text, or Computer based speech recognition At present, machine learning algorithms are widely used by various applications of speech recognition. Google assistant, Siri, Cortana, and Alexa are using speech recognition technology to follow the voice instructions.\n",
    "\n",
    "__`Traffic prediction`__: It predicts the traffic conditions such as whether traffic is cleared, slow-moving, or heavily congested with the help of two ways: Real Time location of the vehicle form Google Map app and sensors Average time has taken on past days at the same time.\n",
    "\n",
    "__`Product recommendations`__: Machine learning is widely used by various e-commerce and entertainment companies such as Amazon, Netflix, etc., for product recommendation to the user."
   ]
  },
  {
   "cell_type": "markdown",
   "id": "48b3c3fb",
   "metadata": {},
   "source": [
    "# 3.What is a labeled training set, and how does it work?\n",
    "\n",
    "\n",
    "\n"
   ]
  },
  {
   "cell_type": "markdown",
   "id": "a317c54f",
   "metadata": {},
   "source": [
    "You split up the data containing known response variable values into two pieces. The training set is used to train the algorithm, and then you use the trained model on the test set to predict the response variable values that are already known."
   ]
  },
  {
   "cell_type": "markdown",
   "id": "0b79c14f",
   "metadata": {},
   "source": [
    "# 4.What are the two most important tasks that are supervised?\n",
    "\n",
    "\n",
    "\n"
   ]
  },
  {
   "cell_type": "markdown",
   "id": "357df5f2",
   "metadata": {},
   "source": [
    "The two most common supervised learning tasks are Regression and Classification."
   ]
  },
  {
   "cell_type": "markdown",
   "id": "d56ebf1d",
   "metadata": {},
   "source": [
    "# 5.Can you think of four examples of unsupervised tasks?\n",
    "\n",
    "\n",
    "\n"
   ]
  },
  {
   "cell_type": "markdown",
   "id": "93b1ba2c",
   "metadata": {},
   "source": [
    "Four common Unsupervised Tasks included __`Clustering`__, __`Visualization`__, __`Dimensionality Reduction`__, and __`Association Rule Learning`__"
   ]
  },
  {
   "cell_type": "markdown",
   "id": "7d5e295f",
   "metadata": {},
   "source": [
    "# 6.State the machine learning model that would be best to make a robot walk through various unfamiliar terrains?\n",
    "\n",
    "\n",
    "\n"
   ]
  },
  {
   "cell_type": "markdown",
   "id": "2f6b76e3",
   "metadata": {},
   "source": [
    "The best Machine Learning algorithm to allow a Robot to walk in unfamiliar terrains is __`Reinforced Learning`__, where the robot can learn from response of the terrain to optimize itself."
   ]
  },
  {
   "cell_type": "markdown",
   "id": "210b4678",
   "metadata": {},
   "source": [
    "# 7.Which algorithm will you use to divide your customers into different groups?\n",
    "\n",
    "\n",
    "\n"
   ]
  },
  {
   "cell_type": "markdown",
   "id": "af2e8f20",
   "metadata": {},
   "source": [
    "The Best Algorithm to Segment Customers into different groups is either Supervised Learning (if the groups have known labels) or Unsupervised Learning (if there are no group labels)."
   ]
  },
  {
   "cell_type": "markdown",
   "id": "c0f69d44",
   "metadata": {},
   "source": [
    "# 8.Will you consider the problem of spam detection to be a supervised or unsupervised learning problem?\n",
    "\n",
    "\n",
    "\n"
   ]
  },
  {
   "cell_type": "markdown",
   "id": "3c594f83",
   "metadata": {},
   "source": [
    "Spam detection is a Supervised Machine Learning problem because the labels are known (spam or no spam)."
   ]
  },
  {
   "cell_type": "markdown",
   "id": "d802cf08",
   "metadata": {},
   "source": [
    "# 9.What is the concept of an online learning system?\n",
    "\n",
    "\n",
    "\n"
   ]
  },
  {
   "cell_type": "markdown",
   "id": "c8dc4d9f",
   "metadata": {},
   "source": [
    "Online learning system is a learning system in which the machine learns continously, as data is given in small streams continuously."
   ]
  },
  {
   "cell_type": "markdown",
   "id": "64e246d8",
   "metadata": {},
   "source": [
    "# 10.What is out-of-core learning, and how does it differ from core learning?\n",
    "\n",
    "\n",
    "\n"
   ]
  },
  {
   "cell_type": "markdown",
   "id": "94c72b9e",
   "metadata": {},
   "source": [
    "Out-of-core learning system is a system that can handle data that cannot fit into your computer memory. It uses online learning system to feed data in small bits."
   ]
  },
  {
   "cell_type": "markdown",
   "id": "a38aff62",
   "metadata": {},
   "source": [
    "# 11.What kind of learning algorithm makes predictions using a similarity measure?\n",
    "\n",
    "\n",
    "\n"
   ]
  },
  {
   "cell_type": "markdown",
   "id": "723741b8",
   "metadata": {},
   "source": [
    "Learning algorithm that relies on a similarity measure to make predictions is Instance Based Algorithm."
   ]
  },
  {
   "cell_type": "markdown",
   "id": "ea694ce2",
   "metadata": {},
   "source": [
    "# 12.What's the difference between a model parameter and a hyperparameter in a learning algorithm?\n",
    "\n",
    "\n",
    "\n"
   ]
  },
  {
   "cell_type": "markdown",
   "id": "666d6b2a",
   "metadata": {},
   "source": [
    "Model parameter determines how a model will predict given a new instance. Model usually has more than one parameter (i.e. slope of a linear model). Hyperparameter is a parameter for the learning algorithm, not of a model."
   ]
  },
  {
   "cell_type": "markdown",
   "id": "de665357",
   "metadata": {},
   "source": [
    "# 13.What are the criteria that model-based learning algorithms look for? What is the most popular method they use to achieve success? What method do they use to make predictions?\n",
    "\n",
    "\n",
    "\n"
   ]
  },
  {
   "cell_type": "markdown",
   "id": "4c7708c6",
   "metadata": {},
   "source": [
    "Model based learning algorithm search for the optimal value of parameters in a model that will give the best results for the new instances. We often use a cost function or similar to determine what the parameter value has to be in order to minimize the function. The model makes prediction by using the value of the new instance and the parameters in its function."
   ]
  },
  {
   "cell_type": "markdown",
   "id": "c465ffd2",
   "metadata": {},
   "source": [
    "# 14.Can you name four of the most important Machine Learning challenges?\n",
    "\n",
    "\n",
    "\n"
   ]
  },
  {
   "cell_type": "markdown",
   "id": "173f089e",
   "metadata": {},
   "source": [
    "Four main challenges in Machine Learning include the following:\n",
    "\n",
    "Overfitting the Data (using a model too complicated)\n",
    "\n",
    "Underfitting the data (using a simple model)\n",
    "\n",
    "Lacking in Data\n",
    "\n",
    "Non Representative Data."
   ]
  },
  {
   "cell_type": "markdown",
   "id": "f160788a",
   "metadata": {},
   "source": [
    "# 15.What happens if the model performs well on the training data but fails to generalize the results to new situations? Can you think of three different options?\n",
    "\n",
    "\n",
    "\n"
   ]
  },
  {
   "cell_type": "markdown",
   "id": "089bd405",
   "metadata": {},
   "source": [
    "If the model performs poorly to new instances, then it has overfitted on the training data. To solve this, we can do any of the following three:\n",
    "\n",
    "1. Get more data\n",
    "2. Implement a simpler model\n",
    "3. Eliminate outliers or noise from the existing data set."
   ]
  },
  {
   "cell_type": "markdown",
   "id": "ae7fa0c5",
   "metadata": {},
   "source": [
    "# 16.What exactly is a test set, and why would you need one?\n",
    "\n",
    "\n",
    "\n"
   ]
  },
  {
   "cell_type": "markdown",
   "id": "d15272f2",
   "metadata": {},
   "source": [
    "Test set is a set to test your model (fit using training data) to see how it performs.Test set is necessary to determine how good (or bad) a model performs."
   ]
  },
  {
   "cell_type": "markdown",
   "id": "51768386",
   "metadata": {},
   "source": [
    "# 17.What is a validation set's purpose?\n",
    "\n",
    "\n"
   ]
  },
  {
   "cell_type": "markdown",
   "id": "12ab3867",
   "metadata": {},
   "source": [
    "Validation set is a set used to compare between different training models."
   ]
  },
  {
   "cell_type": "markdown",
   "id": "a86d3660",
   "metadata": {},
   "source": [
    "# 18.What precisely is the train-dev kit, when will you need it, how do you put it to use?\n",
    "\n",
    "\n",
    "\n"
   ]
  },
  {
   "cell_type": "markdown",
   "id": "cf632286",
   "metadata": {},
   "source": [
    "Cross-validation is a tool to compare models without needing a separate validation set. It is preferred over validation set because we can save from breaking of part of the training set to create a validation set, as having more data is valuable regardless."
   ]
  },
  {
   "cell_type": "markdown",
   "id": "e57bbc8a",
   "metadata": {},
   "source": [
    "# 19.What could go wrong if you use the test set to tune hyperparameters?\n"
   ]
  },
  {
   "cell_type": "markdown",
   "id": "f4f65834",
   "metadata": {},
   "source": [
    "If you tune hyperparameters using the test sets, then it may not perform well on the out-of-sample data because the model is tuned just for that specific set."
   ]
  }
 ],
 "metadata": {
  "kernelspec": {
   "display_name": "Python 3",
   "language": "python",
   "name": "python3"
  },
  "language_info": {
   "codemirror_mode": {
    "name": "ipython",
    "version": 3
   },
   "file_extension": ".py",
   "mimetype": "text/x-python",
   "name": "python",
   "nbconvert_exporter": "python",
   "pygments_lexer": "ipython3",
   "version": "3.8.8"
  }
 },
 "nbformat": 4,
 "nbformat_minor": 5
}
