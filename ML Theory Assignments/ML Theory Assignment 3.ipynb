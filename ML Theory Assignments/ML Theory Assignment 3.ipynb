{
 "cells": [
  {
   "cell_type": "markdown",
   "id": "e8bb25d9",
   "metadata": {},
   "source": [
    "# 1.Explain the term machine learning, and how does it work? Explain two machine learning applications in the business world. What are some of the ethical concerns that machine learning applications could raise?\n"
   ]
  },
  {
   "cell_type": "markdown",
   "id": "65220e7d",
   "metadata": {},
   "source": [
    "Machine Learning is a form of artificial intelligence (AI) that teaches computers to think in a similar way to how humans do: Learning and improving upon past experiences. It works by exploring data and identifying patterns, and involves minimal human intervention.\n",
    "\n",
    "There are various applications in Business World :\n",
    "\n",
    "1. Real-time chatbot agents.\n",
    "2. Decision support.\n",
    "3. Customer recommendation engines.\n",
    "4. Customer churn modeling.\n",
    "5. Dynamic pricing tactics.\n",
    "6. Market research and customer segmentation.\n",
    "7. Fraud detection.\n",
    "\n",
    "Also there are some of the ethical concerns that ML applications could raise : AI presents three major areas of ethical concern for society: Privacy and surveillance, bias and discrimination, and perhaps the deepest, most difficult philosophical question of the era, the role of human judgment."
   ]
  },
  {
   "cell_type": "markdown",
   "id": "fc97eaa2",
   "metadata": {},
   "source": [
    "# 2. Describe the process of human learning:\n",
    "           i. Under the supervision of experts\n",
    "\n",
    "           ii. With the assistance of experts in an indirect manner\n",
    "\n",
    "            iii. Self-education\n",
    "\n"
   ]
  },
  {
   "cell_type": "markdown",
   "id": "90546015",
   "metadata": {},
   "source": [
    "__`Under the supervision of experts`__: Human-guided machine learning is a process whereby subject matter experts accelerate the learning process by teaching the technology in real-time. For example, if the machine learning model comes across a piece of data it is uncertain about, a human can be asked to weigh in and give feedback. The model then learns from this input, and uses it to make a more accurate prediction the next time. Human-guided machine learning works from the bottom up by first using algorithms to conduct the heavy lifting of identifying relationships within the data, and engaging humans when necessary for training or validation Concept Learning.\n",
    "\n",
    "__`With the assistance of experts in an indirect manner`__: Well The process of an algorithm learning from the training dataset can be thought of as a teacher supervising the learning process. We know the correct answers, the algorithm iteratively makes predictions on the training data and is corrected by the teacher. Learning stops when the algorithm achieves an acceptable level of performance Operant Conditioning.\n",
    "\n",
    "__`Self education`__: Ability to recognize patterns, learn from data, and become more intelligent over time (can be AI or programmatically based).Machine Learning: AI systems with ability to automatically learn and improve from experience without being explicitly programmed via training Hebbian Learning."
   ]
  },
  {
   "cell_type": "markdown",
   "id": "012ad157",
   "metadata": {},
   "source": [
    "# 3. Provide a few examples of various types of machine learning.\n",
    "\n"
   ]
  },
  {
   "cell_type": "markdown",
   "id": "a00edcd1",
   "metadata": {},
   "source": [
    " Examples of Various types of Machine Learning techniques are:\n",
    "\n",
    "__`Example of Supervised Learning`__ is text classification problems. In this set of problems, the goal is to predict the class label of a given piece of text. One particularly popular topic in text classification is to predict the sentiment of a piece of text, like a tweet or a product review,Image segmentation, Medical Diagnosis\n",
    "\n",
    "__`Example of Unsupervised Learning`__ : Fraud detection, Malware detection, Anomaly detection, Clustering Analysis, Identification of human errors during data entry Conducting accurate basket analysis, etc.\n",
    "\n",
    "__`Example of Reinforcement Learning`__ : Applications in self-driving cars, Industry automation : learning-based robots are used to perform various tasks."
   ]
  },
  {
   "cell_type": "markdown",
   "id": "c97a5214",
   "metadata": {},
   "source": [
    "# 4. Examine the various forms of machine learning.\n",
    "\n"
   ]
  },
  {
   "cell_type": "markdown",
   "id": "7dcffb17",
   "metadata": {},
   "source": [
    "These are three types of Machine Learning Techniques:\n",
    "\n",
    "1. Supervised Learning\n",
    "2. Unsupervised Learning\n",
    "3. Reinforcement Learning."
   ]
  },
  {
   "cell_type": "markdown",
   "id": "fc2d3c00",
   "metadata": {},
   "source": [
    "# 5. Can you explain what a well-posed learning problem is? Explain the main characteristics that must be present to identify a learning problem properly.\n",
    "\n"
   ]
  },
  {
   "cell_type": "markdown",
   "id": "3b73e29e",
   "metadata": {},
   "source": [
    "Well Posed Learning Problem – A computer program is said to learn from experience E in context to some task T and some performance measure P, if its performance on T, as was measured by P, upgrades with experience E.Any problem can be segregated as well-posed learning problem if it has three traits – `Task`, `Performance` and `Experience`."
   ]
  },
  {
   "cell_type": "markdown",
   "id": "76d0e2c4",
   "metadata": {},
   "source": [
    "# 6. Is machine learning capable of solving all problems? Give a detailed explanation of your answer.\n",
    "\n"
   ]
  },
  {
   "cell_type": "markdown",
   "id": "6775e762",
   "metadata": {},
   "source": [
    "Machine Learning probably can run into all problems for solving but lays down with some concerns which are:\n",
    "\n",
    "__`Ethics`__: The idea of trusting data and algorithms more than our own judgment has its pros and cons.Obviously, we benefit from these algorithms, otherwise, we wouldn’t be using them in the first place. These algorithms allow us to automate processes by making informed judgments using available data. Sometimes, however, this means replacing someone’s job with an algorithm, which comes with ethical ramifications.\n",
    "\n",
    "__`Deterministic Problem`__: Machine learning is stochastic, not deterministic. A neural network does not understand Newton’s second law, or that density cannot be negative — there are no physical constraints.\n",
    "\n",
    "__`Lack of Data`__: Many machine learning algorithms require large amounts of data before they begin to give useful results."
   ]
  },
  {
   "cell_type": "markdown",
   "id": "3c468a6d",
   "metadata": {},
   "source": [
    "# 7. What are the various methods and technologies for solving machine learning problems? Any two of them should be defined in detail.\n",
    "\n"
   ]
  },
  {
   "cell_type": "markdown",
   "id": "b671cfd1",
   "metadata": {},
   "source": [
    "The Various Technologies Used in Machine Learning Problems are: `Scikit Learn`, `Pytorch`, `Tensorflow`, `Keras`, `Python`.\n",
    "\n",
    "__`Scikit Learn`__: Scikit-learn (Sklearn) is the most useful and robust library for machine learning in Python. It provides a selection of efficient tools for machine learning and statistical modeling including classification, Regression, clustering and dimensionality reduction via a consistence interface in Python.\n",
    "\n",
    "__`Tensorflow`__: It is a open source artificial intelligence library, Using data flow graphs to build models. It allows developers to create large-scale neural networks with many layers. TensorFlow is mainly used for: Classification, Perception, Understanding, Discovering, Prediction and Creation.\n",
    "\n",
    "The Various Methods used in Machine Learning Problems are: `Regression`, `Classification`, `Clustering`, `Dimensionality Reduction`, `Ensemble Methods`, `Neural Network`, `Deep Learning`, `Transfer Learning`, `Reinforcement Learning`, `Natural Language Processing`, `Word Embeddings`.\n",
    "\n",
    "__`Regression`__ methods fall within the category of supervised ML. They help to predict or explain a particular numerical value based on a set of prior data, for example predicting the price of a property based on previous pricing data for similar properties.\n",
    "\n",
    "Another class of supervised ML, classification methods predict or explain a class value. For example, they can help predict whether or not an online customer will buy a product. The output can be yes or no, buyer or not buyer. But classification methods aren’t limited to two classes. For example, a classification method could help to assess whether a given image contains a car or a truck. In this case, the output will be 3 different values:\n",
    "\n",
    "1. The image contains a car\n",
    "2. The image contains a truck\n",
    "3. The image contains neither a car nor a truck."
   ]
  },
  {
   "cell_type": "markdown",
   "id": "a51fab9f",
   "metadata": {},
   "source": [
    "# 8. Can you explain the various forms of supervised learning? Explain each one with an example application.\n",
    "\n"
   ]
  },
  {
   "cell_type": "markdown",
   "id": "af9b9eb3",
   "metadata": {},
   "source": [
    "The various forms of supervised learning are explained in detail below:\n",
    "\n",
    "1. __`Regression`__: In regression, a single output value is produced using training data.For example, regression can help predict the price of a house based on its locality, size, etc.\n",
    "2. __`Classification`__: It involves grouping the data into classes.eg. If you are thinking of extending credit to a person, you can use classification to determine whether or not a person would be a loan defaulter.\n",
    "3. __`Naive Bayesian Model`__: The Bayesian model of classification is used for large finite datasets. It is a method of assigning class labels using a direct acyclic graph.\n",
    "__`Decision Trees`__: A decision tree is a flowchart-like model that contains conditional control statements, comprising decisions and their probable consequences. The output relates to the labelling of unforeseen data."
   ]
  },
  {
   "cell_type": "markdown",
   "id": "8e61f85f",
   "metadata": {},
   "source": [
    "# 9. What is the difference between supervised and unsupervised learning? With a sample application in each region, explain the differences.\n",
    "\n"
   ]
  },
  {
   "cell_type": "markdown",
   "id": "00a0119e",
   "metadata": {},
   "source": []
  },
  {
   "cell_type": "markdown",
   "id": "9e7e1604",
   "metadata": {},
   "source": [
    "# 10. Describe the machine learning process in depth.\n",
    "\n",
    "a. Make brief notes on any two of the following:\n",
    "\n",
    "MATLAB is one of the most widely used programming languages.\n",
    "\n",
    "        ii. Deep learning applications in healthcare\n",
    "\n",
    "        iii. Study of the market basket\n",
    "\n",
    "         iv. Linear regression (simple)\n",
    "\n"
   ]
  },
  {
   "cell_type": "markdown",
   "id": "f664966c",
   "metadata": {},
   "source": []
  },
  {
   "cell_type": "markdown",
   "id": "c5876f8f",
   "metadata": {},
   "source": [
    "# 11. Make a comparison between:-\n",
    "\n",
    "         1. Generalization and abstraction\n",
    "\n",
    "          2. Learning that is guided and unsupervised\n",
    "\n",
    "          3. Regression and classification\n"
   ]
  },
  {
   "cell_type": "markdown",
   "id": "aaac5509",
   "metadata": {},
   "source": []
  }
 ],
 "metadata": {
  "kernelspec": {
   "display_name": "Python 3",
   "language": "python",
   "name": "python3"
  },
  "language_info": {
   "codemirror_mode": {
    "name": "ipython",
    "version": 3
   },
   "file_extension": ".py",
   "mimetype": "text/x-python",
   "name": "python",
   "nbconvert_exporter": "python",
   "pygments_lexer": "ipython3",
   "version": "3.8.8"
  }
 },
 "nbformat": 4,
 "nbformat_minor": 5
}
