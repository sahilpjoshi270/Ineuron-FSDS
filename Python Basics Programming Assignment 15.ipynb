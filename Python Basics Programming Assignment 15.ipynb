{
 "cells": [
  {
   "cell_type": "markdown",
   "id": "794f8c85",
   "metadata": {},
   "source": [
    "# Question 1:\n",
    "Please write a program using generator to print the numbers which can be divisible by 5 and 7 between 0 and n in comma separated form while n is input by console.\n",
    "\n",
    "Example:\n",
    "\n",
    "If the following n is given as input to the program:\n",
    "100\n",
    "\n",
    "\n",
    "Then, the output of the program should be:\n",
    "\n",
    "0,35,70\n",
    "\n"
   ]
  },
  {
   "cell_type": "code",
   "execution_count": 4,
   "id": "d7acba7e",
   "metadata": {},
   "outputs": [
    {
     "name": "stdout",
     "output_type": "stream",
     "text": [
      "Enter the no. range  :100\n",
      "0,35,70\n"
     ]
    }
   ],
   "source": [
    "class generator():\n",
    "    def __init__(self):\n",
    "        self.num = int(input('Enter the no. range  :'))\n",
    "        \n",
    "    def divi(self):\n",
    "        for i in range(self.num):\n",
    "            if (i%5==0) and (i%7==0):\n",
    "                yield i\n",
    "                \n",
    "\n",
    "                \n",
    "object = generator()\n",
    "\n",
    "a=object.divi()\n",
    "l=[str(i) for i in a]\n",
    "print(','.join(l))"
   ]
  },
  {
   "cell_type": "markdown",
   "id": "b9e794ed",
   "metadata": {},
   "source": [
    "# Question 2:\n",
    "Please write a program using generator to print the even numbers between 0 and n in comma separated form while n is input by console.\n",
    "\n",
    "Example:\n",
    "\n",
    "If the following n is given as input to the program:\n",
    "10\n",
    "\n",
    "Then, the output of the program should be:\n",
    "\n",
    "0,2,4,6,8,10\n",
    "\n"
   ]
  },
  {
   "cell_type": "code",
   "execution_count": 6,
   "id": "dfc35af2",
   "metadata": {},
   "outputs": [
    {
     "name": "stdout",
     "output_type": "stream",
     "text": [
      "Enter the no. range  :10\n",
      "0,2,4,6,8,10\n"
     ]
    }
   ],
   "source": [
    "class generator():\n",
    "    def __init__(self):\n",
    "        self.num = int(input('Enter the no. range  :'))\n",
    "        \n",
    "    def div1(self):\n",
    "        for i in range(self.num+1):\n",
    "            if (i%2==0):\n",
    "                yield i\n",
    "                \n",
    "\n",
    "                \n",
    "object = generator()\n",
    "\n",
    "a=object.div1()\n",
    "l=[str(i) for i in a]\n",
    "print(','.join(l))"
   ]
  },
  {
   "cell_type": "markdown",
   "id": "f5035bce",
   "metadata": {},
   "source": [
    "# Question 3:\n",
    "The Fibonacci Sequence is computed based on the following formula:\n",
    "\n",
    "f(n)=0 if n=0\n",
    "\n",
    "f(n)=1 if n=1\n",
    "f(n)=f(n-1)+f(n-2) if n>1\n",
    "\n",
    "Please write a program using list comprehension to print the Fibonacci Sequence in comma separated form with a given n input by console.\n",
    "\n",
    "Example:\n",
    "\n",
    "If the following n is given as input to the program:\n",
    "7\n",
    "\n",
    "Then, the output of the program should be:\n",
    "\n",
    "0,1,1,2,3,5,8,13\n",
    "\n"
   ]
  },
  {
   "cell_type": "code",
   "execution_count": 16,
   "id": "f7df92dd",
   "metadata": {},
   "outputs": [
    {
     "name": "stdout",
     "output_type": "stream",
     "text": [
      "0 1 1 2 3 5 8 13 "
     ]
    }
   ],
   "source": [
    "def fibbonac(n):\n",
    "    x = 0\n",
    "    y = 1\n",
    "    \n",
    "    for i in range(n+1):\n",
    "        print(x,end=' ')\n",
    "        x,y = y, x+y\n",
    "        \n",
    "        \n",
    "    \n",
    "        \n",
    "        \n",
    "        \n",
    "fibbonac(7)\n"
   ]
  },
  {
   "cell_type": "markdown",
   "id": "13048522",
   "metadata": {},
   "source": [
    "# Question 4:\n",
    "Assuming that we have some email addresses in the \"username@companyname.com\" format, please write program to print the user name of a given email address. Both user names and company names are composed of letters only.\n",
    "\n",
    "\n",
    "Example:\n",
    "\n",
    "If the following email address is given as input to the program:\n",
    "\n",
    "john@google.com\n",
    "\n",
    "Then, the output of the program should be:\n",
    "\n",
    "john\n",
    "\n"
   ]
  },
  {
   "cell_type": "code",
   "execution_count": 18,
   "id": "23bb06c6",
   "metadata": {},
   "outputs": [
    {
     "name": "stdout",
     "output_type": "stream",
     "text": [
      "Enter your email address :sahil@google.com\n",
      "Your name is sahil\n"
     ]
    }
   ],
   "source": [
    "emailid = input(\"Enter your email address :\")\n",
    "\n",
    "if '@' in emailid:\n",
    "    j = emailid.split('@')\n",
    "    print(f\"Your name is {j[0]}\")\n",
    "    \n",
    "else:\n",
    "    print(\"Wrong input\")"
   ]
  },
  {
   "cell_type": "markdown",
   "id": "49550922",
   "metadata": {},
   "source": [
    "# Question 5:\n",
    "Define a class named Shape and its subclass Square. The Square class has an init function which takes a length as argument. \n",
    "\n",
    "Both classes have a area function which can print the area of the shape where Shape's area is 0 by default.\n",
    "\n"
   ]
  },
  {
   "cell_type": "code",
   "execution_count": 22,
   "id": "1347c528",
   "metadata": {},
   "outputs": [
    {
     "name": "stdout",
     "output_type": "stream",
     "text": [
      "Area is 100\n",
      "Area is 0\n"
     ]
    }
   ],
   "source": [
    "class shape:\n",
    "    def __init__(self,len_shp):\n",
    "        self.len = len_shp\n",
    "        \n",
    "    def area(self):\n",
    "        print(f'Area is {self.len*self.len}')\n",
    "    \n",
    "class square(shape):\n",
    "    def __init__(self,*args):\n",
    "        super(square,self).__init__(*args)\n",
    "        self.len = len_square=0\n",
    "        \n",
    "        \n",
    "    def area(self):\n",
    "        print(f'Area is {self.len*self.len}')\n",
    "        \n",
    "\n",
    "        \n",
    "ob_shape=shape(10)\n",
    "ob_square=square(20)\n",
    "ob_shape.area()\n",
    "ob_square.area()\n",
    "        \n",
    "        "
   ]
  }
 ],
 "metadata": {
  "kernelspec": {
   "display_name": "Python 3",
   "language": "python",
   "name": "python3"
  },
  "language_info": {
   "codemirror_mode": {
    "name": "ipython",
    "version": 3
   },
   "file_extension": ".py",
   "mimetype": "text/x-python",
   "name": "python",
   "nbconvert_exporter": "python",
   "pygments_lexer": "ipython3",
   "version": "3.8.8"
  }
 },
 "nbformat": 4,
 "nbformat_minor": 5
}
