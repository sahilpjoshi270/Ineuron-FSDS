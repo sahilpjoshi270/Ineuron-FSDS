{
 "cells": [
  {
   "cell_type": "markdown",
   "id": "f3131af2",
   "metadata": {},
   "source": [
    "# 1. Why are functions advantageous to have in your programs?\n"
   ]
  },
  {
   "cell_type": "code",
   "execution_count": null,
   "id": "b76ff27f",
   "metadata": {},
   "outputs": [],
   "source": [
    "Ans) Functions eliminate the need to write a commonly used code more than once. \n",
    "If you need to impliment the function you just have to call the function and the job gets done without much more coding.\n"
   ]
  },
  {
   "cell_type": "markdown",
   "id": "32bf9ef4",
   "metadata": {},
   "source": [
    "# 2. When does the code in a function run: when it's specified or when it's called?\n",
    "\n"
   ]
  },
  {
   "cell_type": "code",
   "execution_count": null,
   "id": "15d23d79",
   "metadata": {},
   "outputs": [],
   "source": [
    "Ans) The code in a function only runs when the particular function is called."
   ]
  },
  {
   "cell_type": "markdown",
   "id": "9412f3b9",
   "metadata": {},
   "source": [
    "# 3. What statement creates a function?\n"
   ]
  },
  {
   "cell_type": "code",
   "execution_count": null,
   "id": "245e5499",
   "metadata": {},
   "outputs": [],
   "source": [
    "Ans) A function is created by usinf def keyword before the name of the function\n",
    " eg:- \n",
    "def add(a,b):\n",
    "    return a + b"
   ]
  },
  {
   "cell_type": "markdown",
   "id": "95c4547d",
   "metadata": {},
   "source": [
    "# 4. What is the difference between a function and a function call?\n"
   ]
  },
  {
   "cell_type": "code",
   "execution_count": null,
   "id": "361fdaaf",
   "metadata": {},
   "outputs": [],
   "source": [
    "Ans)A function is a method to achieve a perticular result using a certain type of logic.\n",
    "   And a function call is the way of invoking a function"
   ]
  },
  {
   "cell_type": "markdown",
   "id": "ad4b6f6a",
   "metadata": {},
   "source": [
    "# 5. How many global scopes are there in a Python program? How many local scopes?\n",
    "\n"
   ]
  },
  {
   "cell_type": "code",
   "execution_count": null,
   "id": "9d6b5ec8",
   "metadata": {},
   "outputs": [],
   "source": [
    "Ans) There is only one global python scope in a python program"
   ]
  },
  {
   "cell_type": "markdown",
   "id": "131ccd33",
   "metadata": {},
   "source": [
    "# 6. What happens to variables in a local scope when the function call returns?\n"
   ]
  },
  {
   "cell_type": "code",
   "execution_count": null,
   "id": "d79e0f8f",
   "metadata": {},
   "outputs": [],
   "source": [
    "Ans) The scope of local variables in a function becomes undefined after the function call completes."
   ]
  },
  {
   "cell_type": "markdown",
   "id": "a0821e66",
   "metadata": {},
   "source": [
    "# 7. What is the concept of a return value? Is it possible to have a return value in an expression?\n"
   ]
  },
  {
   "cell_type": "code",
   "execution_count": null,
   "id": "4ae93aac",
   "metadata": {},
   "outputs": [],
   "source": [
    "Ans) Return is the value which a function returns when its called or when the function completes its task"
   ]
  },
  {
   "cell_type": "markdown",
   "id": "7b3978e3",
   "metadata": {},
   "source": [
    "# 8. If a function does not have a return statement, what is the return value of a call to that function?\n"
   ]
  },
  {
   "cell_type": "code",
   "execution_count": null,
   "id": "777a538c",
   "metadata": {},
   "outputs": [],
   "source": [
    "Ans) If no return statement occurs in the called function, the return value of the call function is undefined"
   ]
  },
  {
   "cell_type": "markdown",
   "id": "a08b57c2",
   "metadata": {},
   "source": [
    "# 9. How do you make a function variable refer to the global variable?\n"
   ]
  },
  {
   "cell_type": "code",
   "execution_count": null,
   "id": "16293846",
   "metadata": {},
   "outputs": [],
   "source": [
    "Ans) If you want a function variable to refer to a global variable,\n",
    "     you have to use the global keyword to declare which variables are global"
   ]
  },
  {
   "cell_type": "markdown",
   "id": "ba35243b",
   "metadata": {},
   "source": [
    "# 10. What is the data type of None?\n"
   ]
  },
  {
   "cell_type": "code",
   "execution_count": null,
   "id": "446085b0",
   "metadata": {},
   "outputs": [],
   "source": [
    "Ans) The data type of None os NoneType"
   ]
  },
  {
   "cell_type": "markdown",
   "id": "b3e284da",
   "metadata": {},
   "source": [
    "# 11. What does the sentence import areallyourpetsnamederic do?\n"
   ]
  },
  {
   "cell_type": "code",
   "execution_count": null,
   "id": "c7b18cb2",
   "metadata": {},
   "outputs": [],
   "source": [
    "Ans) The statement import areallyourpetsnamederic imports a module named areallyourpetsnamederic"
   ]
  },
  {
   "cell_type": "markdown",
   "id": "4f60ecd9",
   "metadata": {},
   "source": [
    "# 12. If you had a bacon() feature in a spam module, what would you call it after importing spam?\n"
   ]
  },
  {
   "cell_type": "code",
   "execution_count": null,
   "id": "2bf1e660",
   "metadata": {},
   "outputs": [],
   "source": [
    "Ans) After importing spam module you would have to call spam.bacon() to invoke the said function"
   ]
  },
  {
   "cell_type": "markdown",
   "id": "8da7d3f1",
   "metadata": {},
   "source": [
    "# 13. What can you do to save a programme from crashing if it encounters an error?\n"
   ]
  },
  {
   "cell_type": "code",
   "execution_count": null,
   "id": "b17ebfe2",
   "metadata": {},
   "outputs": [],
   "source": []
  },
  {
   "cell_type": "markdown",
   "id": "6cc6fe3d",
   "metadata": {},
   "source": [
    "# 14. What is the purpose of the try clause? What is the purpose of the except clause?\n"
   ]
  },
  {
   "cell_type": "code",
   "execution_count": null,
   "id": "4f19c50f",
   "metadata": {},
   "outputs": [],
   "source": [
    "Ans) Try is used to check the code for some errors.\n",
    "     Whereas the except block is executed if there is some kind of error in the try box. "
   ]
  }
 ],
 "metadata": {
  "kernelspec": {
   "display_name": "Python 3",
   "language": "python",
   "name": "python3"
  },
  "language_info": {
   "codemirror_mode": {
    "name": "ipython",
    "version": 3
   },
   "file_extension": ".py",
   "mimetype": "text/x-python",
   "name": "python",
   "nbconvert_exporter": "python",
   "pygments_lexer": "ipython3",
   "version": "3.8.8"
  }
 },
 "nbformat": 4,
 "nbformat_minor": 5
}
