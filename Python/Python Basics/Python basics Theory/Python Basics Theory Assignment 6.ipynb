{
 "cells": [
  {
   "cell_type": "markdown",
   "id": "c2d0962f",
   "metadata": {},
   "source": [
    "# 1. What are escape characters, and how do you use them?\n"
   ]
  },
  {
   "cell_type": "code",
   "execution_count": null,
   "id": "85d03d5e",
   "metadata": {},
   "outputs": [],
   "source": [
    "Escape charachters are used to add illegal elements in a string. \n",
    "An escape character is a backslash \\ followed by the character you want to insert.\n",
    "eg.\n",
    "\\n for new line\n",
    "\\t for tab\n",
    "\\b for backspace"
   ]
  },
  {
   "cell_type": "markdown",
   "id": "252ef3a9",
   "metadata": {},
   "source": [
    "# 2. What do the escape characters n and t stand for?\n"
   ]
  },
  {
   "cell_type": "code",
   "execution_count": null,
   "id": "93714144",
   "metadata": {},
   "outputs": [],
   "source": [
    "Ans)\n",
    "\\n for new line\n",
    "\\t for tab"
   ]
  },
  {
   "cell_type": "markdown",
   "id": "ff31143e",
   "metadata": {},
   "source": [
    "# 3. What is the way to include backslash characters in a string?\n"
   ]
  },
  {
   "cell_type": "code",
   "execution_count": null,
   "id": "08732823",
   "metadata": {},
   "outputs": [],
   "source": [
    "Ans)We use \"\\\\\" for single \\ backslash in a string"
   ]
  },
  {
   "cell_type": "markdown",
   "id": "79170f33",
   "metadata": {},
   "source": [
    "# 4. The string \"Howl's Moving Castle\" is a correct value. Why isn't the single quote character in the word Howl's not escaped a problem?\n"
   ]
  },
  {
   "cell_type": "code",
   "execution_count": null,
   "id": "5d7109bb",
   "metadata": {},
   "outputs": [],
   "source": [
    "Ans) The single quote in \"Howl's\" is not counted as an error because the string is encapsulated in double quotes."
   ]
  },
  {
   "cell_type": "markdown",
   "id": "18e266ab",
   "metadata": {},
   "source": [
    "# 5. How do you write a string of newlines if you don't want to use the n character?\n"
   ]
  },
  {
   "cell_type": "code",
   "execution_count": null,
   "id": "aa2f95ca",
   "metadata": {},
   "outputs": [],
   "source": []
  },
  {
   "cell_type": "markdown",
   "id": "b1aff94a",
   "metadata": {},
   "source": [
    "# 6. What are the values of the given expressions?\n",
    "'Hello, world!'[1]\n",
    "\n",
    "'Hello, world!'[0:5]\n",
    "\n",
    "'Hello, world!'[:5]\n",
    "\n",
    "'Hello, world!'[3:]\n"
   ]
  },
  {
   "cell_type": "code",
   "execution_count": null,
   "id": "de5fae72",
   "metadata": {},
   "outputs": [],
   "source": [
    "Ans)\n",
    "'Hello, world!'[1] = 'e'\n",
    "'Hello, world!'[0:5] = 'Hello'\n",
    "'Hello, world!'[:5] = 'Hello'\n",
    "'Hello, world!'[3:] = 'lo, world'\n"
   ]
  },
  {
   "cell_type": "markdown",
   "id": "904f9124",
   "metadata": {},
   "source": [
    "# 7. What are the values of the following expressions?\n",
    "'Hello'.upper()\n",
    "\n",
    "'Hello'.upper().isupper()\n",
    "\n",
    "'Hello'.upper().lower()\n"
   ]
  },
  {
   "cell_type": "code",
   "execution_count": null,
   "id": "2fce84cc",
   "metadata": {},
   "outputs": [],
   "source": [
    "\n",
    "Ans)'Hello'.upper() = 'HELLO'\n",
    "    'Hello'.upper().isupper() = 'True'\n",
    "    'Hello'.upper().lower() = 'hello'"
   ]
  },
  {
   "cell_type": "markdown",
   "id": "95a758e1",
   "metadata": {},
   "source": [
    "# 8. What are the values of the following expressions?\n",
    "'Remember, remember, the fifth of July.'.split()\n",
    "'-'.join('There can only one.'.split())\n"
   ]
  },
  {
   "cell_type": "code",
   "execution_count": null,
   "id": "cafbff4a",
   "metadata": {},
   "outputs": [],
   "source": [
    "Ans) 'Remember, remember, the fifth of July.'.split() = ['Remember,', 'remember,', 'the', 'fifth', 'of', 'July.']\n",
    "    '-'.join('There can only one.'.split()) = 'There-can-only-one.'"
   ]
  },
  {
   "cell_type": "markdown",
   "id": "7a02e6d9",
   "metadata": {},
   "source": [
    "# 9. What are the methods for right-justifying, left-justifying, and centering a string?\n"
   ]
  },
  {
   "cell_type": "code",
   "execution_count": null,
   "id": "a507bcec",
   "metadata": {},
   "outputs": [],
   "source": [
    "Ans)right-justifying = rjust()\n",
    "    left-justifying = ljust()\n",
    "    centering = center()"
   ]
  },
  {
   "cell_type": "markdown",
   "id": "6dba4fe1",
   "metadata": {},
   "source": [
    "# 10. What is the best way to remove whitespace characters from the start or end?\n"
   ]
  },
  {
   "cell_type": "code",
   "execution_count": null,
   "id": "39ec2baa",
   "metadata": {},
   "outputs": [],
   "source": [
    "Ans) The best way to remove whitespace characters from the start and end are trimStart() and trimEnd() respectively"
   ]
  }
 ],
 "metadata": {
  "kernelspec": {
   "display_name": "Python 3",
   "language": "python",
   "name": "python3"
  },
  "language_info": {
   "codemirror_mode": {
    "name": "ipython",
    "version": 3
   },
   "file_extension": ".py",
   "mimetype": "text/x-python",
   "name": "python",
   "nbconvert_exporter": "python",
   "pygments_lexer": "ipython3",
   "version": "3.8.8"
  }
 },
 "nbformat": 4,
 "nbformat_minor": 5
}
