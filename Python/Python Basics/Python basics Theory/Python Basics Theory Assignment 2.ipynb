{
 "cells": [
  {
   "cell_type": "markdown",
   "id": "93239d9d",
   "metadata": {},
   "source": [
    "# 1.What are the two values of the Boolean data type? How do you write them?\n",
    "\n"
   ]
  },
  {
   "cell_type": "code",
   "execution_count": null,
   "id": "5e7bcdff",
   "metadata": {},
   "outputs": [],
   "source": [
    "Ans) The two values of Boolean are true and false."
   ]
  },
  {
   "cell_type": "markdown",
   "id": "948d5c9d",
   "metadata": {},
   "source": [
    "# 2. What are the three different types of Boolean operators?\n",
    "\n"
   ]
  },
  {
   "cell_type": "code",
   "execution_count": null,
   "id": "1b625dce",
   "metadata": {},
   "outputs": [],
   "source": [
    "Ans) The three types of boolean operators are: AND, OR, and NOT operators"
   ]
  },
  {
   "cell_type": "markdown",
   "id": "d565817f",
   "metadata": {},
   "source": [
    "# 3. Make a list of each Boolean operator's truth tables (i.e., every possible combination of Boolean values for the operator and what it evaluates)."
   ]
  },
  {
   "cell_type": "code",
   "execution_count": null,
   "id": "b8e0cfa7",
   "metadata": {},
   "outputs": [],
   "source": []
  },
  {
   "cell_type": "markdown",
   "id": "66309433",
   "metadata": {},
   "source": [
    "# 4. What are the values of the following expressions?\n",
    "\n",
    "\n"
   ]
  },
  {
   "cell_type": "code",
   "execution_count": null,
   "id": "3bd651a0",
   "metadata": {},
   "outputs": [],
   "source": [
    "\"\"\"(5 > 4) and (3 == 5)\n",
    "\n",
    "Ans) False\n",
    "\n",
    "not (5 > 4)\n",
    "Ans) False\n",
    "\n",
    "(5 > 4) or (3 == 5)\n",
    "Ans) True\n",
    "not ((5 > 4) or (3 == 5))\n",
    "Ans) False\n",
    "(True and True) and (True == False)\n",
    "Ans) False\n",
    "(not False) or (not True)\n",
    "Ans) True\"\"\""
   ]
  },
  {
   "cell_type": "code",
   "execution_count": 8,
   "id": "75ed5454",
   "metadata": {},
   "outputs": [
    {
     "data": {
      "text/plain": [
       "True"
      ]
     },
     "execution_count": 8,
     "metadata": {},
     "output_type": "execute_result"
    }
   ],
   "source": [
    "(not False) or (not True)"
   ]
  },
  {
   "cell_type": "markdown",
   "id": "4245247e",
   "metadata": {},
   "source": [
    "# 5. What are the six comparison operators?\n"
   ]
  },
  {
   "cell_type": "code",
   "execution_count": null,
   "id": "e5099750",
   "metadata": {},
   "outputs": [],
   "source": [
    "Ans) The six comparison operators are as follows:\n",
    "    1. Equal to (=)\n",
    "    2. Less Than (<)\n",
    "    3. Greater Than (>)\n",
    "    4. Less than equal to (<=)\n",
    "    5. Greater than Equal to (>=)\n",
    "    6. Not Equal to (!=)"
   ]
  },
  {
   "cell_type": "markdown",
   "id": "36c403c8",
   "metadata": {},
   "source": [
    "# 6. How do you tell the difference between the equal to and assignment operators?Describe a condition and when you would use one.\n"
   ]
  },
  {
   "cell_type": "code",
   "execution_count": null,
   "id": "7b145b6a",
   "metadata": {},
   "outputs": [],
   "source": []
  },
  {
   "cell_type": "markdown",
   "id": "62c54768",
   "metadata": {},
   "source": [
    "# 7. Identify the three blocks in this code:\n",
    "\n",
    "\n",
    "# spam = 0\n",
    "# if spam == 10:\n",
    "# print('eggs')\n",
    "# if spam > 5:\n",
    "# print('bacon')\n",
    "# else:\n",
    "# print('ham')\n",
    "# print('spam')\n",
    "# print('spam')\n",
    "# \n",
    "\n"
   ]
  },
  {
   "cell_type": "code",
   "execution_count": null,
   "id": "0103f7c7",
   "metadata": {},
   "outputs": [],
   "source": []
  },
  {
   "cell_type": "markdown",
   "id": "dab72599",
   "metadata": {},
   "source": [
    "# 8. Write code that prints Hello if 1 is stored in spam, prints Howdy if 2 is stored in spam, and prints Greetings! if anything else is stored in spam.\n"
   ]
  },
  {
   "cell_type": "code",
   "execution_count": 2,
   "id": "64a39d88",
   "metadata": {},
   "outputs": [
    {
     "name": "stdout",
     "output_type": "stream",
     "text": [
      "2\n",
      "Howdy\n"
     ]
    }
   ],
   "source": [
    "spam = input()\n",
    "if spam == '1':\n",
    "    print('Hello')\n",
    "elif spam == '2':\n",
    "    print('Howdy')\n",
    "else:\n",
    "    print('Greetings')"
   ]
  },
  {
   "cell_type": "markdown",
   "id": "b50fc98a",
   "metadata": {},
   "source": [
    "# 9.If your programme is stuck in an endless loop, what keys you’ll press?\n"
   ]
  },
  {
   "cell_type": "code",
   "execution_count": null,
   "id": "0d8dafec",
   "metadata": {},
   "outputs": [],
   "source": [
    "Ans) We can get out of an endless loop by pressing Ctrl + C on the keyboard"
   ]
  },
  {
   "cell_type": "markdown",
   "id": "1ad0d469",
   "metadata": {},
   "source": [
    "# 10. How can you tell the difference between break and continue?\n"
   ]
  },
  {
   "cell_type": "code",
   "execution_count": null,
   "id": "4305982a",
   "metadata": {},
   "outputs": [],
   "source": [
    "Ans)The main difference between break and continue is that break is used for immediate termination of loop.\n",
    "On the other hand, ‘continue’ terminate the current iteration and resumes the control to the next iteration."
   ]
  },
  {
   "cell_type": "markdown",
   "id": "e70f68a9",
   "metadata": {},
   "source": [
    "# 11. In a for loop, what is the difference between range(10), range(0, 10), and range(0, 10, 1)?\n"
   ]
  },
  {
   "cell_type": "code",
   "execution_count": null,
   "id": "91188605",
   "metadata": {},
   "outputs": [],
   "source": []
  },
  {
   "cell_type": "markdown",
   "id": "4930cabb",
   "metadata": {},
   "source": [
    "# 12. Write a short program that prints the numbers 1 to 10 using a for loop. Then write an equivalent program that prints the numbers 1 to 10 using a while loop.\n"
   ]
  },
  {
   "cell_type": "code",
   "execution_count": null,
   "id": "1b088748",
   "metadata": {},
   "outputs": [],
   "source": []
  },
  {
   "cell_type": "markdown",
   "id": "3133f819",
   "metadata": {},
   "source": [
    "# 13. If you had a function named bacon() inside a module named spam, how would you call it after importing spam?\n"
   ]
  },
  {
   "cell_type": "code",
   "execution_count": null,
   "id": "7e23d4c9",
   "metadata": {},
   "outputs": [],
   "source": []
  }
 ],
 "metadata": {
  "kernelspec": {
   "display_name": "Python 3",
   "language": "python",
   "name": "python3"
  },
  "language_info": {
   "codemirror_mode": {
    "name": "ipython",
    "version": 3
   },
   "file_extension": ".py",
   "mimetype": "text/x-python",
   "name": "python",
   "nbconvert_exporter": "python",
   "pygments_lexer": "ipython3",
   "version": "3.8.8"
  }
 },
 "nbformat": 4,
 "nbformat_minor": 5
}
