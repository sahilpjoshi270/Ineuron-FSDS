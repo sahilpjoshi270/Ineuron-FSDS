{
 "cells": [
  {
   "cell_type": "markdown",
   "id": "b1a4bd15",
   "metadata": {},
   "source": [
    "# 1. Assign the value 7 to the variable guess_me. Then, write the conditional tests (if, else, and elif) to print the string 'too low' if guess_me is less than 7, 'too high' if greater than 7, and 'just right' if equal to 7.\n"
   ]
  },
  {
   "cell_type": "code",
   "execution_count": null,
   "id": "38d5ae67",
   "metadata": {},
   "outputs": [],
   "source": [
    "# Ans)\n",
    "guess_me = 7\n",
    "if (guess_me < 7):\n",
    "    print(\"too low\")\n",
    "    \n",
    "elif(guess_me>7):\n",
    "    print(\"too high\")\n",
    "    \n",
    "else:\n",
    "    print(\"just right\")"
   ]
  },
  {
   "cell_type": "markdown",
   "id": "cbcd5a3e",
   "metadata": {},
   "source": [
    "# 2. Assign the value 7 to the variable guess_me and the value 1 to the variable start. Write a while loop that compares start with guess_me. Print too low if start is less than guess me. If start equals guess_me, print 'found it!' and exit the loop. If start is greater than guess_me, print 'oops' and exit the loop. Increment start at the end of the loop.\n",
    "\n",
    "    \n",
    "        "
   ]
  },
  {
   "cell_type": "code",
   "execution_count": null,
   "id": "55fe4d40",
   "metadata": {},
   "outputs": [],
   "source": [
    "# Ans)\n",
    "guess_me = 7\n",
    "start = 1\n",
    "while True:\n",
    "    if (start<guess_me):\n",
    "        print(\"too low\")\n",
    "        \n",
    "    elif(start==guess_me):\n",
    "        print(\"found it!\")\n",
    "        break\n",
    "        \n",
    "    else:\n",
    "        print(\"oops\")\n",
    "        \n",
    "    start+=1"
   ]
  },
  {
   "cell_type": "markdown",
   "id": "4c5e9bfc",
   "metadata": {},
   "source": [
    "# 3. Print the following values of the list [3, 2, 1, 0] using a for loop.\n"
   ]
  },
  {
   "cell_type": "code",
   "execution_count": null,
   "id": "88300931",
   "metadata": {},
   "outputs": [],
   "source": [
    "# Ans)\n",
    "list1 = [3, 2, 1, 0]\n",
    "for i in list1:\n",
    "    print(i)"
   ]
  },
  {
   "cell_type": "markdown",
   "id": "09263a70",
   "metadata": {},
   "source": [
    "# 4. Use a list comprehension to make a list of the even numbers in range(10)\n"
   ]
  },
  {
   "cell_type": "code",
   "execution_count": null,
   "id": "55975e20",
   "metadata": {},
   "outputs": [],
   "source": [
    "# Ans)\n",
    "\n",
    "even_nums = []\n",
    "\n",
    "for i in range(0,10):\n",
    "    if i%2==0:\n",
    "        even_nums.append(i)\n",
    "        \n",
    "\n",
    "even_nums"
   ]
  },
  {
   "cell_type": "markdown",
   "id": "d0a1bdd4",
   "metadata": {},
   "source": [
    "# 5. Use a dictionary comprehension to create the dictionary squares. Use range(10) to return the keys, and use the square of each key as its value.\n"
   ]
  },
  {
   "cell_type": "code",
   "execution_count": 1,
   "id": "81b35280",
   "metadata": {},
   "outputs": [
    {
     "ename": "SyntaxError",
     "evalue": "invalid syntax (<ipython-input-1-05af3c53cd51>, line 2)",
     "output_type": "error",
     "traceback": [
      "\u001b[1;36m  File \u001b[1;32m\"<ipython-input-1-05af3c53cd51>\"\u001b[1;36m, line \u001b[1;32m2\u001b[0m\n\u001b[1;33m    squares{}\u001b[0m\n\u001b[1;37m           ^\u001b[0m\n\u001b[1;31mSyntaxError\u001b[0m\u001b[1;31m:\u001b[0m invalid syntax\n"
     ]
    }
   ],
   "source": [
    "# Ans)\n",
    "squares{}\n"
   ]
  },
  {
   "cell_type": "markdown",
   "id": "2891c3c0",
   "metadata": {},
   "source": [
    "# 6. Construct the set odd from the odd numbers in the range using a set comprehension (10).\n"
   ]
  },
  {
   "cell_type": "code",
   "execution_count": null,
   "id": "7f406772",
   "metadata": {},
   "outputs": [],
   "source": [
    "# Ans)\n",
    "odd_nums = []\n",
    "\n",
    "for i in range(0,10):\n",
    "    if i%2==1:\n",
    "        odd_nums.append(i)\n",
    "        \n",
    "\n",
    "odd_nums"
   ]
  },
  {
   "cell_type": "markdown",
   "id": "d8ad11e8",
   "metadata": {},
   "source": [
    "# 7. Use a generator comprehension to return the string 'Got ' and a number for the numbers in range(10). Iterate through this by using a for loop.\n"
   ]
  },
  {
   "cell_type": "code",
   "execution_count": null,
   "id": "313740fa",
   "metadata": {},
   "outputs": [],
   "source": []
  },
  {
   "cell_type": "markdown",
   "id": "c73754d7",
   "metadata": {},
   "source": [
    "# 8. Define a function called good that returns the list ['Harry', 'Ron', 'Hermione'].\n"
   ]
  },
  {
   "cell_type": "code",
   "execution_count": 2,
   "id": "892c0f4e",
   "metadata": {},
   "outputs": [
    {
     "name": "stdout",
     "output_type": "stream",
     "text": [
      "['Harry', 'Ron', 'Hermione']\n"
     ]
    }
   ],
   "source": [
    "# Ans)  \n",
    "def good():\n",
    "    return ['Harry', 'Ron', 'Hermione']\n",
    "\n",
    "\n",
    "print(good())"
   ]
  },
  {
   "cell_type": "markdown",
   "id": "9c265117",
   "metadata": {},
   "source": [
    "# 9. Define a generator function called get_odds that returns the odd numbers from range(10). Use a for loop to find and print the third value returned.\n",
    "\n",
    "    \n",
    "    "
   ]
  },
  {
   "cell_type": "code",
   "execution_count": 3,
   "id": "a059a301",
   "metadata": {},
   "outputs": [],
   "source": [
    "# Ans)\n",
    "\n",
    "def get_odds():\n",
    "    for num in range(10):\n",
    "        if not num%2==0:\n",
    "            count = 0\n",
    "        \n",
    "    for num in get_odds():\n",
    "        if count==2:\n",
    "            print(num)\n",
    "            break\n",
    "        count+=1\n",
    "        \n",
    "        "
   ]
  },
  {
   "cell_type": "markdown",
   "id": "abc85ea8",
   "metadata": {},
   "source": [
    "# 10. Define an exception called OopsException. Raise this exception to see what happens. Then write the code to catch this exception and print 'Caught an oops'.\n",
    "\n"
   ]
  },
  {
   "cell_type": "code",
   "execution_count": null,
   "id": "d7e048c0",
   "metadata": {},
   "outputs": [],
   "source": [
    "# Ans)\n",
    "class OopsExeption(Exception):\n",
    "    pass\n",
    "\n",
    "def with_exeption(a):\n",
    "    if a<0:\n",
    "        raise OopsExeption(a)\n",
    "        \n",
    "    \n",
    "try:\n",
    "    with_exeption(-1)\n",
    "    \n",
    "except OopsExeption as err:\n",
    "    print(\"caught on oops\")\n",
    "    \n"
   ]
  },
  {
   "cell_type": "markdown",
   "id": "0a7e955c",
   "metadata": {},
   "source": [
    "# 11. Use zip() to make a dictionary called movies that pairs these lists: titles = ['Creature of Habit', 'Crewel Fate'] and plots = ['A nun turns into a monster', 'A haunted yarn shop'].\n",
    "\n"
   ]
  },
  {
   "cell_type": "code",
   "execution_count": null,
   "id": "54deb1c7",
   "metadata": {},
   "outputs": [],
   "source": [
    "# Ans)\n",
    "\n",
    "titles = ['Creature of Habit', 'Crewel Fate']\n",
    "plots = ['A nun turns into a monster', 'A haunted yarn shop']\n",
    "\n",
    "movies = dict(zip(titles,plots))\n"
   ]
  }
 ],
 "metadata": {
  "kernelspec": {
   "display_name": "Python 3",
   "language": "python",
   "name": "python3"
  },
  "language_info": {
   "codemirror_mode": {
    "name": "ipython",
    "version": 3
   },
   "file_extension": ".py",
   "mimetype": "text/x-python",
   "name": "python",
   "nbconvert_exporter": "python",
   "pygments_lexer": "ipython3",
   "version": "3.8.8"
  }
 },
 "nbformat": 4,
 "nbformat_minor": 5
}
