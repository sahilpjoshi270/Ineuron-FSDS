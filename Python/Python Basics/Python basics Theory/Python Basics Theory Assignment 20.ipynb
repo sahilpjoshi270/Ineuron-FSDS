{
 "cells": [
  {
   "cell_type": "markdown",
   "id": "515f53d1",
   "metadata": {},
   "source": [
    "## 1. Set the variable test1 to the string 'This is a test of the emergency text system,' and save test1 to a file named test.txt.\n",
    "\n",
    "\n",
    "\n"
   ]
  },
  {
   "cell_type": "code",
   "execution_count": 3,
   "id": "f5df87c8",
   "metadata": {},
   "outputs": [
    {
     "data": {
      "text/plain": [
       "'This is a test of the emergency text system'"
      ]
     },
     "execution_count": 3,
     "metadata": {},
     "output_type": "execute_result"
    }
   ],
   "source": [
    "test1='This is a test of the emergency text system'\n",
    "\n",
    "with open('test.txt','w') as f1:\n",
    "    f1.write(test1)\n",
    "    \n",
    "test1"
   ]
  },
  {
   "cell_type": "markdown",
   "id": "8606c9e5",
   "metadata": {},
   "source": [
    "## 2. Read the contents of the file test.txt into the variable test2. Is there a difference between test 1 and test 2?\n",
    "\n"
   ]
  },
  {
   "cell_type": "code",
   "execution_count": 10,
   "id": "76aefb6e",
   "metadata": {},
   "outputs": [
    {
     "name": "stdout",
     "output_type": "stream",
     "text": [
      "This is a test of the emergency text system\n"
     ]
    },
    {
     "data": {
      "text/plain": [
       "True"
      ]
     },
     "execution_count": 10,
     "metadata": {},
     "output_type": "execute_result"
    }
   ],
   "source": [
    "with open('test.txt') as f2:\n",
    "    test2=f2.read()\n",
    "print(test2)\n",
    "\n",
    "test1==test2\n",
    "\n"
   ]
  },
  {
   "cell_type": "markdown",
   "id": "ae6c84d9",
   "metadata": {},
   "source": [
    "## 3. Create a CSV file called books.csv by using these lines:\n",
    "## title,author,year\n",
    "## The Weirdstone of Brisingamen,Alan Garner,1960\n",
    "## Perdido Street Station,China Miéville,2000\n",
    "## Thud!,Terry Pratchett,2005\n",
    "## The Spellman Files,Lisa Lutz,2007\n",
    "## Small Gods,Terry Pratchett,1992\n",
    "\n",
    "\n"
   ]
  },
  {
   "cell_type": "code",
   "execution_count": 11,
   "id": "1340caac",
   "metadata": {},
   "outputs": [],
   "source": [
    "texts='''title, author, year\n",
    "The Weirdstone of Brisingamen, Alan Garner, 1960\n",
    "Perdido Street Station, China Mieville, 2000\n",
    "Thud !, Terry Pratchett, 2005\n",
    "The Spellmen Files, Lisa Lutz, 2007\n",
    "Small Gods, Terry Pratchett, 1992\n",
    "'''\n",
    "\n",
    "with open('books.csv','wt') as file5:\n",
    "    file5.write(texts)"
   ]
  },
  {
   "cell_type": "markdown",
   "id": "2eb06e03",
   "metadata": {},
   "source": [
    "## 4. Use the sqlite3 module to create a SQLite database called books.db, and a table called books with these fields: title (text), author (text), and year (integer).\n",
    "\n",
    "\n",
    "\n",
    "\n"
   ]
  },
  {
   "cell_type": "code",
   "execution_count": 4,
   "id": "e477d67d",
   "metadata": {},
   "outputs": [
    {
     "ename": "OperationalError",
     "evalue": "table book already exists",
     "output_type": "error",
     "traceback": [
      "\u001b[1;31m---------------------------------------------------------------------------\u001b[0m",
      "\u001b[1;31mOperationalError\u001b[0m                          Traceback (most recent call last)",
      "\u001b[1;32m<ipython-input-4-b22c49df418d>\u001b[0m in \u001b[0;36m<module>\u001b[1;34m\u001b[0m\n\u001b[0;32m      3\u001b[0m \u001b[0mdb\u001b[0m \u001b[1;33m=\u001b[0m \u001b[0msqlite3\u001b[0m\u001b[1;33m.\u001b[0m\u001b[0mconnect\u001b[0m \u001b[1;33m(\u001b[0m\u001b[1;34m'books.db'\u001b[0m\u001b[1;33m)\u001b[0m \u001b[1;31m#data base name is 'books'\u001b[0m\u001b[1;33m\u001b[0m\u001b[1;33m\u001b[0m\u001b[0m\n\u001b[0;32m      4\u001b[0m \u001b[0mcurs\u001b[0m \u001b[1;33m=\u001b[0m \u001b[0mdb\u001b[0m\u001b[1;33m.\u001b[0m\u001b[0mcursor\u001b[0m \u001b[1;33m(\u001b[0m\u001b[1;33m)\u001b[0m\u001b[1;33m\u001b[0m\u001b[1;33m\u001b[0m\u001b[0m\n\u001b[1;32m----> 5\u001b[1;33m \u001b[0mcurs\u001b[0m\u001b[1;33m.\u001b[0m\u001b[0mexecute\u001b[0m\u001b[1;33m(\u001b[0m\u001b[1;34m'''create table book (title text, author text, year int)'''\u001b[0m\u001b[1;33m)\u001b[0m \u001b[1;31m#Table name is 'book'\u001b[0m\u001b[1;33m\u001b[0m\u001b[1;33m\u001b[0m\u001b[0m\n\u001b[0m\u001b[0;32m      6\u001b[0m \u001b[0mdb\u001b[0m\u001b[1;33m.\u001b[0m\u001b[0mcommit\u001b[0m\u001b[1;33m(\u001b[0m\u001b[1;33m)\u001b[0m\u001b[1;33m\u001b[0m\u001b[1;33m\u001b[0m\u001b[0m\n\u001b[0;32m      7\u001b[0m \u001b[0mdb\u001b[0m\u001b[1;33m.\u001b[0m\u001b[0mclose\u001b[0m\u001b[1;33m(\u001b[0m\u001b[1;33m)\u001b[0m\u001b[1;33m\u001b[0m\u001b[1;33m\u001b[0m\u001b[0m\n",
      "\u001b[1;31mOperationalError\u001b[0m: table book already exists"
     ]
    }
   ],
   "source": [
    "import sqlite3\n",
    "\n",
    "db = sqlite3.connect ('books.db') #data base name is 'books'\n",
    "curs = db.cursor ()\n",
    "curs.execute('''create table book (title text, author text, year int)''') #Table name is 'book'\n",
    "db.commit()\n",
    "db.close()"
   ]
  },
  {
   "cell_type": "markdown",
   "id": "23e6de54",
   "metadata": {},
   "source": [
    "## 5. Read books.csv and insert its data into the book table.\n"
   ]
  },
  {
   "cell_type": "code",
   "execution_count": 13,
   "id": "7f32e1a0",
   "metadata": {},
   "outputs": [],
   "source": [
    "import csv\n",
    "\n",
    "db=sqlite3.connect('books.db')\n",
    "cursor=db.cursor()\n",
    "query ='insert into book values(?,?,?)'\n",
    "with open('books.csv','rt') as r:\n",
    "    x=csv.DictReader(r)\n",
    "    for i in x:\n",
    "        cursor.execute(query,(i['title'],i[' author'],i[' year']))\n",
    "db.commit()\n",
    "db.close()\n"
   ]
  },
  {
   "cell_type": "markdown",
   "id": "ca79d4bd",
   "metadata": {},
   "source": [
    "## 6. Select and print the title column from the book table in alphabetical order.\n"
   ]
  },
  {
   "cell_type": "code",
   "execution_count": 14,
   "id": "b9485d0a",
   "metadata": {},
   "outputs": [
    {
     "name": "stdout",
     "output_type": "stream",
     "text": [
      "Perdido Street Station\n",
      "Perdido Street Station\n",
      "Perdido Street Station\n",
      "Small Gods\n",
      "Small Gods\n",
      "Small Gods\n",
      "The Spellmen Files\n",
      "The Spellmen Files\n",
      "The Spellmen Files\n",
      "The Weirdstone of Brisingamen\n",
      "The Weirdstone of Brisingamen\n",
      "The Weirdstone of Brisingamen\n",
      "Thud !\n",
      "Thud !\n",
      "Thud !\n"
     ]
    }
   ],
   "source": [
    "db=sqlite3.connect('books.db')\n",
    "cursor=db.cursor()\n",
    "\n",
    "query='select title from book order by title asc'\n",
    "\n",
    "for i in cursor.execute(query):\n",
    "    print(i[0])"
   ]
  },
  {
   "cell_type": "markdown",
   "id": "eb907209",
   "metadata": {},
   "source": [
    "## 7. From the book table, select and print all columns in the order of publication.\n"
   ]
  },
  {
   "cell_type": "code",
   "execution_count": 15,
   "id": "a8c21f6a",
   "metadata": {},
   "outputs": [
    {
     "name": "stdout",
     "output_type": "stream",
     "text": [
      " Alan Garner\n",
      " Alan Garner\n",
      " Alan Garner\n",
      " China Mieville\n",
      " China Mieville\n",
      " China Mieville\n",
      " Lisa Lutz\n",
      " Lisa Lutz\n",
      " Lisa Lutz\n",
      " Terry Pratchett\n",
      " Terry Pratchett\n",
      " Terry Pratchett\n",
      " Terry Pratchett\n",
      " Terry Pratchett\n",
      " Terry Pratchett\n"
     ]
    }
   ],
   "source": [
    "db=sqlite3.connect('books.db')\n",
    "cursor=db.cursor()\n",
    "\n",
    "query='select author from book order by author asc'\n",
    "\n",
    "for i in cursor.execute(query):\n",
    "    print(i[0])\n",
    "    \n",
    "db.close()"
   ]
  },
  {
   "cell_type": "markdown",
   "id": "eeed45ca",
   "metadata": {},
   "source": [
    "## 8. Use the sqlalchemy module to connect to the sqlite3 database books.db that you just made in exercise 6.\n"
   ]
  },
  {
   "cell_type": "code",
   "execution_count": 18,
   "id": "3e9cbf2f",
   "metadata": {},
   "outputs": [
    {
     "name": "stdout",
     "output_type": "stream",
     "text": [
      "('Perdido Street Station',)\n",
      "('Perdido Street Station',)\n",
      "('Perdido Street Station',)\n",
      "('Small Gods',)\n",
      "('Small Gods',)\n",
      "('Small Gods',)\n",
      "('The Spellmen Files',)\n",
      "('The Spellmen Files',)\n",
      "('The Spellmen Files',)\n",
      "('The Weirdstone of Brisingamen',)\n",
      "('The Weirdstone of Brisingamen',)\n",
      "('The Weirdstone of Brisingamen',)\n",
      "('Thud !',)\n",
      "('Thud !',)\n",
      "('Thud !',)\n"
     ]
    }
   ],
   "source": [
    "import sqlalchemy\n",
    "\n",
    "conn=sqlalchemy.create_engine('sqlite:///books.db')\n",
    "query='select title from book order by title asc'\n",
    "records=conn.execute(query)\n",
    "for i in records:\n",
    "    print(i)"
   ]
  },
  {
   "cell_type": "markdown",
   "id": "3c525d90",
   "metadata": {},
   "source": [
    "## 9. Install the Redis server and the Python redis library (pip install redis) on your computer. Create a Redis hash called test with the fields count (1) and name ('Fester Bestertester'). Print all the fields for test.\n"
   ]
  },
  {
   "cell_type": "code",
   "execution_count": null,
   "id": "0a90c00f",
   "metadata": {},
   "outputs": [],
   "source": [
    "import redis\n",
    "\n",
    "conn = redis.Redis()\n",
    "conn.delete('test')\n",
    "conn.hmset('test', {'count': 1, 'name': 'Fester Bestertester'})\n",
    "conn.hgetall('test')"
   ]
  },
  {
   "cell_type": "markdown",
   "id": "df717b62",
   "metadata": {},
   "source": [
    "## 10. Increment the count field of test and print it.\n"
   ]
  },
  {
   "cell_type": "code",
   "execution_count": null,
   "id": "4a860261",
   "metadata": {},
   "outputs": [],
   "source": [
    "conn.hincrby('test','count', 3)\n"
   ]
  },
  {
   "cell_type": "code",
   "execution_count": null,
   "id": "9d6e98be",
   "metadata": {},
   "outputs": [],
   "source": []
  }
 ],
 "metadata": {
  "kernelspec": {
   "display_name": "Python 3",
   "language": "python",
   "name": "python3"
  },
  "language_info": {
   "codemirror_mode": {
    "name": "ipython",
    "version": 3
   },
   "file_extension": ".py",
   "mimetype": "text/x-python",
   "name": "python",
   "nbconvert_exporter": "python",
   "pygments_lexer": "ipython3",
   "version": "3.8.8"
  }
 },
 "nbformat": 4,
 "nbformat_minor": 5
}
