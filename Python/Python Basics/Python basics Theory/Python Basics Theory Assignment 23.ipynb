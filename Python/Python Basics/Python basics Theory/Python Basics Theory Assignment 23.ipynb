{
 "cells": [
  {
   "cell_type": "markdown",
   "id": "7a0f0530",
   "metadata": {},
   "source": [
    "# 1. What is the result of the code, and why?\n",
    "def func(a, b=6, c=8):\n",
    "    \n",
    "    print(a, b, c)\n",
    "    \n",
    "func(1, 2)\n"
   ]
  },
  {
   "cell_type": "raw",
   "id": "d9e3eb5d",
   "metadata": {},
   "source": [
    "1 2 8\n",
    "\n",
    "a=1: Because the position of 'a' and 1 is same at calling part as well as in parameter part.\n",
    "\n",
    "b=2:* variable b is mention with its name in both the side(at function definition and at function calling) but during the time of func call if any value is provided to that variable, it will overwrite that value\n",
    "\n",
    "c=8: The function call doesn't state the value of c, therefore it will retain its old value (i.e. 8)"
   ]
  },
  {
   "cell_type": "markdown",
   "id": "8395f243",
   "metadata": {},
   "source": [
    "# 2. What is the result of this code, and why?\n",
    "def func(a, b, c=5):\n",
    "    \n",
    "    print(a, b, c)\n",
    "\n",
    "func(1, c=3, b=2)\n",
    "\n"
   ]
  },
  {
   "cell_type": "raw",
   "id": "d0fed265",
   "metadata": {},
   "source": [
    "1 2 3\n",
    "\n",
    "a=1: Because the position of 'a' and 1 is same at calling part as well as in parameter part.\n",
    "\n",
    "b=2:* variable b is mention with its name in both the side(at function definition and at function calling) so whatever the value is provided inn the arguemnt during its call, it will stored the same.\n",
    "\n",
    "c=3: Although c is a default arguement but during the time of func call if any value is provided to that variable, it will overwrite that value"
   ]
  },
  {
   "cell_type": "markdown",
   "id": "02bca634",
   "metadata": {},
   "source": [
    "# 3. How about this code: what is its result, and why?\n",
    "def func(a, *pargs):\n",
    "    \n",
    "    print(a, pargs)\n",
    "    \n",
    "func(1, 2, 3)\n"
   ]
  },
  {
   "cell_type": "raw",
   "id": "01acb56a",
   "metadata": {},
   "source": [
    "1 (2, 3)\n",
    "\n",
    "1: variable 'a' will take the value 1 as both are at the same position\n",
    "\n",
    "(2,3): *pargs is something which means that it can take any number of value. Any number of values can be pass during the function call. The return type of this arguement is a tuple"
   ]
  },
  {
   "cell_type": "markdown",
   "id": "7b91a840",
   "metadata": {},
   "source": [
    "# 4. What does this code print, and why?\n",
    "def func(a, **kargs):\n",
    "    \n",
    "    print(a, kargs)\n",
    "\n",
    "func(a=1, c=3, b=2)\n"
   ]
  },
  {
   "cell_type": "raw",
   "id": "05f5cab9",
   "metadata": {},
   "source": [
    "1 {'c': 3, 'b': 2}\n",
    "\n",
    "1: Value of a is provided at the time of function call\n",
    "\n",
    "{'c': 3, 'b': 2} : **kwargs is something which take the value in the form of assignment operator and return type is dictionary of key and value pairs where keys is the 'variable"
   ]
  },
  {
   "cell_type": "markdown",
   "id": "286ad73c",
   "metadata": {},
   "source": [
    "# 5. What gets printed by this, and explain?\n",
    "def func(a, b, c=8, d=5): \n",
    "    \n",
    "    print(a, b, c, d)\n",
    "\n",
    "    \n",
    "    \n",
    "func(1, *(5, 6))\n"
   ]
  },
  {
   "cell_type": "raw",
   "id": "afd42463",
   "metadata": {},
   "source": [
    "1 5 6 5\n",
    "\n",
    "1: Same as above reason\n",
    "\n",
    "5 and 6: with respect to their position b will get 5 and since c will be reassigned with value 6 and remaining d will be having value with its default arguement"
   ]
  },
  {
   "cell_type": "markdown",
   "id": "3d36d2f7",
   "metadata": {},
   "source": [
    "# 6. what is the result of this, and explain?\n",
    "def func(a, b, c):\n",
    "\n",
    "    a = 2 \n",
    "\n",
    "    b[0] = 'x'\n",
    "\n",
    "    c['a'] = 'y'\n",
    "l=1\n",
    "\n",
    "m=[1]\n",
    "\n",
    "n={'a':0}\n",
    "\n",
    "func(l, m, n)\n",
    "\n",
    "l,m,n"
   ]
  },
  {
   "cell_type": "raw",
   "id": "fc925372",
   "metadata": {},
   "source": [
    "(1, ['x'], {'a': 'y'})\n",
    "\n",
    "l==a\n",
    "\n",
    "m==b: 'm' is a list having jus one value i.e. 1 which has index position 0. So when 'm' pass to the parameter 'b', their will be reassiging happen at index position 0 with value 'x'\n",
    "\n",
    "n==c Here the value of key 'a' will get updated by 'y' as 'c['a']=y'\n"
   ]
  }
 ],
 "metadata": {
  "kernelspec": {
   "display_name": "Python 3",
   "language": "python",
   "name": "python3"
  },
  "language_info": {
   "codemirror_mode": {
    "name": "ipython",
    "version": 3
   },
   "file_extension": ".py",
   "mimetype": "text/x-python",
   "name": "python",
   "nbconvert_exporter": "python",
   "pygments_lexer": "ipython3",
   "version": "3.8.8"
  }
 },
 "nbformat": 4,
 "nbformat_minor": 5
}
