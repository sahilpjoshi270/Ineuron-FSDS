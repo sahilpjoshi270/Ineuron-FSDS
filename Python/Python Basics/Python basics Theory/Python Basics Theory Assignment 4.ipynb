{
 "cells": [
  {
   "cell_type": "markdown",
   "id": "b7481df6",
   "metadata": {},
   "source": [
    "# 1. What exactly is []?\n"
   ]
  },
  {
   "cell_type": "code",
   "execution_count": null,
   "id": "6a9659ec",
   "metadata": {},
   "outputs": [],
   "source": [
    " Ans) [] is an indexing oparator used to access items in a list\n"
   ]
  },
  {
   "cell_type": "markdown",
   "id": "5b1cd948",
   "metadata": {},
   "source": [
    "# 2. In a list of values stored in a variable called spam, how would you assign the value 'hello' as the third value? (Assume [2, 4, 6, 8, 10] are in spam.)\n"
   ]
  },
  {
   "cell_type": "code",
   "execution_count": null,
   "id": "c8de9530",
   "metadata": {},
   "outputs": [],
   "source": [
    "Ans) By using .insert() function :-\n",
    "    spam.insert(3,'hello')\n"
   ]
  },
  {
   "cell_type": "markdown",
   "id": "c25e86ac",
   "metadata": {},
   "source": [
    "# Let's pretend the spam includes the list ['a', 'b', 'c', 'd'] for the next three queries.\n",
    "\n",
    "# 3. What is the value of spam[int(int('3' * 2) / 11)]?\n"
   ]
  },
  {
   "cell_type": "code",
   "execution_count": null,
   "id": "42269fb2",
   "metadata": {},
   "outputs": [],
   "source": [
    "Ans) The value of the following equation will be'd'"
   ]
  },
  {
   "cell_type": "markdown",
   "id": "d57b02c6",
   "metadata": {},
   "source": [
    "# 4. What is the value of spam[-1]?\n"
   ]
  },
  {
   "cell_type": "code",
   "execution_count": null,
   "id": "4fa0bdb5",
   "metadata": {},
   "outputs": [],
   "source": [
    "Ans) The value of the following equation will be'd'"
   ]
  },
  {
   "cell_type": "markdown",
   "id": "c897505a",
   "metadata": {},
   "source": [
    "# 5. What is the value of spam[:2]?\n"
   ]
  },
  {
   "cell_type": "code",
   "execution_count": null,
   "id": "21bca2cb",
   "metadata": {},
   "outputs": [],
   "source": [
    "Ans) The value of the following equation will be ['a','b']\n"
   ]
  },
  {
   "cell_type": "markdown",
   "id": "4d7d8f99",
   "metadata": {},
   "source": [
    "# Let's pretend bacon has the list [3.14, 'cat,' 11, 'cat,' True] for the next three questions.\n",
    "\n",
    "# 6. What is the value of bacon.index('cat')?"
   ]
  },
  {
   "cell_type": "code",
   "execution_count": null,
   "id": "c2916dcd",
   "metadata": {},
   "outputs": [],
   "source": [
    "Ans) The value of bacon.index('cat') will be 1\n"
   ]
  },
  {
   "cell_type": "markdown",
   "id": "45f32a63",
   "metadata": {},
   "source": [
    "# 7. How does bacon.append(99) change the look of the list value in bacon?\n"
   ]
  },
  {
   "cell_type": "code",
   "execution_count": null,
   "id": "c3506080",
   "metadata": {},
   "outputs": [],
   "source": [
    "Ans) bacon.append(99) adds the element 99 in the end of the list."
   ]
  },
  {
   "cell_type": "markdown",
   "id": "fa0ab68c",
   "metadata": {},
   "source": [
    "# 8. How does bacon.remove('cat') change the look of the list in bacon?\n"
   ]
  },
  {
   "cell_type": "code",
   "execution_count": null,
   "id": "f33c9cc6",
   "metadata": {},
   "outputs": [],
   "source": [
    "Ans) bacon.remove('cat') removes the element 'cat' from the 1st index of the list where it first appeared"
   ]
  },
  {
   "cell_type": "markdown",
   "id": "99d06ac9",
   "metadata": {},
   "source": [
    "# 9. What are the list concatenation and list replication operators?\n"
   ]
  },
  {
   "cell_type": "code",
   "execution_count": null,
   "id": "258e8292",
   "metadata": {},
   "outputs": [],
   "source": [
    "Ans) When you need to join two or more string variables you perform list concatenation.\n",
    "     By using + operator between the two strings\n",
    "    \n",
    "    When you need to duplicate a string you perform list replication by using * operator."
   ]
  },
  {
   "cell_type": "markdown",
   "id": "1f17af4d",
   "metadata": {},
   "source": [
    "# 10. What is difference between the list methods append() and insert()?\n"
   ]
  },
  {
   "cell_type": "code",
   "execution_count": null,
   "id": "68e2ce35",
   "metadata": {},
   "outputs": [],
   "source": [
    "Ans) append() allows us to add an element at the end of a string whereas insert() allows us to add a certain element \n",
    "     at a perticular index inside the list"
   ]
  },
  {
   "cell_type": "markdown",
   "id": "91bbfa0f",
   "metadata": {},
   "source": [
    "# 11. What are the two methods for removing items from a list?\n"
   ]
  },
  {
   "cell_type": "code",
   "execution_count": null,
   "id": "4ca29b7c",
   "metadata": {},
   "outputs": [],
   "source": [
    "Ans) Two methods of removing items from a list are:-\n",
    "    1. remove()\n",
    "    2. pop()\n"
   ]
  },
  {
   "cell_type": "markdown",
   "id": "d4086b94",
   "metadata": {},
   "source": [
    "# 12. Describe how list values and string values are identical.\n"
   ]
  },
  {
   "cell_type": "code",
   "execution_count": null,
   "id": "07a11be4",
   "metadata": {},
   "outputs": [],
   "source": [
    "Ans) Both list values and string values are sequence types, the both behave like a sequence."
   ]
  },
  {
   "cell_type": "markdown",
   "id": "1c590432",
   "metadata": {},
   "source": [
    "# 13. What's the difference between tuples and lists?\n"
   ]
  },
  {
   "cell_type": "code",
   "execution_count": null,
   "id": "789703e5",
   "metadata": {},
   "outputs": [],
   "source": [
    "Ans) The main diffrence between tuples and lists are tuples are immutable wheras lists are mutable"
   ]
  },
  {
   "cell_type": "markdown",
   "id": "e7aad0d1",
   "metadata": {},
   "source": [
    "# 14. How do you type a tuple value that only contains the integer 42?\n"
   ]
  },
  {
   "cell_type": "code",
   "execution_count": null,
   "id": "c93cc3b5",
   "metadata": {},
   "outputs": [],
   "source": [
    "Ans) tuple1 = (42,)"
   ]
  },
  {
   "cell_type": "markdown",
   "id": "8578eb5a",
   "metadata": {},
   "source": [
    "# 15. How do you get a list value's tuple form? How do you get a tuple value's list form?\n"
   ]
  },
  {
   "cell_type": "code",
   "execution_count": null,
   "id": "090dd3fb",
   "metadata": {},
   "outputs": [],
   "source": [
    "Ans) list values can be converted into tuples by enclosing the list name inside tuple()\n",
    "\n",
    "eg. lst1 = [1,5,77]\n",
    "b\n",
    "    tup = tuple(lst1)\n",
    "    \n",
    "    Tuple values can be generated into list form, call list() builtin function and pass the tuple\n",
    "\n",
    "eg. tuple1 = (77,22,43,888)\n",
    "    lst = list(tuple1)"
   ]
  },
  {
   "cell_type": "markdown",
   "id": "7f624080",
   "metadata": {},
   "source": [
    "# 16. Variablesb that \"contain\" list values are not necessarily lists themselves. Instead, what do they contain?\n"
   ]
  },
  {
   "cell_type": "code",
   "execution_count": null,
   "id": "d809cad6",
   "metadata": {},
   "outputs": [],
   "source": [
    "Ans) Variables will contain references to the list value rather than the list values themselves"
   ]
  },
  {
   "cell_type": "markdown",
   "id": "36f1c95f",
   "metadata": {},
   "source": [
    "# 17. How do you distinguish between copy.copy() and copy.deepcopy()?\n"
   ]
  },
  {
   "cell_type": "code",
   "execution_count": null,
   "id": "d712e11c",
   "metadata": {},
   "outputs": [],
   "source": []
  }
 ],
 "metadata": {
  "kernelspec": {
   "display_name": "Python 3",
   "language": "python",
   "name": "python3"
  },
  "language_info": {
   "codemirror_mode": {
    "name": "ipython",
    "version": 3
   },
   "file_extension": ".py",
   "mimetype": "text/x-python",
   "name": "python",
   "nbconvert_exporter": "python",
   "pygments_lexer": "ipython3",
   "version": "3.8.8"
  }
 },
 "nbformat": 4,
 "nbformat_minor": 5
}
