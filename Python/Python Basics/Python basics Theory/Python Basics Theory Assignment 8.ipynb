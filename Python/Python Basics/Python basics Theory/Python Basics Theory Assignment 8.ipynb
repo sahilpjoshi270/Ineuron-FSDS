{
 "cells": [
  {
   "cell_type": "markdown",
   "id": "ab543e24",
   "metadata": {},
   "source": [
    "# 1. Is the Python Standard Library included with PyInputPlus?\n"
   ]
  },
  {
   "cell_type": "code",
   "execution_count": null,
   "id": "b5e1139f",
   "metadata": {},
   "outputs": [],
   "source": [
    "Ans) PyInputPlus is a python module used for taking inputs with additional validation features.\n",
    "    It is not included with the Python Standard Library. You have to run the following command :- pip install PyInputPlus"
   ]
  },
  {
   "cell_type": "markdown",
   "id": "e8dff63f",
   "metadata": {},
   "source": [
    "# 2. Why is PyInputPlus commonly imported with import pyinputplus as pypi?\n"
   ]
  },
  {
   "cell_type": "code",
   "execution_count": null,
   "id": "db8d5013",
   "metadata": {},
   "outputs": [],
   "source": [
    "Ans)  PyInputPlus commonly imported with import pyinputplus as pypi so that you can enter a shorter name when calling the module’s functions."
   ]
  },
  {
   "cell_type": "markdown",
   "id": "d3cd0dea",
   "metadata": {},
   "source": [
    "# 3. How do you distinguish between inputInt() and inputFloat()?\n"
   ]
  },
  {
   "cell_type": "code",
   "execution_count": null,
   "id": "396062fc",
   "metadata": {},
   "outputs": [],
   "source": []
  },
  {
   "cell_type": "markdown",
   "id": "ea7049a9",
   "metadata": {},
   "source": [
    "Ans) inputInt() :- Accepts integer values \n",
    "     inputFloat() :- Accepts Float values"
   ]
  },
  {
   "cell_type": "markdown",
   "id": "39cc6970",
   "metadata": {},
   "source": [
    "# 4. Using PyInputPlus, how do you ensure that the user enters a whole number between 0 and 99?\n"
   ]
  },
  {
   "cell_type": "code",
   "execution_count": null,
   "id": "9bfc18f1",
   "metadata": {},
   "outputs": [],
   "source": [
    "Ans) By using pyip.inputint(min=0, max=99)"
   ]
  },
  {
   "cell_type": "markdown",
   "id": "a3a61455",
   "metadata": {},
   "source": [
    "# 5. What is transferred to the keyword arguments allowRegexes and blockRegexes?\n"
   ]
  },
  {
   "cell_type": "code",
   "execution_count": null,
   "id": "846a39ea",
   "metadata": {},
   "outputs": [],
   "source": [
    "Ans) You can also use regular expressions to specify whether an input is allowed or not. \n",
    "    The allowRegexes and blockRegexes keyword arguments take a list of regular expression strings to \n",
    "    determine what the PyInputPlus function will accept or reject as valid input."
   ]
  },
  {
   "cell_type": "markdown",
   "id": "5846acd5",
   "metadata": {},
   "source": [
    "# 6. If a blank input is entered three times, what does inputStr(limit=3) do?\n"
   ]
  },
  {
   "cell_type": "code",
   "execution_count": null,
   "id": "f9e91947",
   "metadata": {},
   "outputs": [],
   "source": [
    "Ans) The limit keyword argument to determine how many attempts a PyInputPlus function will make to \n",
    "     receive valid input before giving up. SO it will print the default value for 3 times"
   ]
  },
  {
   "cell_type": "markdown",
   "id": "369a310b",
   "metadata": {},
   "source": [
    "# 7. If blank input is entered three times, what does inputStr(limit=3, default='hello') do?\n"
   ]
  },
  {
   "cell_type": "code",
   "execution_count": null,
   "id": "3e1c264f",
   "metadata": {},
   "outputs": [],
   "source": [
    "Ans)  It would print 'hello' 3 times before the limit of the function hits."
   ]
  }
 ],
 "metadata": {
  "kernelspec": {
   "display_name": "Python 3",
   "language": "python",
   "name": "python3"
  },
  "language_info": {
   "codemirror_mode": {
    "name": "ipython",
    "version": 3
   },
   "file_extension": ".py",
   "mimetype": "text/x-python",
   "name": "python",
   "nbconvert_exporter": "python",
   "pygments_lexer": "ipython3",
   "version": "3.8.8"
  }
 },
 "nbformat": 4,
 "nbformat_minor": 5
}
