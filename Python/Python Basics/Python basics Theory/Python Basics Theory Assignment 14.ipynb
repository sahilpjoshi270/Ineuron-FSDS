{
 "cells": [
  {
   "cell_type": "markdown",
   "id": "9004f6f7",
   "metadata": {},
   "source": [
    "# 1. What does RGBA stand for?\n"
   ]
  },
  {
   "cell_type": "code",
   "execution_count": null,
   "id": "d212c017",
   "metadata": {},
   "outputs": [],
   "source": [
    "Ans) RGBA stand for Red-Green-Blue-Alpha. An RGBA value is a group of numbers that specify the amount of red, green,\n",
    "     blue, and alpha (or transparency) in a color.\n"
   ]
  },
  {
   "cell_type": "markdown",
   "id": "0e1cb0df",
   "metadata": {},
   "source": [
    "# 2. From the Pillow module, how do you get the RGBA value of any images?\n"
   ]
  },
  {
   "cell_type": "code",
   "execution_count": null,
   "id": "ef5e8569",
   "metadata": {},
   "outputs": [],
   "source": [
    "Ans) Pillow offers the ImageColor.getcolor() function This function takes a color name string as its first argument, \n",
    "     and the string 'RGBA' as its second argument, and it returns an RGBA tuple."
   ]
  },
  {
   "cell_type": "markdown",
   "id": "2b7ae04a",
   "metadata": {},
   "source": [
    "# 3. What is a box tuple, and how does it work?\n"
   ]
  },
  {
   "cell_type": "code",
   "execution_count": null,
   "id": "bc8a8726",
   "metadata": {},
   "outputs": [],
   "source": [
    "Ans) Box Tuple means Pillow is expecting a tuple of four integer coordinates that represent a rectangular region in an image.\n",
    "     Left: The x-coordinate of the leftmost edge of the box.\n",
    "\n",
    "     Top: The y-coordinate of the top edge of the box.\n",
    "\n",
    "     Right: The x-coordinate of one pixel to the right of the rightmost edge of the box. This integer must be greater than the left integer.\n",
    "\n",
    "     Bottom: The y-coordinate of one pixel lower than the bottom edge of the box. This integer must be greater than the top integer.\n",
    "\n"
   ]
  },
  {
   "cell_type": "markdown",
   "id": "f31ee65f",
   "metadata": {},
   "source": [
    "# 4. Use your image and load in notebook then, How can you find out the width and height of an Image object?\n"
   ]
  },
  {
   "cell_type": "code",
   "execution_count": null,
   "id": "80ddb564",
   "metadata": {},
   "outputs": [],
   "source": [
    "# Ans)  \n",
    "import os\n",
    "from PIL import Image\n",
    "img1=Image.open('s1.jpg')\n",
    "width,hieght=img1.size\n"
   ]
  },
  {
   "cell_type": "markdown",
   "id": "aa1b8947",
   "metadata": {},
   "source": [
    "# 5. What method would you call to get Image object for a 100×100 image, excluding the lower-left quarter of it?\n"
   ]
  },
  {
   "cell_type": "code",
   "execution_count": null,
   "id": "585e98fe",
   "metadata": {},
   "outputs": [],
   "source": []
  },
  {
   "cell_type": "markdown",
   "id": "df649332",
   "metadata": {},
   "source": [
    "# 6. After making changes to an Image object, how could you save it as an image file?\n"
   ]
  },
  {
   "cell_type": "code",
   "execution_count": null,
   "id": "a892c84e",
   "metadata": {},
   "outputs": [],
   "source": [
    "Ans) Calling the save() method and passing it 'Image1.jpg' saves a new image with the filename Image1.jpg to your hard drive."
   ]
  },
  {
   "cell_type": "markdown",
   "id": "1ddef0c4",
   "metadata": {},
   "source": [
    "# 7. What module contains Pillow’s shape-drawing code?\n"
   ]
  },
  {
   "cell_type": "code",
   "execution_count": null,
   "id": "b4bfc694",
   "metadata": {},
   "outputs": [],
   "source": [
    "Ans)ImageDraw contains Pillow’s shape-drawing code. It draws various kinds of shapes on the image"
   ]
  },
  {
   "cell_type": "markdown",
   "id": "c21fff43",
   "metadata": {},
   "source": [
    "# 8. Image objects do not have drawing methods. What kind of object does? How do you get this kind of object?\n"
   ]
  },
  {
   "cell_type": "code",
   "execution_count": null,
   "id": "e482ec03",
   "metadata": {},
   "outputs": [],
   "source": []
  }
 ],
 "metadata": {
  "kernelspec": {
   "display_name": "Python 3",
   "language": "python",
   "name": "python3"
  },
  "language_info": {
   "codemirror_mode": {
    "name": "ipython",
    "version": 3
   },
   "file_extension": ".py",
   "mimetype": "text/x-python",
   "name": "python",
   "nbconvert_exporter": "python",
   "pygments_lexer": "ipython3",
   "version": "3.8.8"
  }
 },
 "nbformat": 4,
 "nbformat_minor": 5
}
