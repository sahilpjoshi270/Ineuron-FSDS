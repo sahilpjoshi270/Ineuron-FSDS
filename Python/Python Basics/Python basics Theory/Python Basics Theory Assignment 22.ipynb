{
 "cells": [
  {
   "cell_type": "markdown",
   "id": "9ee9e838",
   "metadata": {},
   "source": [
    "# 1. What is the result of the code, and explain?\n",
    "\n",
    "\n",
    "X = 'iNeuron'\n",
    "\n",
    "def func():\n",
    "    \n",
    "    print(X)\n",
    "\n",
    "\n",
    "func()\n",
    "\n",
    "\n"
   ]
  },
  {
   "cell_type": "raw",
   "id": "496dcfba",
   "metadata": {},
   "source": [
    "'iNeuron' will be the output of this code.\n",
    "\n",
    "As X is a global variable, it is ok that it is defined outside the function(func()), but it will act globally and wherever it is used it will give the same value."
   ]
  },
  {
   "cell_type": "markdown",
   "id": "82fb4cb8",
   "metadata": {},
   "source": [
    "# 2. What is the result of the code, and explain?\n",
    "\n",
    "\n",
    "X = 'iNeuron'\n",
    "\n",
    "def func():\n",
    "    \n",
    "    X = 'NI!'\n",
    "\n",
    "\n",
    "func()\n",
    "\n",
    "print(X)\n",
    "\n",
    "\n"
   ]
  },
  {
   "cell_type": "raw",
   "id": "a9deffce",
   "metadata": {},
   "source": [
    "'iNeuron' will be the output of this code.\n",
    "\n",
    "As X is a global variable and it is executing outside the function so it will give the same value which is declared outside the function. \n",
    "\n",
    "Inside the function we have a local variable X='NI!'. If it was executed inside the function then we will be getting the output 'NI!'"
   ]
  },
  {
   "cell_type": "markdown",
   "id": "f3de9aa6",
   "metadata": {},
   "source": [
    "# 3. What does this code print, and why?\n",
    "\n",
    "\n",
    "X = 'iNeuron'\n",
    "\n",
    "def func():\n",
    "    \n",
    "    X = 'NI'\n",
    "    print(X)\n",
    "\n",
    "func()\n",
    "\n",
    "print(X)\n",
    "\n",
    "\n"
   ]
  },
  {
   "cell_type": "raw",
   "id": "7082474f",
   "metadata": {},
   "source": [
    "NI iNeuron\n",
    "\n",
    "X = 'NI' is a local variable so anywhere inside the function it will get executed so it will give this result\n",
    "\n",
    "X = 'iNeuron' is global variable so outside the function its value will remain the same."
   ]
  },
  {
   "cell_type": "markdown",
   "id": "14f595a4",
   "metadata": {},
   "source": [
    "# 4. What output does this code produce? Why?\n",
    "\n",
    "\n",
    "X = 'iNeuron'\n",
    "\n",
    "def func():\n",
    "    \n",
    "    global X\n",
    "    X = 'NI'\n",
    "\n",
    "\n",
    "func()\n",
    "\n",
    "print(X)\n",
    "\n",
    "\n"
   ]
  },
  {
   "cell_type": "raw",
   "id": "31af6e1a",
   "metadata": {},
   "source": [
    "NI\n",
    "\n",
    "By using global keyword we convert the local variable (X='NI') into global variable. Now its scope will be outside the function which was not earlier when it was a local variable thats why we are getting NI as output"
   ]
  },
  {
   "cell_type": "markdown",
   "id": "814d78d1",
   "metadata": {},
   "source": [
    "# 5. What about this code—what’s the output, and why?\n",
    "\n",
    "X = 'iNeuron\n",
    "\n",
    "def func():\n",
    "\n",
    "    X = 'NI'\n",
    "def nested():\n",
    "    \n",
    "    print(X)\n",
    "    nested()\n",
    "\n",
    "\n",
    "func()\n",
    "\n",
    "X\n",
    "\n",
    "\n"
   ]
  },
  {
   "cell_type": "raw",
   "id": "80c040f8",
   "metadata": {},
   "source": [
    "NI\n",
    "iNeuron\n",
    "For nested function X='NI' is a global variable so it will give 'NI' in return\n",
    "\n",
    "For X which is outside the function scope, is itself a global variable"
   ]
  },
  {
   "cell_type": "markdown",
   "id": "eaae51f7",
   "metadata": {},
   "source": [
    "# 6. How about this code: what is its output in Python 3, and explain?\n",
    "\n",
    "\n",
    "def func():\n",
    "    \n",
    "    X = 'NI'\n",
    "def nested():\n",
    "    \n",
    "    nonlocal X\n",
    "    X = 'Spam'\n",
    "    nested()\n",
    "    print(X)\n",
    "\n",
    "\n",
    "func()\n",
    "\n",
    "\n",
    "\n",
    "\n",
    "\n"
   ]
  },
  {
   "cell_type": "raw",
   "id": "42401ffb",
   "metadata": {},
   "source": [
    "Spam\n",
    "\n",
    "nonlocal is a keyword used in nested function where the variable is made nonlocal meaning, it can not be treated as local variable in that nested function. However its scope will becomes at outside of the nested function. So thats why we are getting this output"
   ]
  }
 ],
 "metadata": {
  "kernelspec": {
   "display_name": "Python 3",
   "language": "python",
   "name": "python3"
  },
  "language_info": {
   "codemirror_mode": {
    "name": "ipython",
    "version": 3
   },
   "file_extension": ".py",
   "mimetype": "text/x-python",
   "name": "python",
   "nbconvert_exporter": "python",
   "pygments_lexer": "ipython3",
   "version": "3.8.8"
  }
 },
 "nbformat": 4,
 "nbformat_minor": 5
}
