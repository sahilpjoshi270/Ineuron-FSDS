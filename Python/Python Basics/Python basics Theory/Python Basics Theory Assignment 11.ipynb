{
 "cells": [
  {
   "cell_type": "markdown",
   "id": "33d38ba5",
   "metadata": {},
   "source": [
    "# 1. Create an assert statement that throws an AssertionError if the variable spam is a negative integer.\n",
    " \n",
    "\n"
   ]
  },
  {
   "cell_type": "code",
   "execution_count": null,
   "id": "38e7a1f4",
   "metadata": {},
   "outputs": [],
   "source": [
    "spam = int(input(\"Enter a no.\"))\n",
    "assert spam > 0, 'Your spam is negative'"
   ]
  },
  {
   "cell_type": "markdown",
   "id": "22d2820b",
   "metadata": {},
   "source": [
    "# 2. Write an assert statement that triggers an AssertionError if the variables eggs and bacon contain strings that are the same as each other, even if their cases are different (that is, 'hello' and 'hello' are considered the same, and 'goodbye' and 'GOODbye' are also considered the same).\n",
    "\n"
   ]
  },
  {
   "cell_type": "code",
   "execution_count": null,
   "id": "ca05e05b",
   "metadata": {},
   "outputs": [],
   "source": [
    "eggs = 'hello'\n",
    "bacon = 'good bye'\n",
    "\n",
    "assert eggs.upper() != bacon.upper(), 'eggs/bacon should not be the same!'"
   ]
  },
  {
   "cell_type": "markdown",
   "id": "ace90280",
   "metadata": {},
   "source": [
    "# 3. Create an assert statement that throws an AssertionError every time.\n",
    "\n"
   ]
  },
  {
   "cell_type": "code",
   "execution_count": null,
   "id": "5fe2ca59",
   "metadata": {},
   "outputs": [],
   "source": [
    "k = int(input(\"Enter a no.\"))\n",
    "assert(k == 'l') \n"
   ]
  },
  {
   "cell_type": "markdown",
   "id": "98ee6ebb",
   "metadata": {},
   "source": [
    "# 4. What are the two lines that must be present in your software in order to call logging.debug()?\n"
   ]
  },
  {
   "cell_type": "code",
   "execution_count": null,
   "id": "3c50ecdb",
   "metadata": {},
   "outputs": [],
   "source": []
  },
  {
   "cell_type": "markdown",
   "id": "55376d5f",
   "metadata": {},
   "source": [
    "# 5. What are the two lines that your program must have in order to have logging.debug() send a logging message to a file named programLog.txt?\n"
   ]
  },
  {
   "cell_type": "code",
   "execution_count": null,
   "id": "f83a0642",
   "metadata": {},
   "outputs": [],
   "source": [
    "# Ans)\n",
    "import logging\n",
    "logging.basicConfig()\n",
    "    filename='programLog.txt',\n",
    "    level=logging.DEBUG,\n",
    "    format='%(asctime)s - %(levelname)s - %(message)s')"
   ]
  },
  {
   "cell_type": "markdown",
   "id": "bf37cf3c",
   "metadata": {},
   "source": [
    "# 6. What are the five levels of logging?\n"
   ]
  },
  {
   "cell_type": "code",
   "execution_count": null,
   "id": "07919485",
   "metadata": {},
   "outputs": [],
   "source": [
    "Ans) logging.debug() - variable's state and small details\n",
    "     logging.info() - general events, confirm a program is working\n",
    "     logging.warning() - potiental problem to work on in the future\n",
    "     logging.error() - record an error that caused program to fail to do something\n",
    "     logging.critical() - fatal error that has caused\n"
   ]
  },
  {
   "cell_type": "markdown",
   "id": "74d44719",
   "metadata": {},
   "source": [
    "# 7. What line of code would you add to your software to disable all logging messages?\n"
   ]
  },
  {
   "cell_type": "code",
   "execution_count": null,
   "id": "64f32056",
   "metadata": {},
   "outputs": [],
   "source": [
    "# Ans)\n",
    "logging.disable(logging.DEBUG)\n"
   ]
  },
  {
   "cell_type": "markdown",
   "id": "f79da64e",
   "metadata": {},
   "source": [
    "# 8.Why is using logging messages better than using print() to display the same message?\n"
   ]
  },
  {
   "cell_type": "code",
   "execution_count": null,
   "id": "f41f581d",
   "metadata": {},
   "outputs": [],
   "source": [
    "Ans) Because it is easy to see where and when even what line no. a logging call is being made from.\n",
    "     You can log to files, sockets, pretty much anything, all at the same time.\n",
    "     You can differentiate your logging based on severity."
   ]
  },
  {
   "cell_type": "markdown",
   "id": "30992e60",
   "metadata": {},
   "source": [
    "# 9. What are the differences between the Step Over, Step In, and Step Out buttons in the debugger?\n"
   ]
  },
  {
   "cell_type": "code",
   "execution_count": null,
   "id": "b154645a",
   "metadata": {},
   "outputs": [],
   "source": [
    "Ans) Step Over:\n",
    "     A method is about to be invoked, but you're not interested in debugging this particular invocation, \n",
    "     so you want the debugger to execute that method completely as one entire step.\n",
    "     \n",
    "     Step In:\n",
    "\n",
    "     This command lets the application execute the next action. If the action involves a call to an operation, \n",
    "     it steps into its implementation and breaks the execution on the first action of that implementation."
   ]
  },
  {
   "cell_type": "markdown",
   "id": "ab4cc7e4",
   "metadata": {},
   "source": [
    "# 10. After you click Continue, when will the debugger stop ?\n"
   ]
  },
  {
   "cell_type": "code",
   "execution_count": null,
   "id": "3edd3701",
   "metadata": {},
   "outputs": [],
   "source": [
    "Ans) It goes on until the program terminate or reaches a breakpoint set."
   ]
  },
  {
   "cell_type": "markdown",
   "id": "e2963b49",
   "metadata": {},
   "source": [
    "# 11. What is the concept of a breakpoint?\n"
   ]
  },
  {
   "cell_type": "code",
   "execution_count": null,
   "id": "21dceca9",
   "metadata": {},
   "outputs": [],
   "source": [
    "Ans) A breakpoint is an intentional stopping or pausing place in a program, put in place for debugging purposes."
   ]
  }
 ],
 "metadata": {
  "kernelspec": {
   "display_name": "Python 3",
   "language": "python",
   "name": "python3"
  },
  "language_info": {
   "codemirror_mode": {
    "name": "ipython",
    "version": 3
   },
   "file_extension": ".py",
   "mimetype": "text/x-python",
   "name": "python",
   "nbconvert_exporter": "python",
   "pygments_lexer": "ipython3",
   "version": "3.8.8"
  }
 },
 "nbformat": 4,
 "nbformat_minor": 5
}
