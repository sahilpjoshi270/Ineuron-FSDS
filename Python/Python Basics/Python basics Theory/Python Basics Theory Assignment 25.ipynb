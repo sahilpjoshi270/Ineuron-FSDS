{
 "cells": [
  {
   "cell_type": "markdown",
   "id": "1abfc948",
   "metadata": {},
   "source": [
    "# 1) What is the difference between enclosing a list comprehension in square brackets and parentheses?\n"
   ]
  },
  {
   "cell_type": "raw",
   "id": "80debfe1",
   "metadata": {},
   "source": [
    "The difference can we well understood by the following examples:-\n",
    "\n",
    "l1=[i for i in range(10)] ---> l1=[0 1 2 3 4 5 6 7 8 9] This will give the generator\n",
    "\n",
    "l2=(i for i in range(10)) ---> l2=(0 1 2 3 4 5 6 7 8 9) This will give the tuples of numbers"
   ]
  },
  {
   "cell_type": "markdown",
   "id": "a17d847b",
   "metadata": {},
   "source": [
    "# 2) What is the relationship between generators and iterators?\n"
   ]
  },
  {
   "cell_type": "raw",
   "id": "e3763584",
   "metadata": {},
   "source": [
    "A generator is a function that produces a sequence of results instead of a single value. Each time the yield statement is executed the function generates a new value. So a generator is also an iterator.\n",
    "\n",
    "Iterator is an object that is used to iterate over iterable objects like lists, tuples, dicts, and sets."
   ]
  },
  {
   "cell_type": "markdown",
   "id": "c5b739ce",
   "metadata": {},
   "source": [
    "# 3) What are the signs that a function is a generator function?\n"
   ]
  },
  {
   "cell_type": "raw",
   "id": "023741e8",
   "metadata": {},
   "source": [
    "If a function has yield keyword instead of return then we can say that that is a generator function. We create an object of that generator function and then we can use next function on the generator object to retireve the items one by one or can use for loop also."
   ]
  },
  {
   "cell_type": "markdown",
   "id": "24afacdc",
   "metadata": {},
   "source": [
    "# 4) What is the purpose of a yield statement?\n"
   ]
  },
  {
   "cell_type": "raw",
   "id": "8fd05c50",
   "metadata": {},
   "source": [
    "yield statement makes a generator function. It store the data and throw them one by one simultaneously without destroying the state of the variable.\n",
    "\n",
    "A yield statement is similar to return statement."
   ]
  },
  {
   "cell_type": "markdown",
   "id": "9fe45b51",
   "metadata": {},
   "source": [
    "# 5) What is the relationship between map calls and list comprehensions? Make a comparison and contrast between the two\n"
   ]
  },
  {
   "cell_type": "raw",
   "id": "ed831eab",
   "metadata": {},
   "source": [
    "List comprehension is more concise and easier to read as compared to map.\n",
    "\n",
    "List comprehension are used when a list of results is required as map only returns a map object and does not return any list. However we can use list function to make convert it into a list.\n",
    "\n",
    "Map is faster in case of calling an already defined function."
   ]
  }
 ],
 "metadata": {
  "kernelspec": {
   "display_name": "Python 3",
   "language": "python",
   "name": "python3"
  },
  "language_info": {
   "codemirror_mode": {
    "name": "ipython",
    "version": 3
   },
   "file_extension": ".py",
   "mimetype": "text/x-python",
   "name": "python",
   "nbconvert_exporter": "python",
   "pygments_lexer": "ipython3",
   "version": "3.8.8"
  }
 },
 "nbformat": 4,
 "nbformat_minor": 5
}
