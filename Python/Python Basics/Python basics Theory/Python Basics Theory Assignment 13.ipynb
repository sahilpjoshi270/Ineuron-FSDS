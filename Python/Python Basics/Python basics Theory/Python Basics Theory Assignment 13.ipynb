{
 "cells": [
  {
   "cell_type": "markdown",
   "id": "f9900d12",
   "metadata": {},
   "source": [
    "# 1. What advantages do Excel spreadsheets have over CSV spreadsheets?\n"
   ]
  },
  {
   "cell_type": "code",
   "execution_count": null,
   "id": "a42e0477",
   "metadata": {},
   "outputs": [],
   "source": [
    "Ans)1. Reading large data set is much easier for the end-user to read, comprehend and understand when compared to CSV.\n",
    "    2. Excel is a binary file format that holds information for all workbooks, and it is used in all worksheets. \n",
    "       On the other hand, CSV stands for Comma Separated Values.\n",
    "    3. An Excel not only stores data but can also do operations on the data"
   ]
  },
  {
   "cell_type": "markdown",
   "id": "af22c33d",
   "metadata": {},
   "source": [
    "# 2. What do you pass to csv.reader() and csv.writer() to create reader and writer objects?\n"
   ]
  },
  {
   "cell_type": "code",
   "execution_count": null,
   "id": "6191f3ca",
   "metadata": {},
   "outputs": [],
   "source": [
    "Ans) We first open the CSV file in READ/WRITE mode. The file object is named as csvfile. \n",
    "     And then pass the file object (csvfile) in csv.reader() or csv.writer()\n"
   ]
  },
  {
   "cell_type": "markdown",
   "id": "259c1d40",
   "metadata": {},
   "source": [
    "# 3. What modes do File objects for reader and writer objects need to be opened in?\n",
    " "
   ]
  },
  {
   "cell_type": "code",
   "execution_count": null,
   "id": "1d5dfb77",
   "metadata": {},
   "outputs": [],
   "source": []
  },
  {
   "cell_type": "markdown",
   "id": "2fbfac09",
   "metadata": {},
   "source": [
    "# 4. What method takes a list argument and writes it to a CSV file?\n",
    "\n"
   ]
  },
  {
   "cell_type": "code",
   "execution_count": null,
   "id": "0cba17b7",
   "metadata": {},
   "outputs": [],
   "source": [
    "# Ans) The csvwriter.writerow() method takes a list argument and writes it to a CSV file\n",
    "import csv\n",
    "movies = [\n",
    "    ['don','krish','iron man','thor','inception']\n",
    "]\n",
    "with open('output.csv','w') as result_file:\n",
    "    wr = csv.writer(result_file, dialect='excel')\n",
    "    wr.writerows(movies)"
   ]
  },
  {
   "cell_type": "markdown",
   "id": "4d6f3068",
   "metadata": {},
   "source": [
    "# 5. What do the keyword arguments delimiter and line terminator do?\n"
   ]
  },
  {
   "cell_type": "code",
   "execution_count": 1,
   "id": "b6408559",
   "metadata": {},
   "outputs": [
    {
     "ename": "SyntaxError",
     "evalue": "unmatched ')' (<ipython-input-1-7dae1301e680>, line 1)",
     "output_type": "error",
     "traceback": [
      "\u001b[1;36m  File \u001b[1;32m\"<ipython-input-1-7dae1301e680>\"\u001b[1;36m, line \u001b[1;32m1\u001b[0m\n\u001b[1;33m    Ans) The delimiter is the character that appears between cells on a row. By default, the delimiter for a CSV file is a comma.\u001b[0m\n\u001b[1;37m       ^\u001b[0m\n\u001b[1;31mSyntaxError\u001b[0m\u001b[1;31m:\u001b[0m unmatched ')'\n"
     ]
    }
   ],
   "source": [
    "Ans) The delimiter is the character that appears between cells on a row. By default, the delimiter for a CSV file is a comma. \n",
    "     The line terminator is the character that comes at the end of a row. By default, the line terminator is a newline. \n",
    "     You can change characters to different values by using the delimiter and lineterminator keyword arguments with csv.writer().\n",
    "     Passing delimeter='\\t' and lineterminator='\\n\\n' ❶ changes the character between cells to a tab and \n",
    "     the character between rows to two newlines. "
   ]
  },
  {
   "cell_type": "markdown",
   "id": "61965918",
   "metadata": {},
   "source": [
    "# 6. What function takes a string of JSON data and returns a Python data structure?\n"
   ]
  },
  {
   "cell_type": "code",
   "execution_count": null,
   "id": "94b20488",
   "metadata": {},
   "outputs": [],
   "source": [
    "Ans) loads() takes a string of JSON data and returns a Python data structure"
   ]
  },
  {
   "cell_type": "markdown",
   "id": "91dc68e8",
   "metadata": {},
   "source": [
    "# 7. What function takes a Python data structure and returns a string of JSON data?\n"
   ]
  },
  {
   "cell_type": "code",
   "execution_count": null,
   "id": "f0ccfa78",
   "metadata": {},
   "outputs": [],
   "source": [
    "Ans) dumps() takes a Python data structure and returns a string of JSON data"
   ]
  }
 ],
 "metadata": {
  "kernelspec": {
   "display_name": "Python 3",
   "language": "python",
   "name": "python3"
  },
  "language_info": {
   "codemirror_mode": {
    "name": "ipython",
    "version": 3
   },
   "file_extension": ".py",
   "mimetype": "text/x-python",
   "name": "python",
   "nbconvert_exporter": "python",
   "pygments_lexer": "ipython3",
   "version": "3.8.8"
  }
 },
 "nbformat": 4,
 "nbformat_minor": 5
}
