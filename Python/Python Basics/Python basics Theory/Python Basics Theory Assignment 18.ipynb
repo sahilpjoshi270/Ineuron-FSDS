{
 "cells": [
  {
   "cell_type": "markdown",
   "id": "7149c52c",
   "metadata": {},
   "source": [
    "# 1. Create a zoo.py file first. Define the hours() function, which prints the string 'Open 9-5 daily'. Then, use the interactive interpreter to import the zoo module and call its hours() function.\n"
   ]
  },
  {
   "cell_type": "code",
   "execution_count": 1,
   "id": "4c710551",
   "metadata": {},
   "outputs": [
    {
     "name": "stdout",
     "output_type": "stream",
     "text": [
      "Open 9-5 Daily\n"
     ]
    }
   ],
   "source": [
    "# Ans)\n",
    "\n",
    "import zoo\n",
    "\n",
    "zoo.hours()"
   ]
  },
  {
   "cell_type": "markdown",
   "id": "c1285da9",
   "metadata": {},
   "source": [
    "# 2. In the interactive interpreter, import the zoo module as menagerie and call its hours() function.\n"
   ]
  },
  {
   "cell_type": "code",
   "execution_count": null,
   "id": "4f14df58",
   "metadata": {},
   "outputs": [],
   "source": [
    "# Ans)\n",
    "\n",
    "import zoo as managarie\n",
    "\n",
    "managarie.hours()"
   ]
  },
  {
   "cell_type": "markdown",
   "id": "05a07371",
   "metadata": {},
   "source": [
    "# 3. Using the interpreter, explicitly import and call the hours() function from zoo.\n"
   ]
  },
  {
   "cell_type": "code",
   "execution_count": null,
   "id": "86b0f1df",
   "metadata": {},
   "outputs": [],
   "source": [
    "# Ans)\n",
    "from zoo import hours\n",
    "\n",
    "hours()"
   ]
  },
  {
   "cell_type": "markdown",
   "id": "49437716",
   "metadata": {},
   "source": [
    "# 4. Import the hours() function as info and call it.\n"
   ]
  },
  {
   "cell_type": "code",
   "execution_count": null,
   "id": "7c5abf5a",
   "metadata": {},
   "outputs": [],
   "source": [
    "# Ans)\n",
    "from zoo import hours as info\n",
    "\n",
    "info()"
   ]
  },
  {
   "cell_type": "markdown",
   "id": "ff114721",
   "metadata": {},
   "source": [
    "# 5. Create a plain dictionary with the key-value pairs 'a': 1, 'b': 2, and 'c': 3, and print it out.\n"
   ]
  },
  {
   "cell_type": "code",
   "execution_count": null,
   "id": "667a98d2",
   "metadata": {},
   "outputs": [],
   "source": [
    "# Ans)\n",
    "\n",
    "dicto1 = {'a': 1, 'b': 2,'c': 3}\n",
    "\n",
    "print(dicto1)"
   ]
  },
  {
   "cell_type": "markdown",
   "id": "adf7c630",
   "metadata": {},
   "source": [
    "# 6.Make an OrderedDict called fancy from the same pairs listed in 5 and print it. Did it print in the same order as plain?\n"
   ]
  },
  {
   "cell_type": "code",
   "execution_count": null,
   "id": "312ba34b",
   "metadata": {},
   "outputs": [],
   "source": [
    "# Ans)\n",
    "from collections import OrderedDict\n",
    "\n",
    "pairs = (('a', 1), ('b', 2),('c', 3))\n",
    "\n",
    "\n",
    "fancy = OrderedDict(pairs)\n",
    "print('dict(pairs):', dict(pairs))\n",
    "print('fancy =', fancy)\n",
    "\n",
    "#No, it didnt print same as 5"
   ]
  },
  {
   "cell_type": "markdown",
   "id": "8b2b1715",
   "metadata": {},
   "source": [
    "# 7. Make a default dictionary called dict_of_lists and pass it the argument list. Make the list dict_of_lists['a'] and append the value 'something for a' to it in one assignment. Print dict_of_lists['a'].\n"
   ]
  },
  {
   "cell_type": "code",
   "execution_count": null,
   "id": "bbdae7ba",
   "metadata": {},
   "outputs": [],
   "source": [
    "# Ans)\n",
    "from collections import defaultdict\n",
    "\n",
    "dict_of_list = defaultdict(list)\n",
    "dict_of_list['a'].append('something for a')\n",
    "print(dict_of_list['a'])"
   ]
  }
 ],
 "metadata": {
  "kernelspec": {
   "display_name": "Python 3",
   "language": "python",
   "name": "python3"
  },
  "language_info": {
   "codemirror_mode": {
    "name": "ipython",
    "version": 3
   },
   "file_extension": ".py",
   "mimetype": "text/x-python",
   "name": "python",
   "nbconvert_exporter": "python",
   "pygments_lexer": "ipython3",
   "version": "3.8.8"
  }
 },
 "nbformat": 4,
 "nbformat_minor": 5
}
