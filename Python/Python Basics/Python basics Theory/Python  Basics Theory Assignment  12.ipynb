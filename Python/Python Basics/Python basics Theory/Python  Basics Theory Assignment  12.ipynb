{
 "cells": [
  {
   "cell_type": "markdown",
   "id": "9b1ae751",
   "metadata": {},
   "source": [
    "# 1. In what modes should the PdfFileReader() and PdfFileWriter() File objects will be opened?\n"
   ]
  },
  {
   "cell_type": "code",
   "execution_count": null,
   "id": "ff83f98a",
   "metadata": {},
   "outputs": [],
   "source": [
    "Ans) The PdfFileReader() should be opened in read-binary mone by passing'rb' as the second\n",
    "     argument to open().\n",
    "    PdfFileWriter() needs to be opened in write-binary mode with 'wb'. "
   ]
  },
  {
   "cell_type": "markdown",
   "id": "74824cd8",
   "metadata": {},
   "source": [
    "# 2. From a PdfFileReader object, how do you get a Page object for page 5?\n"
   ]
  },
  {
   "cell_type": "code",
   "execution_count": null,
   "id": "cad6856f",
   "metadata": {},
   "outputs": [],
   "source": [
    "Ans) You can get a Page object by calling the getPage() method on a PdfFileReader object.\n",
    "     \n",
    "     pageObj = pdfReader.getPage(5)"
   ]
  },
  {
   "cell_type": "markdown",
   "id": "e7d65654",
   "metadata": {},
   "source": [
    "# 3. What PdfFileReader variable stores the number of pages in the PDF document?\n"
   ]
  },
  {
   "cell_type": "code",
   "execution_count": null,
   "id": "497d44ea",
   "metadata": {},
   "outputs": [],
   "source": [
    "Ans) The number of pages in a pdf document are stored in numPages attribute of a PdfFileReader object"
   ]
  },
  {
   "cell_type": "markdown",
   "id": "4818551d",
   "metadata": {},
   "source": [
    "# 4. If a PdfFileReader object’s PDF is encrypted with the password swordfish, what must you do before you can obtain Page objects from it?\n"
   ]
  },
  {
   "cell_type": "code",
   "execution_count": null,
   "id": "99d86631",
   "metadata": {},
   "outputs": [],
   "source": [
    "Ans) Some pdfs have encryption that keeps them from being read, so we have to decrypt them by\n",
    "     providing the password as in our case 'swordfish'.\n",
    "    \n",
    "    \n",
    "    import PyPDF2\n",
    "    \n",
    "    pdfReader = PyPDF2.PdfFileReader(open('encrypted.pdf', 'rb'))\n",
    "    pdfReader.decrypt('swordfish')\n",
    "  \n",
    "    pageObj = pdfReader.getPage(5)"
   ]
  },
  {
   "cell_type": "markdown",
   "id": "035242ba",
   "metadata": {},
   "source": [
    "# 5. What methods do you use to rotate a page?\n"
   ]
  },
  {
   "cell_type": "code",
   "execution_count": null,
   "id": "5e2bd020",
   "metadata": {},
   "outputs": [],
   "source": [
    "Ans) We can rotate a page clockwise or counter-clockwise by an angle. \n",
    "     We use rotateClockwise(90) method to rotate the page clockwise by 90-degrees.\n",
    "    "
   ]
  },
  {
   "cell_type": "markdown",
   "id": "3bf718b0",
   "metadata": {},
   "source": [
    "# 6. What is the difference between a Run object and a Paragraph object?\n"
   ]
  },
  {
   "cell_type": "code",
   "execution_count": null,
   "id": "74018c49",
   "metadata": {},
   "outputs": [],
   "source": [
    "Ans) A Run object is a contiguous run of text with the same style. A new Run object is needed whenever the text style changes.\n",
    "     whereas Paragraph objects contains a list of one or more Run objects"
   ]
  },
  {
   "cell_type": "markdown",
   "id": "e6aeda13",
   "metadata": {},
   "source": [
    "# 7. How do you obtain a list of Paragraph objects for a Document object that’s stored in a variable named doc?\n"
   ]
  },
  {
   "cell_type": "code",
   "execution_count": null,
   "id": "f8f8ea47",
   "metadata": {},
   "outputs": [],
   "source": [
    "# Ans) \n",
    "import docx\n",
    "\n",
    "def getText(filename):\n",
    "    doc = docx.Document(filename)\n",
    "    fullText = []\n",
    "    for para in doc.paragraphs:\n",
    "        fullText.append(para.text)       ?????\n",
    "    return '\\n'.join(fullText)"
   ]
  },
  {
   "cell_type": "markdown",
   "id": "8bbffa2a",
   "metadata": {},
   "source": [
    "# 8. What type of object has bold, underline, italic, strike, and outline variables?\n"
   ]
  },
  {
   "cell_type": "code",
   "execution_count": null,
   "id": "d3419abb",
   "metadata": {},
   "outputs": [],
   "source": [
    "Ans) The Run object has bold, underline, italic, strike, and outline variables"
   ]
  },
  {
   "cell_type": "markdown",
   "id": "473749ea",
   "metadata": {},
   "source": [
    "# 9. What is the difference between False, True, and None for the bold variable?\n"
   ]
  },
  {
   "cell_type": "code",
   "execution_count": null,
   "id": "6f144571",
   "metadata": {},
   "outputs": [],
   "source": [
    "Ans) True and False are specific bool values. None is used as a generic placeholder when the value will be set later."
   ]
  },
  {
   "cell_type": "markdown",
   "id": "9ebfa0b6",
   "metadata": {},
   "source": [
    "# 10. How do you create a Document object for a new Word document?\n"
   ]
  },
  {
   "cell_type": "code",
   "execution_count": null,
   "id": "75438071",
   "metadata": {},
   "outputs": [],
   "source": [
    "# Ans) \n",
    "from docx import Document\n",
    "\n",
    "document = Document()\n",
    "document.save('Docxx1.docx')"
   ]
  },
  {
   "cell_type": "markdown",
   "id": "f2b5f554",
   "metadata": {},
   "source": [
    "# 11. How do you add a paragraph with the text 'Hello, there!' to a Document object stored in a variable named doc?\n"
   ]
  },
  {
   "cell_type": "code",
   "execution_count": null,
   "id": "be687f9b",
   "metadata": {},
   "outputs": [],
   "source": [
    "Ans) import docx\n",
    "     doc = docx.Document()\n",
    "     doc.add_paragraph('Hello, there')"
   ]
  },
  {
   "cell_type": "markdown",
   "id": "dd5a3ec3",
   "metadata": {},
   "source": [
    "# 12. What integers represent the levels of headings available in Word documents?\n"
   ]
  },
  {
   "cell_type": "code",
   "execution_count": null,
   "id": "17a39aca",
   "metadata": {},
   "outputs": [],
   "source": [
    "Ans) When the level is set to 0, the string is printed as the title of the document. \n",
    "     For all other values it prints a heading. The size of heading decreases as the level increases. \n",
    "     If no level is set, by default its value is always 1.\n"
   ]
  }
 ],
 "metadata": {
  "kernelspec": {
   "display_name": "Python 3",
   "language": "python",
   "name": "python3"
  },
  "language_info": {
   "codemirror_mode": {
    "name": "ipython",
    "version": 3
   },
   "file_extension": ".py",
   "mimetype": "text/x-python",
   "name": "python",
   "nbconvert_exporter": "python",
   "pygments_lexer": "ipython3",
   "version": "3.8.8"
  }
 },
 "nbformat": 4,
 "nbformat_minor": 5
}
