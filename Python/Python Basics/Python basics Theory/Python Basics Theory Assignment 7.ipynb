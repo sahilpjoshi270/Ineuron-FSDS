{
 "cells": [
  {
   "cell_type": "markdown",
   "id": "5b06e1c8",
   "metadata": {},
   "source": [
    "# 1. What is the name of the feature responsible for generating Regex objects?\n"
   ]
  },
  {
   "cell_type": "code",
   "execution_count": null,
   "id": "87a2343c",
   "metadata": {},
   "outputs": [],
   "source": [
    "Ans) re.compile() creates Regex objects "
   ]
  },
  {
   "cell_type": "markdown",
   "id": "be0a90dd",
   "metadata": {},
   "source": [
    "# 2. Why do raw strings often appear in Regex objects?\n"
   ]
  },
  {
   "cell_type": "code",
   "execution_count": null,
   "id": "e4b6b1ca",
   "metadata": {},
   "outputs": [],
   "source": [
    "Ans) Raw strings are used so that backslashes do not have to be escaped"
   ]
  },
  {
   "cell_type": "markdown",
   "id": "c380ad36",
   "metadata": {},
   "source": [
    "# 3. What is the return value of the search() method?\n"
   ]
  },
  {
   "cell_type": "code",
   "execution_count": null,
   "id": "bb377918",
   "metadata": {},
   "outputs": [],
   "source": [
    "Ans) The search() method returns Match objects."
   ]
  },
  {
   "cell_type": "markdown",
   "id": "e0d7d9d3",
   "metadata": {},
   "source": [
    "# 4. From a Match item, how do you get the actual strings that match the pattern?\n"
   ]
  },
  {
   "cell_type": "code",
   "execution_count": null,
   "id": "0a131e8c",
   "metadata": {},
   "outputs": [],
   "source": [
    "Ans) The group() method returns strings of the matched text."
   ]
  },
  {
   "cell_type": "markdown",
   "id": "af82f6fa",
   "metadata": {},
   "source": [
    "# 5. In the regex which created from the r'(\\d\\d\\d)-(\\d\\d\\d-\\d\\d\\d\\d)', what does group zero cover? Group 2? Group 1?\n"
   ]
  },
  {
   "cell_type": "code",
   "execution_count": null,
   "id": "a1fdc4fc",
   "metadata": {},
   "outputs": [],
   "source": [
    "Ans) Group zero is the entire match, group 1 covers the first set of parentheses, \n",
    "    and group 2 covers the second set of parentheses."
   ]
  },
  {
   "cell_type": "markdown",
   "id": "7237a561",
   "metadata": {},
   "source": [
    "# 6. In standard expression syntax, parentheses and intervals have distinct meanings. How can you tell a regex that you want it to fit real parentheses and periods?\n"
   ]
  },
  {
   "cell_type": "code",
   "execution_count": null,
   "id": "18d2c5f4",
   "metadata": {},
   "outputs": [],
   "source": [
    "Ans) Periods and parentheses can be escaped with a backslash: \\., \\(, and \\)."
   ]
  },
  {
   "cell_type": "markdown",
   "id": "8b404fa0",
   "metadata": {},
   "source": [
    "# 7. The findall() method returns a string list or a list of string tuples. What causes it to return one of the two options?\n"
   ]
  },
  {
   "cell_type": "code",
   "execution_count": null,
   "id": "d741ec23",
   "metadata": {},
   "outputs": [],
   "source": [
    "Ans)If the regex has no groups, a list of strings is returned. \n",
    "    If the regex has groups, a list of tuples of strings is returned."
   ]
  },
  {
   "cell_type": "markdown",
   "id": "acb61d60",
   "metadata": {},
   "source": [
    "# 8. In standard expressions, what does the | character mean?\n"
   ]
  },
  {
   "cell_type": "code",
   "execution_count": null,
   "id": "7812ca47",
   "metadata": {},
   "outputs": [],
   "source": [
    "Ans) The | character signifies matching \"either, or\" between two groups."
   ]
  },
  {
   "cell_type": "markdown",
   "id": "21c9bd91",
   "metadata": {},
   "source": [
    "# 9. In regular expressions, what does the character stand for?\n"
   ]
  },
  {
   "cell_type": "code",
   "execution_count": null,
   "id": "4858b209",
   "metadata": {},
   "outputs": [],
   "source": [
    "Ans)The ? character can either mean \"match zero or one of the preceding group\" or be used to signify nongreedy matching."
   ]
  },
  {
   "cell_type": "markdown",
   "id": "e62fa824",
   "metadata": {},
   "source": [
    "# 10.In regular expressions, what is the difference between the + and * characters?\n"
   ]
  },
  {
   "cell_type": "code",
   "execution_count": null,
   "id": "39fb691d",
   "metadata": {},
   "outputs": [],
   "source": [
    "Ans) The + matches one or more. The * matches zero or more."
   ]
  },
  {
   "cell_type": "markdown",
   "id": "407529f3",
   "metadata": {},
   "source": [
    "# 11. What is the difference between {4} and {4,5} in regular expression?\n"
   ]
  },
  {
   "cell_type": "code",
   "execution_count": null,
   "id": "a86f1a58",
   "metadata": {},
   "outputs": [],
   "source": [
    "Ans){4} specifies that exactly 4 copies of the previous RE should be matched\n",
    "    and {4,5} causes the resulting RE to match from 4 to 5 repetitions of the preceding RE, \n",
    "    attempting to match as many repetitions as possible."
   ]
  },
  {
   "cell_type": "markdown",
   "id": "02e0d9f9",
   "metadata": {},
   "source": [
    "# 12. What do you mean by the \\d, \\w, and \\s shorthand character classes signify in regular expressions?\n"
   ]
  },
  {
   "cell_type": "code",
   "execution_count": null,
   "id": "cacb2ed2",
   "metadata": {},
   "outputs": [],
   "source": [
    "Ans) \\d - A digit 0 to 9\n",
    "     \\w - A word character \n",
    "     \\s - A whitespace character"
   ]
  },
  {
   "cell_type": "markdown",
   "id": "87e15e36",
   "metadata": {},
   "source": [
    "# 13. What do means by \\D, \\W, and \\S shorthand character classes signify in regular expressions?\n"
   ]
  },
  {
   "cell_type": "code",
   "execution_count": null,
   "id": "839e3c6f",
   "metadata": {},
   "outputs": [],
   "source": [
    "Ans) \\D - A non-digit \n",
    "     \\W - A non word \n",
    "     \\S - A non whitespace"
   ]
  },
  {
   "cell_type": "markdown",
   "id": "b194cd1b",
   "metadata": {},
   "source": [
    "# 14. What is the difference between .*? and .* ?\n"
   ]
  },
  {
   "cell_type": "code",
   "execution_count": null,
   "id": "d78bc1b5",
   "metadata": {},
   "outputs": [],
   "source": [
    "Ans) Repetition in regex by default is greedy: they try to match as many reps as possible.\n",
    "    The ? as a repetition quantifier changes this behavior into non-greedy."
   ]
  },
  {
   "cell_type": "markdown",
   "id": "783f7295",
   "metadata": {},
   "source": [
    "# 15. What is the syntax for matching both numbers and lowercase letters with a character class?\n"
   ]
  },
  {
   "cell_type": "code",
   "execution_count": null,
   "id": "bf68d6c7",
   "metadata": {},
   "outputs": [],
   "source": [
    "Ans)"
   ]
  },
  {
   "cell_type": "markdown",
   "id": "839b9e20",
   "metadata": {},
   "source": [
    "# 16. What is the procedure for making a normal expression in regax case insensitive?\n"
   ]
  },
  {
   "cell_type": "code",
   "execution_count": null,
   "id": "88b1a6ae",
   "metadata": {},
   "outputs": [],
   "source": [
    "Ans) The ways for making a normal expression in regax case insensitive are:\n",
    "    1. Using CASE_INSENSITIVE Flag\n",
    "    2. USing Modifier"
   ]
  },
  {
   "cell_type": "markdown",
   "id": "a388d930",
   "metadata": {},
   "source": [
    "# 17. What does the . character normally match? What does it match if re.DOTALL is passed as 2nd argument in re.compile()?\n"
   ]
  },
  {
   "cell_type": "code",
   "execution_count": null,
   "id": "b117ce37",
   "metadata": {},
   "outputs": [],
   "source": [
    "Ans) The . character matches any single character except \\n (newline).\n",
    "     If re. DOTALL is passed as the second argument to re. compile(), then the dot will also match newline characters."
   ]
  },
  {
   "cell_type": "markdown",
   "id": "67ba9629",
   "metadata": {},
   "source": [
    "# 18. If numReg = re.compile(r'\\d+'), what will numRegex.sub('X', '11 drummers, 10 pipers, five rings, 4 hen') return?\n"
   ]
  },
  {
   "cell_type": "code",
   "execution_count": null,
   "id": "dd1e0732",
   "metadata": {},
   "outputs": [],
   "source": [
    "Ans) It will return 'X drummers, X pipers, five rings, X hen'"
   ]
  },
  {
   "cell_type": "markdown",
   "id": "1e98c18a",
   "metadata": {},
   "source": [
    "# 19. What does passing re.VERBOSE as the 2nd argument to re.compile() allow to do?\n"
   ]
  },
  {
   "cell_type": "code",
   "execution_count": null,
   "id": "93cdefcb",
   "metadata": {},
   "outputs": [],
   "source": [
    "Ans) The re. VERBOSE argument allows you to add whitespace and comments to the string passed in re"
   ]
  },
  {
   "cell_type": "markdown",
   "id": "a0cfbe4f",
   "metadata": {},
   "source": [
    "# 20. How would you write a regex that match a number with comma for every three digits? It must match the given following:\n",
    "'42'\n",
    "'1,234'\n",
    "'6,368,745'\n",
    "but not the following:\n",
    "'12,34,567' (which has only two digits between the commas)\n",
    "'1234' (which lacks commas)\n"
   ]
  },
  {
   "cell_type": "code",
   "execution_count": null,
   "id": "52c3fe6f",
   "metadata": {},
   "outputs": [],
   "source": []
  },
  {
   "cell_type": "markdown",
   "id": "74b7cc81",
   "metadata": {},
   "source": [
    "# 21. How would you write a regex that matches the full name of someone whose last name is Watanabe? You can assume that the first name that comes before it will always be one word that begins with a capital letter. The regex must match the following:\n",
    "# 'Haruto Watanabe'\n",
    "# 'Alice Watanabe'\n",
    "# 'RoboCop Watanabe'\n",
    "# but not the following:\n",
    "# 'haruto Watanabe' (where the first name is not capitalized)\n",
    "# 'Mr. Watanabe' (where the preceding word has a nonletter character)\n",
    "# 'Watanabe' (which has no first name)\n",
    "# 'Haruto watanabe' (where Watanabe is not capitalized)\n",
    "\n"
   ]
  },
  {
   "cell_type": "code",
   "execution_count": null,
   "id": "398a0d72",
   "metadata": {},
   "outputs": [],
   "source": [
    "import re    #import regular expressions\n",
    "\n",
    "#regular expression\n",
    "NameSearch = re.compile(r'[A-Z][a-z]+\\sNakamoto', re.I | re.VERBOSE)\n",
    "\n",
    "# perform search on string\n",
    "Result = NameSearch.search(\"Satoshi Nakamoto\")\n",
    "\n",
    "#Debug code to check if it found a match or not\n",
    "print (Result == None)\n",
    "\n",
    "if Result != None:\n",
    "    print (Result.group())"
   ]
  },
  {
   "cell_type": "markdown",
   "id": "4011b0e7",
   "metadata": {},
   "source": [
    "# 22. How would you write a regex that matches a sentence where the first word is either Alice, Bob, or Carol; the second word is either eats, pets, or throws; the third word is apples, cats, or baseballs; \n",
    "and the sentence ends with a period? This regex should be case-insensitive. It must match the following:\n",
    "\n",
    "'Alice eats apples.'\n",
    "\n",
    "'Bob pets cats.'\n",
    "\n",
    "'Carol throws baseballs.'\n",
    "\n",
    "'Alice throws Apples.'\n",
    "\n",
    "'BOB EATS CATS.'\n",
    "\n",
    "but not the following:\n",
    "\n",
    "'RoboCop eats apples.'\n",
    "\n",
    "'ALICE THROWS FOOTBALLS.'\n",
    "\n",
    "'Carol eats 7 cats.'\n"
   ]
  },
  {
   "cell_type": "code",
   "execution_count": null,
   "id": "bdce2bd5",
   "metadata": {},
   "outputs": [],
   "source": [
    "Ans)"
   ]
  }
 ],
 "metadata": {
  "kernelspec": {
   "display_name": "Python 3",
   "language": "python",
   "name": "python3"
  },
  "language_info": {
   "codemirror_mode": {
    "name": "ipython",
    "version": 3
   },
   "file_extension": ".py",
   "mimetype": "text/x-python",
   "name": "python",
   "nbconvert_exporter": "python",
   "pygments_lexer": "ipython3",
   "version": "3.8.8"
  }
 },
 "nbformat": 4,
 "nbformat_minor": 5
}
