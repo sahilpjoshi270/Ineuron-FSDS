{
 "cells": [
  {
   "cell_type": "markdown",
   "id": "3fd7ccb0",
   "metadata": {},
   "source": [
    "# 1. What is the relationship between def statements and lambda expressions ?\n"
   ]
  },
  {
   "cell_type": "raw",
   "id": "bc9ef853",
   "metadata": {},
   "source": [
    "def :- It is a keyword with which user can create its own function and call it by calling the name of the function. It has many lines of code\n",
    " \n",
    "lambda:- This is an anonymous function which does not have any name and execute only in one line. It uses the keyword lambda"
   ]
  },
  {
   "cell_type": "markdown",
   "id": "c1fd1788",
   "metadata": {},
   "source": [
    "# 2. What is the benefit of lambda?\n"
   ]
  },
  {
   "cell_type": "raw",
   "id": "cec5a08c",
   "metadata": {},
   "source": [
    "Lambda can be usefull when the function is needed to be used just once or for a short amount of time. We can also say that when we require to pass the function as an argument to higher order function then we use lambda.\n",
    "And since its just one line it makes the the code less complex\n"
   ]
  },
  {
   "cell_type": "markdown",
   "id": "348f2515",
   "metadata": {},
   "source": [
    "# 3. Compare and contrast map, filter, and reduce.\n",
    "\n"
   ]
  },
  {
   "cell_type": "raw",
   "id": "24c6401c",
   "metadata": {},
   "source": [
    "Map: It is used for mapping the function with respect to the iterable object along with it. map() function will iterate through all the iterable item and execute the function which is passed in the arguement map(function,iterable_object)\n",
    "\n",
    "filter: This also takes a function as an argument and iterable and forms a new list which have all the true values which have been filterd using this function.\n",
    "\n",
    "reduce: Like in map and filter, this also take one function as an argument and and iterable object but it does not return a list. It only return a single value. It will try to take first two item in the iterable object and perform the operation, then the result which we get from that will perform the same operation with the third one and this process keeps going until we get the single value"
   ]
  },
  {
   "cell_type": "markdown",
   "id": "1b9f33f5",
   "metadata": {},
   "source": [
    "# 4. What are function annotations, and how are they used?\n"
   ]
  },
  {
   "cell_type": "raw",
   "id": "d9ea4e01",
   "metadata": {},
   "source": [
    "Function annotations are completely optional for both paramenters and return value. \n",
    "It provides a way of assosiating various parts of a function with arbitrary python expressions at complile time."
   ]
  },
  {
   "cell_type": "markdown",
   "id": "8e18d5db",
   "metadata": {},
   "source": [
    "# 5. What are recursive functions, and how are they used?\n"
   ]
  },
  {
   "cell_type": "raw",
   "id": "23932f4e",
   "metadata": {},
   "source": [
    "Recursive function is such function which call itself during its execution. The process may repeat several times, providing the result and the end of each iteration.\n",
    "\n",
    "Recursive functions can be used to solve tasks in elegant ways. When a function calls itself, that's called a recursion step. The basis of recursion is function arguments that make the task so simple that the function does not make further calls"
   ]
  },
  {
   "cell_type": "markdown",
   "id": "6f0364c0",
   "metadata": {},
   "source": [
    "# 6. What are some general design guidelines for coding functions?\n"
   ]
  },
  {
   "cell_type": "raw",
   "id": "40cdf128",
   "metadata": {},
   "source": [
    "1)Limited use of globals\n",
    "\n",
    "2)Naming conventions for local variables, global variables, constants and functions\n",
    "\n",
    "3)Proper Indentation\n",
    "\n",
    "4)Error return values and exception handling conventions\n",
    "\n",
    "5)Code should be well documented\n",
    "\n",
    "6)Length of functions should not be very large\n",
    "\n",
    "7)Avoid using a coding style that is too difficult to understand."
   ]
  },
  {
   "cell_type": "markdown",
   "id": "9359e312",
   "metadata": {},
   "source": [
    "# 7. Name three or more ways that functions can communicate results to a caller.\n"
   ]
  },
  {
   "cell_type": "raw",
   "id": "a2a4db35",
   "metadata": {},
   "source": [
    "using return\n",
    "\n",
    "assigning a variable equals to function\n",
    "\n",
    "passing the function as an argument to someother function and then calling that function which return the previous function"
   ]
  }
 ],
 "metadata": {
  "kernelspec": {
   "display_name": "Python 3",
   "language": "python",
   "name": "python3"
  },
  "language_info": {
   "codemirror_mode": {
    "name": "ipython",
    "version": 3
   },
   "file_extension": ".py",
   "mimetype": "text/x-python",
   "name": "python",
   "nbconvert_exporter": "python",
   "pygments_lexer": "ipython3",
   "version": "3.8.8"
  }
 },
 "nbformat": 4,
 "nbformat_minor": 5
}
