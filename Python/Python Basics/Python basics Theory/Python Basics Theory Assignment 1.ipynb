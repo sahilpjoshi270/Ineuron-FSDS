{
 "cells": [
  {
   "cell_type": "markdown",
   "id": "ab2167f3",
   "metadata": {},
   "source": [
    "# 1. In the below elements which of them are values or an expression? eg:- values can be integer or string and expressions will be mathematical operators.\n",
    "* \n",
    "'hello'\n",
    "-87.8\n",
    "- \n",
    "/ \n",
    "+\t\n",
    "6 \n"
   ]
  },
  {
   "cell_type": "markdown",
   "id": "54febc84",
   "metadata": {},
   "source": [
    "Values for the expressions are as follows \n",
    "1. '*' = Expression\n",
    "2. 'hello' = Value\n",
    "3. -87.8 = VAlue\n",
    "4. '-' = Expression\n",
    "5. / = Expression\n",
    "6. '+' = Expression"
   ]
  },
  {
   "cell_type": "markdown",
   "id": "a2f342ba",
   "metadata": {},
   "source": [
    "# 2. What is the difference between string and variable?"
   ]
  },
  {
   "attachments": {},
   "cell_type": "markdown",
   "id": "c04ca6ca",
   "metadata": {},
   "source": [
    "Difference between string and variables: -\n",
    "\n",
    "STRING\t\n",
    "1)A string is a value that represents text.\n",
    "2)A string is a value that can be stored in a variable.\t\n",
    "\n",
    "\n",
    "VARIABLE\n",
    "\n",
    "1)A variable is a name that can be referred to any value.\n",
    "2)A variable is a store in which information is stored.\n",
    "\n",
    "\n",
    "\n",
    "\n",
    "Example : - a = “babayaga”\n",
    "\n",
    "Here, a is the variable in which the string i.e., babayaga is stored.\n",
    " \n"
   ]
  },
  {
   "cell_type": "markdown",
   "id": "5f712b59",
   "metadata": {},
   "source": [
    "# 3. Describe three different data types."
   ]
  },
  {
   "cell_type": "markdown",
   "id": "11c1897b",
   "metadata": {},
   "source": [
    "1)Integer\n",
    "It is a positive or negative whole number that can be of any length but is restricted by the memory available.\n",
    "\n",
    "Eg :- a = 45656\n",
    "\n",
    "Print(Type(a))\n",
    "The output will be  int>\n",
    "\n",
    "2)Float\n",
    "Float is any real number with floating point representation accurate upto 15 decimals.\n",
    "\n",
    "Eg:- k = 1.254565\n",
    "\n",
    "k is a float value  \n",
    "\n",
    "3)Boolean \n",
    "It is a data type with one of the two build in values i.e., True or False\n",
    "\n",
    "Eg:- print(10<7)\n",
    "\n",
    "The output will be False which is a Boolean value.\n"
   ]
  },
  {
   "cell_type": "markdown",
   "id": "b3fc4ce4",
   "metadata": {},
   "source": [
    "# 4. What is an expression made up of? What do all expressions do?"
   ]
  },
  {
   "cell_type": "markdown",
   "id": "dad1068a",
   "metadata": {},
   "source": [
    "An expression is made up of variables, operators, method invocators that can evaluate down to a single value. Eg. 2 +4 is an expression whose value in the end is 6.\n",
    "Every expression keeps evaluating itself until it reaches a single value.\n"
   ]
  },
  {
   "cell_type": "markdown",
   "id": "252f203e",
   "metadata": {},
   "source": [
    "# 5. This assignment statements, like spam = 10. What is the difference between an expression and a statement?"
   ]
  },
  {
   "cell_type": "markdown",
   "id": "b92241a0",
   "metadata": {},
   "source": [
    "The assignment statement spam = 10, states that the value of the variable spam is 10, an expression on the other hand has some mathematical operators that it can evaluate to return a sing value."
   ]
  },
  {
   "cell_type": "markdown",
   "id": "53901f3f",
   "metadata": {},
   "source": [
    "# 6. After running the following code, what does the variable bacon contain?\n",
    "bacon = 22\n",
    "bacon + 1\n"
   ]
  },
  {
   "cell_type": "markdown",
   "id": "a677addd",
   "metadata": {},
   "source": [
    "Ans 6) After running the following code, \n",
    "bacon = 22\n",
    "bacon + 1\n",
    "The value of the variable ‘bacon’ will be 23 as the expression “bacon + 1”, adds 1 to the original value of the integer. \n"
   ]
  },
  {
   "cell_type": "markdown",
   "id": "015fe6a5",
   "metadata": {},
   "source": [
    "# 7. What should the values of the following two terms be?\n",
    "'spam' + 'spamspam'\n",
    "\n",
    "'spam' * 3\n",
    "\n"
   ]
  },
  {
   "cell_type": "markdown",
   "id": "89915bdf",
   "metadata": {},
   "source": [
    "The values of the following two terms should be,\n",
    "'spam' + 'spamspam'\n",
    "'spam' * 3\n",
    "The value of both expressions will be ‘spamspamspam’.\n"
   ]
  },
  {
   "cell_type": "markdown",
   "id": "6b1cddd1",
   "metadata": {},
   "source": [
    "# 8. Why is eggs a valid variable name while 100 is invalid?"
   ]
  },
  {
   "cell_type": "markdown",
   "id": "b84d06c8",
   "metadata": {},
   "source": [
    "Eggs is a valid variable because the characters eggs itself doesn’t have any predefined value, whereas 100 is an integer which has predefined integer value to it."
   ]
  },
  {
   "cell_type": "markdown",
   "id": "ecff67aa",
   "metadata": {},
   "source": [
    "# 9. What three functions can be used to get the integer, floating-point number, or string version of a value?"
   ]
  },
  {
   "cell_type": "markdown",
   "id": "b9343f0c",
   "metadata": {},
   "source": [
    "Passing the value through int(), float(), str() will evaluate to the respected version of the provided value."
   ]
  },
  {
   "cell_type": "markdown",
   "id": "a2b3889a",
   "metadata": {},
   "source": [
    "# 10. Why does this expression cause an error? How can you fix it?\n",
    "'I have eaten ' + 99 + ' burritos.'\n"
   ]
  },
  {
   "cell_type": "markdown",
   "id": "17f74eff",
   "metadata": {},
   "source": [
    "'I have eaten ' + 99 + ' burritos.' This expression causes error because we are trying to concatenate two string values with an integer value. In order to remove the error we have to put 99 between quotes.\n",
    "'I have eaten ' + '99' + ' burritos.'\n",
    "This expression will be free from any kind of error.\n"
   ]
  }
 ],
 "metadata": {
  "kernelspec": {
   "display_name": "Python 3",
   "language": "python",
   "name": "python3"
  },
  "language_info": {
   "codemirror_mode": {
    "name": "ipython",
    "version": 3
   },
   "file_extension": ".py",
   "mimetype": "text/x-python",
   "name": "python",
   "nbconvert_exporter": "python",
   "pygments_lexer": "ipython3",
   "version": "3.8.8"
  }
 },
 "nbformat": 4,
 "nbformat_minor": 5
}
