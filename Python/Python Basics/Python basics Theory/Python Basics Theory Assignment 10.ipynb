{
 "cells": [
  {
   "cell_type": "markdown",
   "id": "1cf5e8cc",
   "metadata": {},
   "source": [
    "# 1. How do you distinguish between shutil.copy() and shutil.copytree()?\n"
   ]
  },
  {
   "cell_type": "code",
   "execution_count": null,
   "id": "8acdb9e5",
   "metadata": {},
   "outputs": [],
   "source": [
    "Ans) shutil.copy() copies only a single file while shutil.copytree() copies an entire folder and every folder \n",
    "     and file contained in it.\n"
   ]
  },
  {
   "cell_type": "markdown",
   "id": "457ad4fa",
   "metadata": {},
   "source": [
    "# 2. What function is used to rename files ?\n"
   ]
  },
  {
   "cell_type": "code",
   "execution_count": null,
   "id": "967765b8",
   "metadata": {},
   "outputs": [],
   "source": [
    "Ans) rename() function is used to rename the file"
   ]
  },
  {
   "cell_type": "markdown",
   "id": "c2d10d1d",
   "metadata": {},
   "source": [
    "# 3. What is the difference between the delete functions in the send2trash and shutil modules?\n"
   ]
  },
  {
   "cell_type": "code",
   "execution_count": null,
   "id": "c5ddce14",
   "metadata": {},
   "outputs": [],
   "source": [
    "Ans) The send2trash functions will move a file or folder to the recycle bin, while shutil functions will permanently delete \n",
    "     the files and folders"
   ]
  },
  {
   "cell_type": "markdown",
   "id": "ee5703a7",
   "metadata": {},
   "source": [
    "# 4.ZipFile objects have a close() method just like File objects’ close() method. What ZipFile method is equivalent to File objects’ open() method?\n"
   ]
  },
  {
   "cell_type": "code",
   "execution_count": null,
   "id": "4174e0df",
   "metadata": {},
   "outputs": [],
   "source": [
    "Ans) ZipFile method is equivalent to File objects’ open() method is open()."
   ]
  },
  {
   "cell_type": "markdown",
   "id": "615b9c64",
   "metadata": {},
   "source": [
    "# 5. Create a programme that searches a folder tree for files with a certain file extension (such as .pdf or .jpg). Copy these files from whatever location they are in to a new folder.\n"
   ]
  },
  {
   "cell_type": "code",
   "execution_count": null,
   "id": "0d5df2e2",
   "metadata": {},
   "outputs": [],
   "source": [
    " \n",
    "import os, shutil\n",
    "\n",
    "def selectiveCopy(folder,extension,destFolder):\n",
    "    folder = os.path.abspath(folder)\n",
    "    destFolder = os.path.abspath(destFolder)\n",
    "    print('Looking in',folder,'for files with extension of',','.join(extension))\n",
    "    for foldername, subfolder,filenames in os.walk(folder):\n",
    "        for filename in filenames:\n",
    "            name, extension = os.path.splitext(filename)\n",
    "            if extension in extensions:\n",
    "                fileAbsPath = foldername + os.path.sep + filename\n",
    "                print('Coping',fileAbsPath,'to',destFolder)\n",
    "                shutil.copy(fileAbsPath,destFolder)\n",
    "                \n",
    "extensions = ['.php', '.py']\n",
    "folder = 'randomFolder'\n",
    "destFolder = 'selectiveFolder'\n",
    "selectiveCopy(folder, extensions, destFolder)"
   ]
  }
 ],
 "metadata": {
  "kernelspec": {
   "display_name": "Python 3",
   "language": "python",
   "name": "python3"
  },
  "language_info": {
   "codemirror_mode": {
    "name": "ipython",
    "version": 3
   },
   "file_extension": ".py",
   "mimetype": "text/x-python",
   "name": "python",
   "nbconvert_exporter": "python",
   "pygments_lexer": "ipython3",
   "version": "3.8.8"
  }
 },
 "nbformat": 4,
 "nbformat_minor": 5
}
