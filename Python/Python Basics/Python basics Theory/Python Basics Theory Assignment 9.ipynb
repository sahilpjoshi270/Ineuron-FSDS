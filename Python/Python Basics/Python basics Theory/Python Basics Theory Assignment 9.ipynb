{
 "cells": [
  {
   "cell_type": "markdown",
   "id": "de3883e0",
   "metadata": {},
   "source": [
    "# 1. To what does a relative path refer?\n"
   ]
  },
  {
   "cell_type": "code",
   "execution_count": null,
   "id": "e42166b0",
   "metadata": {},
   "outputs": [],
   "source": [
    "Ans) It refers to a location that is relative to a current directory. \n",
    "     Relative paths make use of two special symbols, a dot (.) and a double-dot (..), which translate into the current \n",
    "     directory and the parent directory\n"
   ]
  },
  {
   "cell_type": "markdown",
   "id": "8e44a16d",
   "metadata": {},
   "source": [
    "# 2. What does an absolute path start with your operating system?\n"
   ]
  },
  {
   "cell_type": "code",
   "execution_count": null,
   "id": "a35853ee",
   "metadata": {},
   "outputs": [],
   "source": [
    "Ans) An absolute path refers to the complete details needed to locate a file or folder, \n",
    "     starting from the root element and ending with the other subdirectories."
   ]
  },
  {
   "cell_type": "markdown",
   "id": "d228101e",
   "metadata": {},
   "source": [
    "# 3. What do the functions os.getcwd() and os.chdir() do?\n"
   ]
  },
  {
   "cell_type": "code",
   "execution_count": null,
   "id": "3e49fddf",
   "metadata": {},
   "outputs": [],
   "source": [
    "Ans) 1. os.getcwd() :- To know the current working directory of the file, getcwd() method can be used. \n",
    "    2. os.chdir() :- This method in Python used to change the current working directory to specified path."
   ]
  },
  {
   "cell_type": "markdown",
   "id": "e0cfcb24",
   "metadata": {},
   "source": [
    "# 4. What are the . and .. folders?\n"
   ]
  },
  {
   "cell_type": "code",
   "execution_count": null,
   "id": "c54fadab",
   "metadata": {},
   "outputs": [],
   "source": [
    "Ans) The . is the current directory, while .. signifies the parent directory."
   ]
  },
  {
   "cell_type": "markdown",
   "id": "c94cb5d9",
   "metadata": {},
   "source": [
    "# 5. In C:\\bacon\\eggs\\spam.txt, which part is the dir name, and which part is the base name?\n"
   ]
  },
  {
   "cell_type": "code",
   "execution_count": null,
   "id": "58a02a17",
   "metadata": {},
   "outputs": [],
   "source": [
    "Ans) C:\\bacon\\eggs is the dir name, while spam.txt is the base name."
   ]
  },
  {
   "cell_type": "markdown",
   "id": "21bdc8fe",
   "metadata": {},
   "source": [
    "# 6. What are the three “mode” arguments that can be passed to the open() function?\n"
   ]
  },
  {
   "cell_type": "code",
   "execution_count": null,
   "id": "b289c3ba",
   "metadata": {},
   "outputs": [],
   "source": [
    "Ans) The diffrent types of modes are as below:-\n",
    "    “ r “, for reading.\n",
    "    “ w “, for writing.\n",
    "    “ a “, for appending.\n",
    "    “ r+ “, for both reading and writing."
   ]
  },
  {
   "cell_type": "markdown",
   "id": "a18871cd",
   "metadata": {},
   "source": [
    "# 7. What happens if an existing file is opened in write mode?\n"
   ]
  },
  {
   "cell_type": "code",
   "execution_count": null,
   "id": "e7be002f",
   "metadata": {},
   "outputs": [],
   "source": []
  },
  {
   "cell_type": "markdown",
   "id": "a9d0b843",
   "metadata": {},
   "source": [
    "# 8. How do you tell the difference between read() and readlines()?\n"
   ]
  },
  {
   "cell_type": "code",
   "execution_count": null,
   "id": "d46f4665",
   "metadata": {},
   "outputs": [],
   "source": [
    "Ans) readlines():-  The readline method reads one line from the file.\n",
    "     read() :- This function reads an entire file, as though it were a string"
   ]
  },
  {
   "cell_type": "markdown",
   "id": "717d1945",
   "metadata": {},
   "source": [
    "# 9. What data structure does a shelf value resemble?\n"
   ]
  },
  {
   "cell_type": "code",
   "execution_count": null,
   "id": "fa62eb12",
   "metadata": {},
   "outputs": [],
   "source": [
    "Ans) Shelf value resembles a dictionary value; it has keys and values, along with keys() and values() \n",
    "    methods that work similarly to the dictionary methods of the same names."
   ]
  }
 ],
 "metadata": {
  "kernelspec": {
   "display_name": "Python 3",
   "language": "python",
   "name": "python3"
  },
  "language_info": {
   "codemirror_mode": {
    "name": "ipython",
    "version": 3
   },
   "file_extension": ".py",
   "mimetype": "text/x-python",
   "name": "python",
   "nbconvert_exporter": "python",
   "pygments_lexer": "ipython3",
   "version": "3.8.8"
  }
 },
 "nbformat": 4,
 "nbformat_minor": 5
}
