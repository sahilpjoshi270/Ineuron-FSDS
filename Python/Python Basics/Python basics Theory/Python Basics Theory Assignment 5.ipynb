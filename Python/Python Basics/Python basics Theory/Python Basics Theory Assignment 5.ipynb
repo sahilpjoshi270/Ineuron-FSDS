{
 "cells": [
  {
   "cell_type": "markdown",
   "id": "c9787698",
   "metadata": {},
   "source": [
    "# 1. What does an empty dictionary's code look like?\n"
   ]
  },
  {
   "cell_type": "code",
   "execution_count": null,
   "id": "63868bf2",
   "metadata": {},
   "outputs": [],
   "source": [
    "Ans) emptDict = {}\n",
    "#{} to initialise dictionary"
   ]
  },
  {
   "cell_type": "markdown",
   "id": "f4030269",
   "metadata": {},
   "source": [
    "# 2. What is the value of a dictionary value with the key 'foo' and the value 42?\n"
   ]
  },
  {
   "cell_type": "code",
   "execution_count": null,
   "id": "4cf60400",
   "metadata": {},
   "outputs": [],
   "source": [
    "Ans)The value of the dictionary would be {'foo': 42}"
   ]
  },
  {
   "cell_type": "markdown",
   "id": "aa9b3b41",
   "metadata": {},
   "source": [
    "# 3. What is the most significant distinction between a dictionary and a list?\n"
   ]
  },
  {
   "cell_type": "code",
   "execution_count": null,
   "id": "d3b641c3",
   "metadata": {},
   "outputs": [],
   "source": [
    "Ans) A list is non homogeneous collection of diffrent data types whereas A dictionary is an unordered collection of key and value"
   ]
  },
  {
   "cell_type": "markdown",
   "id": "b62eb124",
   "metadata": {},
   "source": [
    "# 4. What happens if you try to access spam['foo'] if spam is {'bar': 100}?\n"
   ]
  },
  {
   "cell_type": "code",
   "execution_count": null,
   "id": "db402ca3",
   "metadata": {},
   "outputs": [],
   "source": [
    "Ans) If you try to access a dictionary with a key word it doesnt contain then KeEroor will be shown"
   ]
  },
  {
   "cell_type": "markdown",
   "id": "e78ea409",
   "metadata": {},
   "source": [
    "# 5. If a dictionary is stored in spam, what is the difference between the expressions 'cat' in spam and 'cat' in spam.keys()?\n"
   ]
  },
  {
   "cell_type": "code",
   "execution_count": null,
   "id": "161d756e",
   "metadata": {},
   "outputs": [],
   "source": [
    "Ans) There is no diffrence present in both the expressions. Both the expressions check whether thwe value in keys is 'cat'\n"
   ]
  },
  {
   "cell_type": "markdown",
   "id": "7a11058c",
   "metadata": {},
   "source": [
    "# 6. If a dictionary is stored in spam, what is the difference between the expressions 'cat' in spam and 'cat' in spam.values()?\n"
   ]
  },
  {
   "cell_type": "code",
   "execution_count": null,
   "id": "a6b4914d",
   "metadata": {},
   "outputs": [],
   "source": [
    "Ans) 'cat' in spam check whether the value in keys is 'cat' whereas 'cat' in spam.values() checks all the values for 'cat'."
   ]
  },
  {
   "cell_type": "markdown",
   "id": "564e8246",
   "metadata": {},
   "source": [
    "# 7. What is a shortcut for the following code?\n",
    "# if 'color' not in spam:\n",
    "# spam['color'] = 'black'\n",
    "\n"
   ]
  },
  {
   "cell_type": "code",
   "execution_count": null,
   "id": "5e07c2bd",
   "metadata": {},
   "outputs": [],
   "source": []
  },
  {
   "cell_type": "markdown",
   "id": "0f8250fa",
   "metadata": {},
   "source": [
    "# 8. How do you \"pretty print\" dictionary values using which module and function?\n"
   ]
  },
  {
   "cell_type": "code",
   "execution_count": null,
   "id": "7d230016",
   "metadata": {},
   "outputs": [],
   "source": [
    "Ans) 1. Using pprint()\n",
    "        pprint is a python module used to pretty print data types to be more readable\n",
    "    \n",
    "     2. Using json.dumps()\n",
    "        In the python json module there is a dumps function which converts python objects into json strings.\n",
    "     \n",
    "     3. Using yalm.dump()\n",
    "        Another way to pretty print a dictionary is by using the dump() function of the yaml module. \n",
    "        It serves the same purpose as the json.dumps()"
   ]
  }
 ],
 "metadata": {
  "kernelspec": {
   "display_name": "Python 3",
   "language": "python",
   "name": "python3"
  },
  "language_info": {
   "codemirror_mode": {
    "name": "ipython",
    "version": 3
   },
   "file_extension": ".py",
   "mimetype": "text/x-python",
   "name": "python",
   "nbconvert_exporter": "python",
   "pygments_lexer": "ipython3",
   "version": "3.8.8"
  }
 },
 "nbformat": 4,
 "nbformat_minor": 5
}
