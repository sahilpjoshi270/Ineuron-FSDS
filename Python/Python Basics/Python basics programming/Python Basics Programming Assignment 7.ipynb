{
 "cells": [
  {
   "cell_type": "markdown",
   "id": "a045fcf4",
   "metadata": {},
   "source": [
    "# 1.Write a Python Program to find sum of array?\n"
   ]
  },
  {
   "cell_type": "code",
   "execution_count": null,
   "id": "5815fd9c",
   "metadata": {},
   "outputs": [],
   "source": [
    "ak = [83,46,58,88]\n",
    "def SumArray():\n",
    "    add = 0\n",
    "    for i in ak:\n",
    "        add = add + i\n",
    "    print(add)\n",
    "    \n",
    "SumArray()"
   ]
  },
  {
   "cell_type": "markdown",
   "id": "f802eedd",
   "metadata": {},
   "source": [
    "# 2.Write a Python Program to find largest element in an array?\n",
    "\n"
   ]
  },
  {
   "cell_type": "code",
   "execution_count": 1,
   "id": "2e3685e3",
   "metadata": {},
   "outputs": [
    {
     "name": "stdout",
     "output_type": "stream",
     "text": [
      "Largest element in the given array is 590\n"
     ]
    }
   ],
   "source": [
    "def largestFun(a,n):      \n",
    "    maxNum = a[0]       \n",
    "    for i in range(1, n):   \n",
    "        if a[i] > maxNum: \n",
    "            maxNum = a[i] \n",
    "    return maxNum\n",
    "  \n",
    "a = [130, 324, 400, 590, 408]   \n",
    "n = len(a)                                \n",
    "largestElement = largestFun(a,n)          \n",
    "print (\"Largest element in the given array is\",largestElement)"
   ]
  },
  {
   "cell_type": "markdown",
   "id": "944da461",
   "metadata": {},
   "source": [
    "# 3.Write a Python Program for array rotation?\n"
   ]
  },
  {
   "cell_type": "code",
   "execution_count": 2,
   "id": "8cb4b003",
   "metadata": {},
   "outputs": [],
   "source": [
    "def rotation(arr,r):\n",
    "    print(f'The origional array is {arr}')\n",
    "    \n",
    "    for i in range(0,r):\n",
    "        first = arr[0]\n",
    "        \n",
    "        for j in range(0,len(arr)-1):\n",
    "            arr[j]=arr[j+1]\n",
    "        \n",
    "        arr[-1]=first\n",
    "        \n",
    "    return f'After rotation the array:{arr}'"
   ]
  },
  {
   "cell_type": "markdown",
   "id": "4092f3ff",
   "metadata": {},
   "source": [
    "# 4.Write a Python Program to Split the array and add the first part to the end?\n"
   ]
  },
  {
   "cell_type": "code",
   "execution_count": 3,
   "id": "b3f97cdf",
   "metadata": {},
   "outputs": [
    {
     "name": "stdout",
     "output_type": "stream",
     "text": [
      "The origional array [5, 66, 54, 58, 123, 48, 99, 2, 8, 4]\n",
      "Split part [5, 66, 54, 58]\n"
     ]
    },
    {
     "data": {
      "text/plain": [
       "[123, 48, 99, 2, 8, 4, 5, 66, 54, 58]"
      ]
     },
     "execution_count": 3,
     "metadata": {},
     "output_type": "execute_result"
    }
   ],
   "source": [
    "def splitArr(a,n,k):\n",
    "    print(f'The origional array',a)\n",
    "    \n",
    "    b = a[:k]\n",
    "    print(f'Split part',b)\n",
    "    return (a[k::]+b[::])\n",
    "\n",
    "arr = [5,66,54,58,123,48,99,2,8,4]\n",
    "n = len(arr)\n",
    "pos = 4\n",
    "\n",
    "splitArr(arr,n,pos)\n"
   ]
  },
  {
   "cell_type": "markdown",
   "id": "d7a6f7f3",
   "metadata": {},
   "source": [
    "# 5.Write a Python Program to check if given array is Monotonic?\n"
   ]
  },
  {
   "cell_type": "code",
   "execution_count": 4,
   "id": "0fe4a03c",
   "metadata": {},
   "outputs": [
    {
     "name": "stdout",
     "output_type": "stream",
     "text": [
      "True\n"
     ]
    }
   ],
   "source": [
    "\n",
    "def isMonotonic(A):\n",
    "  \n",
    "    return (all(A[i] <= A[i + 1] for i in range(len(A) - 1)) or\n",
    "            all(A[i] >= A[i + 1] for i in range(len(A) - 1)))\n",
    "  \n",
    "\n",
    "A = [6, 5, 4, 4]\n",
    "  \n",
    "\n",
    "print(isMonotonic(A))"
   ]
  }
 ],
 "metadata": {
  "kernelspec": {
   "display_name": "Python 3",
   "language": "python",
   "name": "python3"
  },
  "language_info": {
   "codemirror_mode": {
    "name": "ipython",
    "version": 3
   },
   "file_extension": ".py",
   "mimetype": "text/x-python",
   "name": "python",
   "nbconvert_exporter": "python",
   "pygments_lexer": "ipython3",
   "version": "3.8.8"
  }
 },
 "nbformat": 4,
 "nbformat_minor": 5
}
