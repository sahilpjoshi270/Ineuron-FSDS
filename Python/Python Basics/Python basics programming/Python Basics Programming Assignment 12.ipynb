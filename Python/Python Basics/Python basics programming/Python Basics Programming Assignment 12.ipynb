{
 "cells": [
  {
   "cell_type": "markdown",
   "id": "2e2be6c4",
   "metadata": {},
   "source": [
    "# 1.\tWrite a Python program to Extract Unique values dictionary values?\n"
   ]
  },
  {
   "cell_type": "code",
   "execution_count": 2,
   "id": "6143862c",
   "metadata": {},
   "outputs": [
    {
     "name": "stdout",
     "output_type": "stream",
     "text": [
      "Unique values are:-\n",
      "5 6 9 10 "
     ]
    }
   ],
   "source": [
    "d = {'a':5,'b':6,'c':9,'d':6,'e':10}\n",
    "x = []\n",
    "print(\"Unique values are:-\")\n",
    "for i in d.values():\n",
    "    if i not in x:\n",
    "        print(i,end=' ')\n",
    "        x.append(i)\n",
    "        \n",
    "        "
   ]
  },
  {
   "cell_type": "markdown",
   "id": "423d7c08",
   "metadata": {},
   "source": [
    "# 2.\tWrite a Python program to find the sum of all items in a dictionary?\n"
   ]
  },
  {
   "cell_type": "code",
   "execution_count": 3,
   "id": "850ea037",
   "metadata": {},
   "outputs": [
    {
     "name": "stdout",
     "output_type": "stream",
     "text": [
      "The sum of all items is: 36\n"
     ]
    }
   ],
   "source": [
    "d = {'a':5,'b':6,'c':9,'d':6,'e':10}\n",
    "sum =0\n",
    "for i in d.items():\n",
    "    sum=sum+i[1]\n",
    "\n",
    "print(f'The sum of all items is: {sum}')"
   ]
  },
  {
   "cell_type": "markdown",
   "id": "a11d8502",
   "metadata": {},
   "source": [
    "# 3.\tWrite a Python program to Merging two Dictionaries?\n"
   ]
  },
  {
   "cell_type": "code",
   "execution_count": 4,
   "id": "41a9f10c",
   "metadata": {},
   "outputs": [
    {
     "data": {
      "text/plain": [
       "{'a': 5,\n",
       " 'b': 6,\n",
       " 'c': 9,\n",
       " 'd': 6,\n",
       " 'e': 10,\n",
       " 'bruce': 'banner',\n",
       " 'green': 'goblin',\n",
       " 'matt': 'murdock'}"
      ]
     },
     "execution_count": 4,
     "metadata": {},
     "output_type": "execute_result"
    }
   ],
   "source": [
    "d1 = {'a':5,'b':6,'c':9,'d':6,'e':10}\n",
    "d2 = {'bruce':'banner','green':'goblin','matt': 'murdock'}\n",
    "\n",
    "d= {**d1,**d2}\n",
    "d\n"
   ]
  },
  {
   "cell_type": "markdown",
   "id": "b0d1bb46",
   "metadata": {},
   "source": [
    "# 4.\tWrite a Python program to convert key-values list to flat dictionary?\n"
   ]
  },
  {
   "cell_type": "code",
   "execution_count": 7,
   "id": "2fb91097",
   "metadata": {},
   "outputs": [
    {
     "data": {
      "text/plain": [
       "{'a': '5', 'b': '6', 'c': '9', 'd': '6', 'e': '10'}"
      ]
     },
     "execution_count": 7,
     "metadata": {},
     "output_type": "execute_result"
    }
   ],
   "source": [
    "d = [['a:5'],['b:6'],['c:9'],['d:6'],['e:10']]\n",
    "new = {}\n",
    "l1 =[]\n",
    "l2 = []\n",
    "for i in d:\n",
    "    l1.append(i[0].split(':')[0])\n",
    "    l2.append(i[0].split(':')[1])\n",
    "new = dict(zip(l1,l2))\n",
    "\n",
    "new"
   ]
  },
  {
   "cell_type": "markdown",
   "id": "fbb50279",
   "metadata": {},
   "source": [
    "# 5.\tWrite a Python program to insertion at the beginning in OrderedDict?\n"
   ]
  },
  {
   "cell_type": "code",
   "execution_count": 10,
   "id": "a99de66b",
   "metadata": {},
   "outputs": [
    {
     "data": {
      "text/plain": [
       "{'j': 98, 'a': 5, 'b': 6, 'c': 9, 'd': 6, 'e': 10}"
      ]
     },
     "execution_count": 10,
     "metadata": {},
     "output_type": "execute_result"
    }
   ],
   "source": [
    "from collections import OrderedDict\n",
    "\n",
    "d = {'a':5,'b':6,'c':9,'d':6,'e':10}\n",
    "\n",
    "unordered = OrderedDict(d)\n",
    "unordered.update({'j':98})\n",
    "unordered.move_to_end('j',last=False)\n",
    "\n",
    "dict(unordered)\n",
    "\n"
   ]
  },
  {
   "cell_type": "markdown",
   "id": "536a4be7",
   "metadata": {},
   "source": [
    "# 6.\tWrite a Python program to check order of character in string using OrderedDict()?\n"
   ]
  },
  {
   "cell_type": "code",
   "execution_count": 13,
   "id": "bf447d8f",
   "metadata": {},
   "outputs": [
    {
     "data": {
      "text/plain": [
       "{'a': 5, 'b': 6, 'c': 9, 'd': 6, 'e': 10, 'j': 2}"
      ]
     },
     "execution_count": 13,
     "metadata": {},
     "output_type": "execute_result"
    }
   ],
   "source": [
    "d = {'j': 2, 'a': 5, 'b': 6, 'c': 9, 'd': 6, 'e': 10}\n",
    "dict(sorted(d.items(),key=lambda i : i[0]))"
   ]
  },
  {
   "cell_type": "markdown",
   "id": "62392b23",
   "metadata": {},
   "source": [
    "# 7.\tWrite a Python program to sort Python Dictionaries by Key or Value?\n"
   ]
  },
  {
   "cell_type": "code",
   "execution_count": 14,
   "id": "d5fad993",
   "metadata": {},
   "outputs": [
    {
     "data": {
      "text/plain": [
       "{'j': 2, 'a': 5, 'b': 6, 'd': 6, 'c': 9, 'e': 10}"
      ]
     },
     "execution_count": 14,
     "metadata": {},
     "output_type": "execute_result"
    }
   ],
   "source": [
    "dict(sorted(d.items(),key=lambda i : i[1]))"
   ]
  }
 ],
 "metadata": {
  "kernelspec": {
   "display_name": "Python 3",
   "language": "python",
   "name": "python3"
  },
  "language_info": {
   "codemirror_mode": {
    "name": "ipython",
    "version": 3
   },
   "file_extension": ".py",
   "mimetype": "text/x-python",
   "name": "python",
   "nbconvert_exporter": "python",
   "pygments_lexer": "ipython3",
   "version": "3.8.8"
  }
 },
 "nbformat": 4,
 "nbformat_minor": 5
}
