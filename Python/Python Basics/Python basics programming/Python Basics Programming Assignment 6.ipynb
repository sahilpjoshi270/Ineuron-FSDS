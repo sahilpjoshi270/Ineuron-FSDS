{
 "cells": [
  {
   "cell_type": "markdown",
   "id": "8cd459c9",
   "metadata": {},
   "source": [
    "# 1. Write a Python Program to Display Fibonacci Sequence Using Recursion?\n",
    "\n"
   ]
  },
  {
   "cell_type": "code",
   "execution_count": null,
   "id": "4d0e895f",
   "metadata": {},
   "outputs": [],
   "source": [
    "def rec_fibonac(n):\n",
    "   if n <= 1:\n",
    "       return n\n",
    "   else:\n",
    "       return(rec_fibonac(n-1) + rec_fibonac(n-2))\n",
    "\n",
    "n1 = 15\n",
    "\n",
    "print(\"Fibonacci sequence:\")\n",
    "for i in range(n1):\n",
    "    print(rec_fibonac(i))"
   ]
  },
  {
   "cell_type": "markdown",
   "id": "d6f7e32c",
   "metadata": {},
   "source": [
    "# 2. Write a Python Program to Find Factorial of Number Using Recursion?\n",
    "\n"
   ]
  },
  {
   "cell_type": "code",
   "execution_count": null,
   "id": "055e84aa",
   "metadata": {},
   "outputs": [],
   "source": [
    "def rec_factorial(n):\n",
    "   if n == 1:\n",
    "       return n\n",
    "   else:\n",
    "       return n*rec_factorial(n-1)\n",
    "\n",
    "num = int(input(\"Enter a no.\"))\n",
    "\n",
    "if num < 0:\n",
    "   print(\"Sorry, the factorial does not exist for negative numbers\")\n",
    "elif num == 0:\n",
    "   print(\"The factorial of 0 is 1\")\n",
    "else:\n",
    "   print(\"The factorial of\", num, \"is\", rec_factorial(num))\n"
   ]
  },
  {
   "cell_type": "markdown",
   "id": "5b054b8f",
   "metadata": {},
   "source": [
    "# 3. Write a Python Program to calculate your Body Mass Index?\n",
    "\n"
   ]
  },
  {
   "cell_type": "code",
   "execution_count": null,
   "id": "5c67d019",
   "metadata": {},
   "outputs": [],
   "source": [
    "height = float(input(\"Enter your height in cm: \"))\n",
    "weight = float(input(\"Enter your weight in kg: \"))\n",
    "\n",
    "BMI = weight / (height/100)**2.\n",
    "\n",
    "print(\"You BMI is %d\"%BMI)"
   ]
  },
  {
   "cell_type": "markdown",
   "id": "2a5811b1",
   "metadata": {},
   "source": [
    "# 4. Write a Python Program to calculate the natural logarithm of any number?\n",
    "\n"
   ]
  },
  {
   "cell_type": "code",
   "execution_count": null,
   "id": "8fd30b6c",
   "metadata": {},
   "outputs": [],
   "source": [
    "import math\n",
    "\n",
    "number = int(input(\"Enter a no.\"))\n",
    "\n",
    "lgs = math.log(number)\n",
    "\n",
    "print(\"The Log of the number is :\", lgs)"
   ]
  },
  {
   "cell_type": "markdown",
   "id": "862d633e",
   "metadata": {},
   "source": [
    "# 5. Write a Python Program for cube sum of first n natural numbers?\n",
    "\n"
   ]
  },
  {
   "cell_type": "code",
   "execution_count": null,
   "id": "b781f3d3",
   "metadata": {},
   "outputs": [],
   "source": [
    "def sumCube(n):\n",
    "    sum = 0\n",
    "    for i in range(1, n+1):\n",
    "        sum +=i*i*i\n",
    "          \n",
    "    return sum\n",
    "  \n",
    "n = int(input(\"Enter The value of n :\"))\n",
    "print(\"cube sum of %d natural numbers is %d\"%(n,sumCube(n)))"
   ]
  }
 ],
 "metadata": {
  "kernelspec": {
   "display_name": "Python 3",
   "language": "python",
   "name": "python3"
  },
  "language_info": {
   "codemirror_mode": {
    "name": "ipython",
    "version": 3
   },
   "file_extension": ".py",
   "mimetype": "text/x-python",
   "name": "python",
   "nbconvert_exporter": "python",
   "pygments_lexer": "ipython3",
   "version": "3.8.8"
  }
 },
 "nbformat": 4,
 "nbformat_minor": 5
}
