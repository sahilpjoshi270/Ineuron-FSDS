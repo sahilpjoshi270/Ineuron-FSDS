{
 "cells": [
  {
   "cell_type": "markdown",
   "id": "691655ee",
   "metadata": {},
   "source": [
    "# 1.\tWrite a Python program to find sum of elements in list?\n"
   ]
  },
  {
   "cell_type": "code",
   "execution_count": 12,
   "id": "e9b571ee",
   "metadata": {},
   "outputs": [
    {
     "name": "stdout",
     "output_type": "stream",
     "text": [
      "[0, 1, 2, 3, 4, 5, 6, 7, 8, 9]\n",
      "45\n"
     ]
    }
   ],
   "source": [
    "import random\n",
    "\n",
    "l = []\n",
    "\n",
    "for i in range(random.randint(1,10)):\n",
    "    l.append(i)\n",
    "print(l)\n",
    "\n",
    "s = 0\n",
    "for k in l:\n",
    "    s = s+k\n",
    "    \n",
    "print(s)"
   ]
  },
  {
   "cell_type": "markdown",
   "id": "c9c85b72",
   "metadata": {},
   "source": [
    "# 2.\tWrite a Python program to  Multiply all numbers in the list?\n"
   ]
  },
  {
   "cell_type": "code",
   "execution_count": 20,
   "id": "d1f4b015",
   "metadata": {},
   "outputs": [
    {
     "name": "stdout",
     "output_type": "stream",
     "text": [
      "The multiplication of the list is 30087213156000000\n"
     ]
    }
   ],
   "source": [
    "l = [5,56,48,78,99,85,75,45475]\n",
    "\n",
    "\n",
    "s = 1\n",
    "for k in l:\n",
    "    s = s*k\n",
    "    \n",
    "print(f'The multiplication of the list is {s}')"
   ]
  },
  {
   "cell_type": "markdown",
   "id": "ca750255",
   "metadata": {},
   "source": [
    "# 3.\tWrite a Python program to find smallest number in a list?\n"
   ]
  },
  {
   "cell_type": "code",
   "execution_count": 21,
   "id": "598223d6",
   "metadata": {},
   "outputs": [
    {
     "name": "stdout",
     "output_type": "stream",
     "text": [
      "The Smallest no. of the list is 8\n"
     ]
    }
   ],
   "source": [
    "list1 = [56,4588,458,25,8,4584]\n",
    "\n",
    "print(f'The Smallest no. of the list is {sorted(list1)[0]}')"
   ]
  },
  {
   "cell_type": "markdown",
   "id": "d6eb8655",
   "metadata": {},
   "source": [
    "# 4.\tWrite a Python program to find largest number in a list?\n"
   ]
  },
  {
   "cell_type": "code",
   "execution_count": 22,
   "id": "b233ed32",
   "metadata": {},
   "outputs": [
    {
     "name": "stdout",
     "output_type": "stream",
     "text": [
      "The Smallest no. of the list is 4588\n"
     ]
    }
   ],
   "source": [
    "list1 = [56,4588,458,25,8,4584]\n",
    "\n",
    "\n",
    "print(f'The Smallest no. of the list is {sorted(list1)[-1]}')"
   ]
  },
  {
   "cell_type": "markdown",
   "id": "54dd3fde",
   "metadata": {},
   "source": [
    "# 5.\tWrite a Python program to find second largest number in a list?\n"
   ]
  },
  {
   "cell_type": "code",
   "execution_count": 23,
   "id": "384d8176",
   "metadata": {},
   "outputs": [
    {
     "name": "stdout",
     "output_type": "stream",
     "text": [
      "The Smallest no. of the list is 4584\n"
     ]
    }
   ],
   "source": [
    "list1 = [56,4588,458,25,8,4584]\n",
    "\n",
    "\n",
    "print(f'The Smallest no. of the list is {sorted(list1)[-2]}')"
   ]
  },
  {
   "cell_type": "markdown",
   "id": "51ced534",
   "metadata": {},
   "source": [
    "# 6.\tWrite a Python program to find N largest elements from a list?\n"
   ]
  },
  {
   "cell_type": "code",
   "execution_count": 29,
   "id": "4cef2943",
   "metadata": {},
   "outputs": [
    {
     "name": "stdout",
     "output_type": "stream",
     "text": [
      "The 4 Largest numbers of the list are: [8575, 5685, 4588, 4584]\n"
     ]
    }
   ],
   "source": [
    "list1 = [56,4588,458,25,8,4584,56,5685,8575,857]\n",
    "n = 4\n",
    "print(f'The {n} Largest numbers of the list are: {sorted(list1)[:5:-1]}')\n",
    "\n",
    "\n"
   ]
  },
  {
   "cell_type": "markdown",
   "id": "f2d0d997",
   "metadata": {},
   "source": [
    "# 7.\tWrite a Python program to print even numbers in a list?\n"
   ]
  },
  {
   "cell_type": "code",
   "execution_count": 33,
   "id": "b5e3cec8",
   "metadata": {},
   "outputs": [
    {
     "name": "stdout",
     "output_type": "stream",
     "text": [
      "56\n",
      "4588\n",
      "458\n",
      "8\n",
      "4584\n",
      "56\n"
     ]
    }
   ],
   "source": [
    "list1 = [56,4588,458,25,8,4584,56,5685,8575,857]\n",
    "n = len(list1)\n",
    "for i in range(0,n):\n",
    "    if(list1[i]%2==0):\n",
    "        print(list1[i])"
   ]
  },
  {
   "cell_type": "markdown",
   "id": "922a86de",
   "metadata": {},
   "source": [
    "# 8.\tWrite a Python program to print odd numbers in a List?\n"
   ]
  },
  {
   "cell_type": "code",
   "execution_count": 34,
   "id": "a785da95",
   "metadata": {},
   "outputs": [
    {
     "name": "stdout",
     "output_type": "stream",
     "text": [
      "25\n",
      "5685\n",
      "8575\n",
      "857\n"
     ]
    }
   ],
   "source": [
    "list1 = [56,4588,458,25,8,4584,56,5685,8575,857]\n",
    "n = len(list1)\n",
    "for i in range(0,n):\n",
    "    if(list1[i]%2!=0):\n",
    "        print(list1[i])"
   ]
  },
  {
   "cell_type": "markdown",
   "id": "3998bed5",
   "metadata": {},
   "source": [
    "# 9.\tWrite a Python program to Remove empty List from List?\n"
   ]
  },
  {
   "cell_type": "code",
   "execution_count": 35,
   "id": "10e93b3d",
   "metadata": {},
   "outputs": [
    {
     "name": "stdout",
     "output_type": "stream",
     "text": [
      "[[1, 2, 3], [4, 5], [5, 55, 85, 85]]\n"
     ]
    }
   ],
   "source": [
    "l2=[[1,2,3],[4,5],[],[5,55,85,85],[]]\n",
    "for i in l2:\n",
    "    if (len(i)==0):\n",
    "        l2.remove(i)\n",
    "print(l2)"
   ]
  },
  {
   "cell_type": "markdown",
   "id": "ae7a28c1",
   "metadata": {},
   "source": [
    "# 10.\tWrite a Python program to Cloning or Copying a list?\n"
   ]
  },
  {
   "cell_type": "code",
   "execution_count": 37,
   "id": "11cf2fbb",
   "metadata": {},
   "outputs": [
    {
     "data": {
      "text/plain": [
       "[45, 564, 54, 54, 45, 47484, 5, 8489, 52]"
      ]
     },
     "execution_count": 37,
     "metadata": {},
     "output_type": "execute_result"
    }
   ],
   "source": [
    "l12 = [45,564,54,54,45,47484,5,8489,52]\n",
    "l3 = l12.copy()\n",
    "l3"
   ]
  },
  {
   "cell_type": "markdown",
   "id": "f7de2176",
   "metadata": {},
   "source": [
    "# 11.\tWrite a Python program to Count occurrences of an element in a list?\n",
    " "
   ]
  },
  {
   "cell_type": "code",
   "execution_count": 38,
   "id": "4c11c489",
   "metadata": {},
   "outputs": [
    {
     "name": "stdout",
     "output_type": "stream",
     "text": [
      "a:4\n",
      "l:2\n",
      "h:1\n",
      "b:1\n",
      "d:1\n"
     ]
    }
   ],
   "source": [
    "l=['a', 'l', 'l', 'a', 'h', 'a', 'b', 'a','d']\n",
    "\n",
    "temp=''\n",
    "for i in l:\n",
    "    if i not in temp:\n",
    "        c=l.count(i)\n",
    "        temp=temp+i\n",
    "        print(f'{i}:{c}')"
   ]
  }
 ],
 "metadata": {
  "kernelspec": {
   "display_name": "Python 3",
   "language": "python",
   "name": "python3"
  },
  "language_info": {
   "codemirror_mode": {
    "name": "ipython",
    "version": 3
   },
   "file_extension": ".py",
   "mimetype": "text/x-python",
   "name": "python",
   "nbconvert_exporter": "python",
   "pygments_lexer": "ipython3",
   "version": "3.8.8"
  }
 },
 "nbformat": 4,
 "nbformat_minor": 5
}
