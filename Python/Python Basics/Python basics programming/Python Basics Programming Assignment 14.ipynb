{
 "cells": [
  {
   "cell_type": "markdown",
   "id": "56e7d096",
   "metadata": {},
   "source": [
    "# Question 1:\n",
    "\n",
    "Define a class with a generator which can iterate the numbers, which are divisible by 7, between a given range 0 and n.\n",
    "\n"
   ]
  },
  {
   "cell_type": "code",
   "execution_count": 1,
   "id": "01d22b5e",
   "metadata": {},
   "outputs": [
    {
     "name": "stdout",
     "output_type": "stream",
     "text": [
      "0\n",
      "7\n",
      "14\n"
     ]
    }
   ],
   "source": [
    "def gen(n):\n",
    "    for i in range(n):\n",
    "        if i%7==0:\n",
    "            yield i\n",
    "ob=gen(21)\n",
    "\n",
    "for i in ob:\n",
    "    print(i)"
   ]
  },
  {
   "cell_type": "markdown",
   "id": "70854107",
   "metadata": {},
   "source": [
    "# Question 2:\n",
    "Write a program to compute the frequency of the words from the input. The output should output after sorting the key alphanumerically. \n",
    "\n",
    "Suppose the following input is supplied to the program:\n",
    "\n",
    "New to Python or choosing between Python 2 and Python 3? Read Python 2 or Python 3.\n",
    "\n",
    "Then, the output should be:\n",
    "\n",
    "2:2\n",
    "\n",
    "3.:1\n",
    "\n",
    "3?:1\n",
    "\n",
    "New:1\n",
    "\n",
    "Python:5\n",
    "\n",
    "Read:1\n",
    "\n",
    "and:1\n",
    "\n",
    "between:1\n",
    "\n",
    "choosing:1\n",
    "\n",
    "or:2\n",
    "\n",
    "to:1\n",
    "\n"
   ]
  },
  {
   "cell_type": "code",
   "execution_count": 1,
   "id": "99624a46",
   "metadata": {},
   "outputs": [
    {
     "name": "stdout",
     "output_type": "stream",
     "text": [
      "New:1\n",
      "to:1\n",
      "Python:5\n",
      "or:2\n",
      "choosing:1\n",
      "between:1\n",
      "2:2\n",
      "and:1\n",
      "3?:1\n",
      "Read:1\n",
      "3.:1\n"
     ]
    }
   ],
   "source": [
    "def freqCoun(string):\n",
    "    j=string.split()\n",
    "    temp=''\n",
    "    for i in j:\n",
    "        if i not in temp:\n",
    "            print(f'{i}:{j.count(i)}')\n",
    "            temp+=i\n",
    "            \n",
    "\n",
    "            \n",
    "freqCoun(\"New to Python or choosing between Python 2 and Python 3? Read Python 2 or Python 3.\")"
   ]
  },
  {
   "cell_type": "markdown",
   "id": "173e8b8d",
   "metadata": {},
   "source": [
    "# Question 3:\n",
    "\n",
    "\n",
    "\n",
    "Define a class Person and its two child classes: Male and Female. All classes have a method \"getGender\" which can print \"Male\" for Male class and \"Female\" for Female class.\n",
    "\n"
   ]
  },
  {
   "cell_type": "code",
   "execution_count": 2,
   "id": "e3fd35e7",
   "metadata": {},
   "outputs": [
    {
     "name": "stdout",
     "output_type": "stream",
     "text": [
      "For male child class: Karan\n",
      "For female child class: Dimple\n"
     ]
    }
   ],
   "source": [
    "class Person:\n",
    "    def __init__(self):\n",
    "        pass\n",
    "        \n",
    "    def getGender(self):\n",
    "        return 'This is a parent class'\n",
    "    \n",
    "class Male(Person):\n",
    "    def __init__(self,male_cm,*args):\n",
    "        super(Male,self).__init__(*args)\n",
    "        self.male_child=male_cm\n",
    "    \n",
    "    def getGender(self):\n",
    "        return self.male_child\n",
    "    \n",
    "\n",
    "class Female(Person):\n",
    "    def __init__(self,female_cm,*args):\n",
    "        super(Female,self).__init__(*args)\n",
    "        self.female_child=female_cm\n",
    "    def getGender(self):\n",
    "        return self.female_child\n",
    "    \n",
    "    \n",
    "ob_p=Person()\n",
    "ob_male=Male('Karan')\n",
    "ob_female=Female('Dimple')\n",
    "    \n",
    "    \n",
    "    \n",
    "print(f'For male child class: {ob_male.getGender()}')\n",
    "print(f'For female child class: {ob_female.getGender()}')"
   ]
  },
  {
   "cell_type": "markdown",
   "id": "7c2499ba",
   "metadata": {},
   "source": [
    "# Question 4:\n",
    "Please write a program to generate all sentences where subject is in [\"I\", \"You\"] and verb is in [\"Play\", \"Love\"] and the object is in [\"Hockey\",\"Football\"].\n",
    "\n",
    "\n"
   ]
  },
  {
   "cell_type": "code",
   "execution_count": 4,
   "id": "b6c2cc95",
   "metadata": {},
   "outputs": [
    {
     "name": "stdout",
     "output_type": "stream",
     "text": [
      "Enter a sentance:I Love to Play Hockey And Football and You?\n",
      "['I']\n",
      "['Love', 'Play']\n",
      "['Hockey', 'Football']\n"
     ]
    }
   ],
   "source": [
    "s1 = []\n",
    "verb=[]\n",
    "ob = []\n",
    "s = input('Enter a sentance:').split()\n",
    "\n",
    "for i in s:\n",
    "    try:\n",
    "        if(i=='I') or (i=='You'):\n",
    "            s1.append(i)\n",
    "            \n",
    "    except Exception as e:\n",
    "        print(e)\n",
    "        \n",
    "    try:\n",
    "        if(i=='Play') or (i=='Love'):\n",
    "            verb.append(i)\n",
    "            \n",
    "    except Exception as e:\n",
    "        print(e)\n",
    "        \n",
    "    try:\n",
    "        if(i=='Hockey') or (i=='Football'):\n",
    "            ob.append(i)\n",
    "            \n",
    "    except Exception as e:\n",
    "        print(e)\n",
    "        \n",
    "        \n",
    "print(s1)\n",
    "print(verb)\n",
    "print(ob)\n",
    "    \n",
    "    \n",
    "    \n",
    "            "
   ]
  },
  {
   "cell_type": "markdown",
   "id": "721af83f",
   "metadata": {},
   "source": [
    "# Question 5:\n",
    "Please write a program to compress and decompress the string \"hello world!hello world!hello world!hello world!\".\n",
    "\n"
   ]
  },
  {
   "cell_type": "code",
   "execution_count": 8,
   "id": "8401aa12",
   "metadata": {},
   "outputs": [
    {
     "name": "stdout",
     "output_type": "stream",
     "text": [
      "b'hello world!hello world!hello world!hello world!'\n"
     ]
    }
   ],
   "source": [
    "import gzip\n",
    "\n",
    "str = b\"hello world!hello world!hello world!hello world!\"\n",
    "str = gzip.compress(str)\n",
    "  \n",
    "final = gzip.decompress(str)\n",
    "print(final)"
   ]
  },
  {
   "cell_type": "markdown",
   "id": "e24b687a",
   "metadata": {},
   "source": [
    "# Question 6:\n",
    "Please write a binary search function which searches an item in a sorted list. The function should return the index of element to be searched in the list.\n"
   ]
  },
  {
   "cell_type": "code",
   "execution_count": 13,
   "id": "a89c6be3",
   "metadata": {},
   "outputs": [
    {
     "name": "stdout",
     "output_type": "stream",
     "text": [
      "[15, 25, 45, 62, 75, 85]\n",
      "Item 45 is present and its index number is 2\n"
     ]
    }
   ],
   "source": [
    "def bin_searchs(item):\n",
    "    list1 = [25,62,85,75,45,15]\n",
    "    \n",
    "    sortlis = sorted(list1)\n",
    "    \n",
    "    print(sortlis)\n",
    "    if item in sortlis:\n",
    "        print(f'Item {item} is present and its index number is {sortlis.index(item)}')\n",
    "    else:\n",
    "        print(f'Item {item} not present in the list')\n",
    "        \n",
    "bin_searchs(45)"
   ]
  }
 ],
 "metadata": {
  "kernelspec": {
   "display_name": "Python 3",
   "language": "python",
   "name": "python3"
  },
  "language_info": {
   "codemirror_mode": {
    "name": "ipython",
    "version": 3
   },
   "file_extension": ".py",
   "mimetype": "text/x-python",
   "name": "python",
   "nbconvert_exporter": "python",
   "pygments_lexer": "ipython3",
   "version": "3.8.8"
  }
 },
 "nbformat": 4,
 "nbformat_minor": 5
}
