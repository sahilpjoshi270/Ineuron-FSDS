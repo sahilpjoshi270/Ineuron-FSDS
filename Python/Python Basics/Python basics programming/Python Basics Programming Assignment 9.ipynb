{
 "cells": [
  {
   "cell_type": "markdown",
   "id": "3c4ed026",
   "metadata": {},
   "source": [
    "# 1.\tWrite a Python program to check if the given number is a Disarium Number?\n"
   ]
  },
  {
   "cell_type": "code",
   "execution_count": 6,
   "id": "09499d9f",
   "metadata": {},
   "outputs": [
    {
     "data": {
      "text/plain": [
       "'The number 2545 is not a Disarium Number'"
      ]
     },
     "execution_count": 6,
     "metadata": {},
     "output_type": "execute_result"
    }
   ],
   "source": [
    "import math\n",
    "import copy\n",
    "\n",
    "def checkDisarium(n):\n",
    "    pos = len(str(n))\n",
    "    s = 0\n",
    "    x = copy.deepcopy(n)\n",
    "    \n",
    "    while (x!=0):\n",
    "        remainder = x%10\n",
    "        s = s + int(remainder**pos)\n",
    "        x = x//10\n",
    "        pos = pos-1\n",
    "        \n",
    "    if s==n:\n",
    "        return f'The number {n} is Disarium Number'\n",
    "    \n",
    "    return f'The number {n} is not a Disarium Number'\n",
    "\n",
    "\n",
    "checkDisarium(2545)"
   ]
  },
  {
   "cell_type": "markdown",
   "id": "0cb3975d",
   "metadata": {},
   "source": [
    "# 2.\tWrite a Python program to print all disarium numbers between 1 to 100?\n"
   ]
  },
  {
   "cell_type": "code",
   "execution_count": 7,
   "id": "fd505ded",
   "metadata": {},
   "outputs": [
    {
     "data": {
      "text/plain": [
       "[1, 2, 3, 4, 5, 6, 7, 8, 9, 89]"
      ]
     },
     "execution_count": 7,
     "metadata": {},
     "output_type": "execute_result"
    }
   ],
   "source": [
    "def disarium(x,y):\n",
    "    l1 = []\n",
    "    for i in range(x,y):\n",
    "        count = len(str(i))\n",
    "        k = copy.deepcopy(i)\n",
    "        s=0\n",
    "        while k!=0:\n",
    "            rem = k%10\n",
    "            s = s+rem**count\n",
    "            count = count-1\n",
    "            k = k//10\n",
    "            \n",
    "        if s==i:\n",
    "            l1.append(i)\n",
    "        \n",
    "    return l1\n",
    "\n",
    "\n",
    "disarium(1,100)"
   ]
  },
  {
   "cell_type": "markdown",
   "id": "3f544b8b",
   "metadata": {},
   "source": [
    "# 3.\tWrite a Python program to check if the given number is Happy Number?\n"
   ]
  },
  {
   "cell_type": "code",
   "execution_count": 17,
   "id": "72611c17",
   "metadata": {},
   "outputs": [
    {
     "name": "stdout",
     "output_type": "stream",
     "text": [
      "Enter the number:23\n",
      "Number 23 is happy number\n"
     ]
    }
   ],
   "source": [
    "def happy(num):\n",
    "    r = 0\n",
    "    s=0\n",
    "    while num>0:\n",
    "        r = num%10\n",
    "        s=s+r*r\n",
    "        num = num//10\n",
    "    return s\n",
    "\n",
    "    \n",
    "    \n",
    "num = int(input(\"Enter the number:\"))\n",
    "result = num\n",
    "\n",
    "while ((result!=1)&(result!=4)):\n",
    "    result= happy(result)\n",
    "    \n",
    "    if result==1:\n",
    "        print(f'Number {num} is a happy number')\n",
    "    elif result==4:\n",
    "        print(f'Number {num} is not happy number')"
   ]
  },
  {
   "cell_type": "markdown",
   "id": "be91ddfe",
   "metadata": {},
   "source": [
    "# 4.\tWrite a Python program to print all happy numbers between 1 and 100?\n"
   ]
  },
  {
   "cell_type": "code",
   "execution_count": 2,
   "id": "42f7f763",
   "metadata": {},
   "outputs": [
    {
     "name": "stdout",
     "output_type": "stream",
     "text": [
      "1  7  10  13  19  23  28  31  32  44  49  68  70  79  82  86  91  94  97  100  "
     ]
    }
   ],
   "source": [
    "def happy1(num):\n",
    "    rem = 0\n",
    "    s = 0\n",
    "    while (num>0):\n",
    "        rem = num%10\n",
    "        s = s+(rem*rem)\n",
    "        num = num//10\n",
    "    return s\n",
    "for i in range(1,101):\n",
    "    result = i\n",
    "    \n",
    "    while(result!=1 and result!=4):\n",
    "        result = happy1(result)\n",
    "        \n",
    "    if result ==1:\n",
    "        print(i, end='  ')\n",
    "        "
   ]
  },
  {
   "cell_type": "markdown",
   "id": "9420cbb6",
   "metadata": {},
   "source": [
    "# 5.\tWrite a Python program to determine whether the given number is a Harshad Number?\n"
   ]
  },
  {
   "cell_type": "code",
   "execution_count": 11,
   "id": "ca5709ec",
   "metadata": {},
   "outputs": [
    {
     "name": "stdout",
     "output_type": "stream",
     "text": [
      "The no. 97 is not a Harshad Numbar\n"
     ]
    }
   ],
   "source": [
    "def checkHarshad(n):\n",
    "    s=0\n",
    "    rem=0\n",
    "    t = copy.deepcopy(n)\n",
    "    while(t>0):\n",
    "        rem = t%10\n",
    "        s = s+rem\n",
    "        t =t//10\n",
    "        \n",
    "    if (n%s==0):\n",
    "        print(f'The no. {n} is a Harshad Numbar')\n",
    "        \n",
    "    else:\n",
    "        print(f'The no. {n} is not a Harshad Numbar')\n",
    "        \n",
    "        \n",
    "checkHarshad(97)"
   ]
  },
  {
   "cell_type": "markdown",
   "id": "9166416f",
   "metadata": {},
   "source": [
    "# 6.\tWrite a Python program to print all pronic numbers between 1 and 100?\n"
   ]
  },
  {
   "cell_type": "code",
   "execution_count": 24,
   "id": "44341ffe",
   "metadata": {},
   "outputs": [
    {
     "name": "stdout",
     "output_type": "stream",
     "text": [
      "[2, 6, 12, 20, 30, 42, 56, 72, 90]\n"
     ]
    }
   ],
   "source": [
    "l = []\n",
    "for num in range(1,100):\n",
    "    for i in range(1,num +1):\n",
    "        if ((i+1)*i)==num:\n",
    "            l.append(num)\n",
    "            \n",
    "\n",
    "print(l)\n",
    "    "
   ]
  }
 ],
 "metadata": {
  "kernelspec": {
   "display_name": "Python 3",
   "language": "python",
   "name": "python3"
  },
  "language_info": {
   "codemirror_mode": {
    "name": "ipython",
    "version": 3
   },
   "file_extension": ".py",
   "mimetype": "text/x-python",
   "name": "python",
   "nbconvert_exporter": "python",
   "pygments_lexer": "ipython3",
   "version": "3.8.8"
  }
 },
 "nbformat": 4,
 "nbformat_minor": 5
}
