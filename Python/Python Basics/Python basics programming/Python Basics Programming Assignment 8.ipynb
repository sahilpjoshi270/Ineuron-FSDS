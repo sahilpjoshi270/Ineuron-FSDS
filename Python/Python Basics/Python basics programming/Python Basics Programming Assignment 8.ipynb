{
 "cells": [
  {
   "cell_type": "markdown",
   "id": "16992051",
   "metadata": {},
   "source": [
    "# 1.\tWrite a Python Program to Add Two Matrices?\n"
   ]
  },
  {
   "cell_type": "code",
   "execution_count": 1,
   "id": "cf44a0de",
   "metadata": {},
   "outputs": [
    {
     "name": "stdout",
     "output_type": "stream",
     "text": [
      "[[0 1 2 3]\n",
      " [4 5 6 7]] \n",
      "\n",
      "[[ 7  4 12 16]\n",
      " [ 9  6  7 10]] \n",
      "\n",
      "[[ 7  5 14 19]\n",
      " [13 11 13 17]]\n"
     ]
    }
   ],
   "source": [
    "import numpy as np\n",
    "\n",
    "matr1 = np.arange(8).reshape(2,4)\n",
    "matr2 = np.random.randint(1,17,8).reshape(2,4)\n",
    "print(matr1,\"\\n\")\n",
    "print(matr2,\"\\n\")\n",
    "\n",
    "\n",
    "print(np.add(matr1,matr2))\n",
    "\n",
    "\n",
    "\n",
    "\n"
   ]
  },
  {
   "cell_type": "markdown",
   "id": "ba667081",
   "metadata": {},
   "source": [
    "# 2.\tWrite a Python Program to Multiply Two Matrices?\n"
   ]
  },
  {
   "cell_type": "code",
   "execution_count": 2,
   "id": "0c5d0694",
   "metadata": {},
   "outputs": [
    {
     "name": "stdout",
     "output_type": "stream",
     "text": [
      "[[ 0  4 24 48]\n",
      " [36 30 42 70]]\n"
     ]
    }
   ],
   "source": [
    "\n",
    "print(np.multiply(matr1,matr2))"
   ]
  },
  {
   "cell_type": "markdown",
   "id": "6495daf3",
   "metadata": {},
   "source": [
    "# 3.\tWrite a Python Program to Transpose a Matrix?\n"
   ]
  },
  {
   "cell_type": "code",
   "execution_count": 5,
   "id": "5f3bf7c3",
   "metadata": {},
   "outputs": [
    {
     "name": "stdout",
     "output_type": "stream",
     "text": [
      "[[0 4]\n",
      " [1 5]\n",
      " [2 6]\n",
      " [3 7]]\n"
     ]
    }
   ],
   "source": [
    "print(matr1.T)"
   ]
  },
  {
   "cell_type": "markdown",
   "id": "c70d631b",
   "metadata": {},
   "source": [
    "# 4.\tWrite a Python Program to Sort Words in Alphabetic Order?\n",
    "\n"
   ]
  },
  {
   "cell_type": "code",
   "execution_count": 4,
   "id": "2e1530b0",
   "metadata": {},
   "outputs": [
    {
     "name": "stdout",
     "output_type": "stream",
     "text": [
      "['ben', 'dick', 'dom', 'harry', 'john', 'tom']\n"
     ]
    }
   ],
   "source": [
    "l1 = ['tom','dick','harry','dom','ben','john']\n",
    "print(sorted(l1))"
   ]
  },
  {
   "cell_type": "markdown",
   "id": "fc97e7bb",
   "metadata": {},
   "source": [
    "# 5.\tWrite a Python Program to Remove Punctuation From a String?"
   ]
  },
  {
   "cell_type": "code",
   "execution_count": 6,
   "id": "0f9b3d91",
   "metadata": {},
   "outputs": [
    {
     "data": {
      "text/plain": [
       "'Hello my name is Sahil i am 22 years old. I live in Mumbai and i am learning data science from INeuron.ai'"
      ]
     },
     "execution_count": 6,
     "metadata": {},
     "output_type": "execute_result"
    }
   ],
   "source": [
    "s='Hello my name is Sahil, i am 22 years old. I live in Mumbai, and i am learning data science from INeuron.ai'\n",
    "\n",
    "''.join(s.split(','))"
   ]
  }
 ],
 "metadata": {
  "kernelspec": {
   "display_name": "Python 3",
   "language": "python",
   "name": "python3"
  },
  "language_info": {
   "codemirror_mode": {
    "name": "ipython",
    "version": 3
   },
   "file_extension": ".py",
   "mimetype": "text/x-python",
   "name": "python",
   "nbconvert_exporter": "python",
   "pygments_lexer": "ipython3",
   "version": "3.8.8"
  }
 },
 "nbformat": 4,
 "nbformat_minor": 5
}
