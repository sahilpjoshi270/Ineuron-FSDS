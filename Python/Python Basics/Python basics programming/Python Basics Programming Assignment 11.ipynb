{
 "cells": [
  {
   "cell_type": "markdown",
   "id": "aa54d53b",
   "metadata": {},
   "source": [
    "# 1.\tWrite a Python program to find words which are greater than given length k?\n"
   ]
  },
  {
   "cell_type": "code",
   "execution_count": 1,
   "id": "8b6faf08",
   "metadata": {},
   "outputs": [
    {
     "name": "stdout",
     "output_type": "stream",
     "text": [
      "Enter the 0 word  :don\n",
      "Enter the 1 word  :donald\n",
      "Enter the 2 word  :frankin\n",
      "Enter the 3 word  :dum\n",
      "Enter the 4 word  :boskp\n",
      "donald  frankin  boskp  "
     ]
    }
   ],
   "source": [
    "k = 3\n",
    "l = []\n",
    "for i in range(5):\n",
    "    w= input(f\"Enter the {i} word  :\")\n",
    "    l.append(w)\n",
    "    \n",
    "for i in l:\n",
    "    if len(i)>k:\n",
    "        print(i, end=\"  \")"
   ]
  },
  {
   "cell_type": "markdown",
   "id": "92ae6b3d",
   "metadata": {},
   "source": [
    "# 2.\tWrite a Python program for removing i-th character from a string?\n"
   ]
  },
  {
   "cell_type": "code",
   "execution_count": 8,
   "id": "6e5be7b2",
   "metadata": {},
   "outputs": [
    {
     "data": {
      "text/plain": [
       "'My name s sahl. I am a student of Ineuron.a'"
      ]
     },
     "execution_count": 8,
     "metadata": {},
     "output_type": "execute_result"
    }
   ],
   "source": [
    "s = \"My name is sahil. I am a student of Ineuron.ai\"\n",
    "\n",
    "''.join(s.split('i'))"
   ]
  },
  {
   "cell_type": "markdown",
   "id": "c43f699e",
   "metadata": {},
   "source": [
    "# 3.\tWrite a Python program to split and join a string?\n"
   ]
  },
  {
   "cell_type": "code",
   "execution_count": 6,
   "id": "90f9f0de",
   "metadata": {},
   "outputs": [
    {
     "name": "stdout",
     "output_type": "stream",
     "text": [
      "Splitted sentance : ['My', 'name', 'is', 'sahil.', 'i', 'am', 'from', 'mumbai']\n",
      "Joined sentance : My name is sahil. i am from mumbai\n"
     ]
    }
   ],
   "source": [
    "def spljoin(s):\n",
    "    spl = s.split()\n",
    "    print(\"Splitted sentance :\", spl)\n",
    "    jo = ' '.join(spl)\n",
    "    print(\"Joined sentance :\", jo)\n",
    "    \n",
    "spljoin(\"My name is sahil. i am from mumbai\")"
   ]
  },
  {
   "cell_type": "markdown",
   "id": "f9418eeb",
   "metadata": {},
   "source": [
    "# 4.\tWrite a Python to check if a given string is binary string or not?\n"
   ]
  },
  {
   "cell_type": "code",
   "execution_count": 14,
   "id": "2da2d06e",
   "metadata": {},
   "outputs": [
    {
     "name": "stdout",
     "output_type": "stream",
     "text": [
      "String is non binary\n"
     ]
    }
   ],
   "source": [
    "def chckBinary(str):\n",
    "    chk = set(str)\n",
    "    binary = {'0','1'}\n",
    "    \n",
    "    \n",
    "    if binary == chk or chk=={'0'} or chk =={'1'}:\n",
    "        print(\"String is binary\")\n",
    "        \n",
    "    else:\n",
    "        print(\"String is non binary\")\n",
    "    \n",
    "\n",
    "chckBinary(\"Thomas is an old train\")"
   ]
  },
  {
   "cell_type": "markdown",
   "id": "124556bc",
   "metadata": {},
   "source": [
    "# 5.\tWrite a Python program to find uncommon words from two Strings?\n"
   ]
  },
  {
   "cell_type": "code",
   "execution_count": 17,
   "id": "f9cfc13e",
   "metadata": {},
   "outputs": [
    {
     "name": "stdout",
     "output_type": "stream",
     "text": [
      "['Thor', 'is', 'the', 'strongest', 'Avenger'] \n",
      " ['CaptainMarvel', 'is', 'the', 'strongest', 'Avenger']\n",
      "['Thor', 'CaptainMarvel']\n"
     ]
    }
   ],
   "source": [
    "str1=\"Thor is the strongest Avenger\"\n",
    "str2=\"CaptainMarvel is the strongest Avenger\"\n",
    "a = str1.split()\n",
    "b = str2.split()\n",
    "print(a,\"\\n\",b)\n",
    "l = []\n",
    "for i in a:\n",
    "    if i not in b:\n",
    "        l.append(i)\n",
    "        \n",
    "for j in b:\n",
    "    if j not in a:\n",
    "        l.append(j)\n",
    "        \n",
    "print(l)"
   ]
  },
  {
   "cell_type": "markdown",
   "id": "0bafda73",
   "metadata": {},
   "source": [
    "# 6.\tWrite a Python to find all duplicate characters in string?\n"
   ]
  },
  {
   "cell_type": "code",
   "execution_count": 4,
   "id": "73a3e05f",
   "metadata": {},
   "outputs": [
    {
     "name": "stdout",
     "output_type": "stream",
     "text": [
      "s h i l "
     ]
    }
   ],
   "source": [
    "s1 = 'sahil'\n",
    "s2 = 'skhil'\n",
    "temp =' '\n",
    "for i in s1:\n",
    "    if i not in temp:\n",
    "        if i in s2:\n",
    "            print(i, end=\" \")\n",
    "            temp+=i"
   ]
  },
  {
   "cell_type": "markdown",
   "id": "71fa29ff",
   "metadata": {},
   "source": [
    "# 7.\tWrite a Python Program to check if a string contains any special character?\n"
   ]
  },
  {
   "cell_type": "code",
   "execution_count": null,
   "id": "dd885626",
   "metadata": {},
   "outputs": [],
   "source": [
    "spcl='[@_!#$%^&*()<>?/\\|}{~:]'\n",
    "s = str(input(\"Enter a string\"))\n",
    "f = False\n",
    "for i in s:\n",
    "    if i not in spcl:\n",
    "        f = True\n",
    "        \n",
    "    else:\n",
    "        f= False\n",
    "        \n",
    "if f == True:\n",
    "    print(\"Not Contains special charachters\")\n",
    "    \n",
    "else:\n",
    "    print(\"Contains special charachters\")"
   ]
  }
 ],
 "metadata": {
  "kernelspec": {
   "display_name": "Python 3",
   "language": "python",
   "name": "python3"
  },
  "language_info": {
   "codemirror_mode": {
    "name": "ipython",
    "version": 3
   },
   "file_extension": ".py",
   "mimetype": "text/x-python",
   "name": "python",
   "nbconvert_exporter": "python",
   "pygments_lexer": "ipython3",
   "version": "3.8.8"
  }
 },
 "nbformat": 4,
 "nbformat_minor": 5
}
