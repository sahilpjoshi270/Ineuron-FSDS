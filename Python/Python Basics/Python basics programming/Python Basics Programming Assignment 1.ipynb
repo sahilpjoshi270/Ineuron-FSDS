{
 "cells": [
  {
   "cell_type": "markdown",
   "id": "2bd5a0c5",
   "metadata": {},
   "source": [
    "# 1. Write a Python program to print \"Hello Python\"?\n",
    "\n"
   ]
  },
  {
   "cell_type": "code",
   "execution_count": 1,
   "id": "a8a328bb",
   "metadata": {},
   "outputs": [
    {
     "name": "stdout",
     "output_type": "stream",
     "text": [
      "hello world\n"
     ]
    }
   ],
   "source": [
    "print(\"hello world\")"
   ]
  },
  {
   "cell_type": "markdown",
   "id": "8608f383",
   "metadata": {},
   "source": [
    "# 2.Write a Python program to do arithmetical operations addition and division.?\n",
    "\n"
   ]
  },
  {
   "cell_type": "code",
   "execution_count": 2,
   "id": "f7f0db7f",
   "metadata": {},
   "outputs": [
    {
     "name": "stdout",
     "output_type": "stream",
     "text": [
      "Enter the 1st No.\n"
     ]
    },
    {
     "ename": "ValueError",
     "evalue": "invalid literal for int() with base 10: ''",
     "output_type": "error",
     "traceback": [
      "\u001b[1;31m---------------------------------------------------------------------------\u001b[0m",
      "\u001b[1;31mValueError\u001b[0m                                Traceback (most recent call last)",
      "\u001b[1;32m<ipython-input-2-86a636a9dd40>\u001b[0m in \u001b[0;36m<module>\u001b[1;34m\u001b[0m\n\u001b[1;32m----> 1\u001b[1;33m \u001b[0ma\u001b[0m \u001b[1;33m=\u001b[0m \u001b[0mint\u001b[0m\u001b[1;33m(\u001b[0m\u001b[0minput\u001b[0m\u001b[1;33m(\u001b[0m\u001b[1;34m\"Enter the 1st No.\"\u001b[0m\u001b[1;33m)\u001b[0m\u001b[1;33m)\u001b[0m\u001b[1;33m\u001b[0m\u001b[1;33m\u001b[0m\u001b[0m\n\u001b[0m\u001b[0;32m      2\u001b[0m \u001b[0mb\u001b[0m \u001b[1;33m=\u001b[0m \u001b[0mint\u001b[0m\u001b[1;33m(\u001b[0m\u001b[0minput\u001b[0m\u001b[1;33m(\u001b[0m\u001b[1;34m\"Enter the 2nd No.\"\u001b[0m\u001b[1;33m)\u001b[0m\u001b[1;33m)\u001b[0m\u001b[1;33m\u001b[0m\u001b[1;33m\u001b[0m\u001b[0m\n\u001b[0;32m      3\u001b[0m \u001b[0mc\u001b[0m \u001b[1;33m=\u001b[0m \u001b[0minput\u001b[0m\u001b[1;33m(\u001b[0m\u001b[1;34m\"Enter a for addition d for division\"\u001b[0m\u001b[1;33m)\u001b[0m\u001b[1;33m\u001b[0m\u001b[1;33m\u001b[0m\u001b[0m\n\u001b[0;32m      4\u001b[0m \u001b[1;33m\u001b[0m\u001b[0m\n\u001b[0;32m      5\u001b[0m \u001b[1;32mif\u001b[0m \u001b[0mc\u001b[0m \u001b[1;33m==\u001b[0m \u001b[1;34m\"a\"\u001b[0m\u001b[1;33m:\u001b[0m\u001b[1;33m\u001b[0m\u001b[1;33m\u001b[0m\u001b[0m\n",
      "\u001b[1;31mValueError\u001b[0m: invalid literal for int() with base 10: ''"
     ]
    }
   ],
   "source": [
    "a = int(input(\"Enter the 1st No.\"))\n",
    "b = int(input(\"Enter the 2nd No.\"))\n",
    "c = input(\"Enter a for addition d for division\")\n",
    "\n",
    "if c == \"a\":\n",
    "    print(\"The sum of the two no.s is\",a+b)\n",
    "    \n",
    "if c == \"d\":\n",
    "    print(\"The division of the two no.s is\",a/b)"
   ]
  },
  {
   "cell_type": "markdown",
   "id": "26f7d438",
   "metadata": {},
   "source": [
    "# 3.Write a Python program to find the area of a triangle?\n"
   ]
  },
  {
   "cell_type": "code",
   "execution_count": 6,
   "id": "0127f7cb",
   "metadata": {},
   "outputs": [
    {
     "name": "stdout",
     "output_type": "stream",
     "text": [
      "Enter the base of the triangle 4\n",
      "Enter the height of the triangle 4\n",
      "The area of the triangle is  8.0\n"
     ]
    }
   ],
   "source": [
    "bs = int(input(\"Enter the base of the triangle \"))\n",
    "h = int(input(\"Enter the height of the triangle \"))\n",
    "print(\"The area of the triangle is \", (bs*h)/2)"
   ]
  },
  {
   "cell_type": "markdown",
   "id": "a195bd1a",
   "metadata": {},
   "source": [
    "# 4.\tWrite a Python program to swap two variables?\n"
   ]
  },
  {
   "cell_type": "code",
   "execution_count": 4,
   "id": "5221e62c",
   "metadata": {},
   "outputs": [
    {
     "name": "stdout",
     "output_type": "stream",
     "text": [
      "Enter 1st no.\n",
      "Enter 2st no.\n",
      "The values before swapping are:  \n",
      "The values after swapping are:  \n"
     ]
    }
   ],
   "source": [
    "r = input(\"Enter 1st no.\")\n",
    "y = input(\"Enter 2st no.\")\n",
    "print(\"The values before swapping are:\", r,  y)\n",
    "#swapping by using a temporory no.\n",
    "\n",
    "swap = r\n",
    "r = y\n",
    "y = swap\n",
    "\n",
    "print(\"The values after swapping are:\", r,  y)"
   ]
  },
  {
   "cell_type": "markdown",
   "id": "41d9d3aa",
   "metadata": {},
   "source": [
    "# 5 Write a Python program to generate a random number?\n"
   ]
  },
  {
   "cell_type": "code",
   "execution_count": 5,
   "id": "d31b35d6",
   "metadata": {},
   "outputs": [
    {
     "name": "stdout",
     "output_type": "stream",
     "text": [
      "Generated random no. is 35\n"
     ]
    }
   ],
   "source": [
    "import random\n",
    "print(\"Generated random no. is\", random.randint(0,100))\n"
   ]
  }
 ],
 "metadata": {
  "kernelspec": {
   "display_name": "Python 3",
   "language": "python",
   "name": "python3"
  },
  "language_info": {
   "codemirror_mode": {
    "name": "ipython",
    "version": 3
   },
   "file_extension": ".py",
   "mimetype": "text/x-python",
   "name": "python",
   "nbconvert_exporter": "python",
   "pygments_lexer": "ipython3",
   "version": "3.8.8"
  }
 },
 "nbformat": 4,
 "nbformat_minor": 5
}
