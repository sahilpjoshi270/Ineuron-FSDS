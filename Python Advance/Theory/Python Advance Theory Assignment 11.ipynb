{
 "cells": [
  {
   "cell_type": "markdown",
   "id": "6e57d55f",
   "metadata": {},
   "source": [
    "# Q1. What is the concept of a metaclass?\n",
    "\n",
    "\n",
    "\n"
   ]
  },
  {
   "cell_type": "markdown",
   "id": "edc3d818",
   "metadata": {},
   "source": [
    "In object-oriented programming, a metaclass is a class whose instances are classes. Just as an ordinary class defines the behavior of certain objects, a metaclass defines the behavior of certain classes and their instances. \n",
    "\n",
    "A class is itself an instance of a metaclass."
   ]
  },
  {
   "cell_type": "markdown",
   "id": "a89e6fb7",
   "metadata": {},
   "source": [
    "# Q2. What is the best way to declare a class's metaclass?\n",
    "\n",
    "\n",
    "\n"
   ]
  },
  {
   "cell_type": "markdown",
   "id": "69783fbc",
   "metadata": {},
   "source": [
    "type is a default metaclass in python. But we can create a meta class in the following way:"
   ]
  },
  {
   "cell_type": "code",
   "execution_count": 5,
   "id": "bd069af6",
   "metadata": {},
   "outputs": [
    {
     "data": {
      "text/plain": [
       "__main__.meta_class2"
      ]
     },
     "execution_count": 5,
     "metadata": {},
     "output_type": "execute_result"
    }
   ],
   "source": [
    "class meta_class2(type):\n",
    "    pass\n",
    "\n",
    "class test2(metaclass=meta_class2):\n",
    "    pass\n",
    "\n",
    "\n",
    "type(test2)"
   ]
  },
  {
   "cell_type": "markdown",
   "id": "e952cf90",
   "metadata": {},
   "source": [
    "# Q3. How do class decorators overlap with metaclasses for handling classes?\n",
    "\n",
    "\n",
    "\n"
   ]
  },
  {
   "cell_type": "markdown",
   "id": "0ea617f4",
   "metadata": {},
   "source": [
    "Anything you can do with a class decorator, you can of course do with a custom metaclasses (just apply the functionality of the \"decorator function\", i.e., the one that takes a class object and modifies it, in the course of the metaclass's __new__ or __init__ that make the class object!)."
   ]
  },
  {
   "cell_type": "markdown",
   "id": "d42d452e",
   "metadata": {},
   "source": [
    "# Q4. How do class decorators overlap with metaclasses for handling instances?\n"
   ]
  },
  {
   "cell_type": "markdown",
   "id": "139314b9",
   "metadata": {},
   "source": [
    "Same Question as above."
   ]
  }
 ],
 "metadata": {
  "kernelspec": {
   "display_name": "Python 3",
   "language": "python",
   "name": "python3"
  },
  "language_info": {
   "codemirror_mode": {
    "name": "ipython",
    "version": 3
   },
   "file_extension": ".py",
   "mimetype": "text/x-python",
   "name": "python",
   "nbconvert_exporter": "python",
   "pygments_lexer": "ipython3",
   "version": "3.8.8"
  }
 },
 "nbformat": 4,
 "nbformat_minor": 5
}
