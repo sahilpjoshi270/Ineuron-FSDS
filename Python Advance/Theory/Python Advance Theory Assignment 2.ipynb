{
 "cells": [
  {
   "cell_type": "markdown",
   "id": "d32d24c5",
   "metadata": {},
   "source": [
    "# Q1. What is the relationship between classes and modules?\n",
    "\n",
    "\n",
    "\n"
   ]
  },
  {
   "cell_type": "markdown",
   "id": "9954d5d6",
   "metadata": {},
   "source": [
    "When we create a clas and save it as .py file then we have actually created a module. So we can use it by calling import keyword following the file name where class was created.\n",
    "Then we can use the class.\n",
    "\n",
    "Example: mod.py is a file in which class student is created. Then what we do is:\n",
    "\n",
    "from mod import student\n",
    "\n",
    "ob=student() #creating class instance for calling data..."
   ]
  },
  {
   "cell_type": "markdown",
   "id": "1ccc4959",
   "metadata": {},
   "source": [
    "# Q2. How do you make instances and classes?\n",
    "\n",
    "\n",
    "\n"
   ]
  },
  {
   "cell_type": "markdown",
   "id": "4ba077af",
   "metadata": {},
   "source": [
    "Following is the steps by which we can create a class and its instances\n",
    "\n",
    "class student:          #class created\n",
    "    \n",
    "    def __init__(self):\n",
    "    \n",
    "        ------\n",
    "        ------\n",
    "        \n",
    "class_instance=student()   #instance created"
   ]
  },
  {
   "cell_type": "markdown",
   "id": "ae991a24",
   "metadata": {},
   "source": [
    "# Q3. Where and how should be class attributes created?\n",
    "\n",
    "\n",
    "\n"
   ]
  },
  {
   "cell_type": "markdown",
   "id": "a84b1dba",
   "metadata": {},
   "source": [
    "class student:\n",
    "\n",
    "    cls_attribute=10    #class attribute is created\n",
    "    \n",
    "    def __init__(self):\n",
    "    \n",
    "        pass\n",
    "        \n",
    "object=student()  \n",
    "\n",
    "student.cls_attribute  o/p: 10\n",
    "\n",
    "object.cl_attribute   o/p: 10"
   ]
  },
  {
   "cell_type": "markdown",
   "id": "59c40470",
   "metadata": {},
   "source": [
    "# Q4. Where and how are instance attributes created?\n",
    "\n",
    "\n",
    "\n"
   ]
  },
  {
   "cell_type": "markdown",
   "id": "6eba4744",
   "metadata": {},
   "source": [
    "class student:\n",
    "    \n",
    "    def __init__(self,attr1,attr2,attr3):   # instaattribues are created\n",
    "        self.a1=attr1                       #attributes are initialise\n",
    "        self.a2=attr2\n",
    "        self.a3=attr3\n",
    "        \n",
    "object=student(1,2,3)  #these values will pass to the attibutes above respectively\n",
    "\n",
    "\n",
    "object.a1   o/p: 1\n",
    "object.a1   o/p: 2\n",
    "object.a1   o/p: 3"
   ]
  },
  {
   "cell_type": "markdown",
   "id": "91810653",
   "metadata": {},
   "source": [
    "# Q5. What does the term \"self\" in a Python class mean?\n",
    "\n",
    "\n",
    "\n"
   ]
  },
  {
   "cell_type": "markdown",
   "id": "2a14d4d2",
   "metadata": {},
   "source": [
    "The self term in python acts as a pointer to itself.That means it points to the object/instance,of a class, binding with the variable which has been initialized and are sending to the class by using init() function"
   ]
  },
  {
   "cell_type": "markdown",
   "id": "cbd24318",
   "metadata": {},
   "source": [
    "# Q6. How does a Python class handle operator overloading?\n",
    "\n",
    "\n",
    "\n"
   ]
  },
  {
   "cell_type": "markdown",
   "id": "4abde2f9",
   "metadata": {},
   "source": [
    "Operator overloading means we can use the same operator for different purposes based on thier type.\n",
    "\n",
    "for eg. + operataor is used for both adding integers and concatination of two strings.\n",
    "\n",
    "\n",
    "object1=student('shivansh')\n",
    "\n",
    "object2=student('jayara')\n",
    "\n",
    "object3=student(10)\n",
    "\n",
    "object4=student(30)\n",
    "\n",
    "print(object1+object2) # using '+' operator to call __add__ builtin function\n",
    "\n",
    "print(object3+object4) #concatenitaion the two stringprint(object3+object4)"
   ]
  },
  {
   "cell_type": "markdown",
   "id": "f63e1f5d",
   "metadata": {},
   "source": [
    "# Q7. When do you consider allowing operator overloading of your classes?\n",
    "\n",
    "\n",
    "\n"
   ]
  },
  {
   "cell_type": "markdown",
   "id": "cf025d4f",
   "metadata": {},
   "source": [
    "When we want our operator perform more than one operation in our class with different objects then we try to use operator overloading. \n",
    "\n",
    "Like if we call a method say ' add ', then we can use this method to summing up the integers which is stored in some objects as well we can concatenate the strings which are store in some other objects.\n",
    "\n",
    "Meaning same '+' operator is used for performing different operation based on the different data type given."
   ]
  },
  {
   "cell_type": "markdown",
   "id": "493e885e",
   "metadata": {},
   "source": [
    "# Q8. What is the most popular form of operator overloading?\n",
    "\n",
    "\n",
    "\n"
   ]
  },
  {
   "cell_type": "markdown",
   "id": "240a3a8e",
   "metadata": {},
   "source": [
    "Generally addition operator is use mostly for operator overloading by using magic method add"
   ]
  },
  {
   "cell_type": "markdown",
   "id": "76823da2",
   "metadata": {},
   "source": [
    "# Q9. What are the two most important concepts to grasp in order to comprehend Python OOP code?\n"
   ]
  },
  {
   "cell_type": "markdown",
   "id": "0aadac56",
   "metadata": {},
   "source": [
    "Two key concept required to understand python OOP code are: inheritance and polymorphism\n",
    "\n",
    "Inheritence: It means inheriting the properties and behaviour of the parent class to the child class.. We do not then required to initialse the data again and again once we inherit the data from the parent class.\n",
    "\n",
    "Polymorphism: It means many form. Under the class a function can take many form with the same name. It only differe from others by its parameter or the way it is being operate. Function overloading and overriding comes under this concept."
   ]
  }
 ],
 "metadata": {
  "kernelspec": {
   "display_name": "Python 3",
   "language": "python",
   "name": "python3"
  },
  "language_info": {
   "codemirror_mode": {
    "name": "ipython",
    "version": 3
   },
   "file_extension": ".py",
   "mimetype": "text/x-python",
   "name": "python",
   "nbconvert_exporter": "python",
   "pygments_lexer": "ipython3",
   "version": "3.8.8"
  }
 },
 "nbformat": 4,
 "nbformat_minor": 5
}
