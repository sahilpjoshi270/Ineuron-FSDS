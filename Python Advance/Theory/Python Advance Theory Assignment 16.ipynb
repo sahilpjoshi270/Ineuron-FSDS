{
 "cells": [
  {
   "cell_type": "markdown",
   "id": "160393db",
   "metadata": {},
   "source": [
    "# Q1. What is the benefit of regular expressions?\n",
    "\n",
    "\n",
    "\n"
   ]
  },
  {
   "cell_type": "markdown",
   "id": "87cdc79a",
   "metadata": {},
   "source": [
    "Regular Expressions, also known as __`regex`__ or __`regexp`__, are used to match strings of text such as particular characters, words, or patterns of characters. It means that we can match and extract any string pattern from the text with the help of regular expressions. \n",
    "\n",
    "It helps the programmers to Write less and cleaner code. It also avoids multiple use of if/else statements."
   ]
  },
  {
   "cell_type": "markdown",
   "id": "08f158c9",
   "metadata": {},
   "source": [
    "# Q2. Describe the difference between the effects of \"(ab)c+\" and \"a(bc)+.\" Which of these, if any, is the unqualified pattern \"abc+\"?\n",
    "\n",
    "\n",
    "\n"
   ]
  },
  {
   "cell_type": "markdown",
   "id": "3c07c31a",
   "metadata": {},
   "source": [
    " Both `(ab)c+` and `a(bc)+` are valid patterns. \n",
    " \n",
    " The difference between both these patterns is in `(ab)c+` ab is group whereas in `a(bc)+` bc is a group."
   ]
  },
  {
   "cell_type": "markdown",
   "id": "f0b8411b",
   "metadata": {},
   "source": [
    "# Q3. How much do you need to use the following sentence while using regular expressions?\n",
    "\n",
    "## import re"
   ]
  },
  {
   "cell_type": "markdown",
   "id": "b2242632",
   "metadata": {},
   "source": [
    "__`import re`__ statement always has to be imported before using regular expressions."
   ]
  },
  {
   "cell_type": "markdown",
   "id": "6fa41839",
   "metadata": {},
   "source": [
    "# Q4. Which characters have special significance in square brackets when expressing a range, and under what circumstances?\n",
    "\n",
    "\n",
    "\n"
   ]
  },
  {
   "cell_type": "markdown",
   "id": "b165306c",
   "metadata": {},
   "source": [
    "The Characters __`.,*,?,^,or,()`__, have a special signiface when used with square brackets. They need not be be explicitly escaped by \\ as in case of pattern texts in a raw string."
   ]
  },
  {
   "cell_type": "markdown",
   "id": "9fb7588b",
   "metadata": {},
   "source": [
    "# Q5. How does compiling a regular-expression object benefit you?\n",
    "\n",
    "\n",
    "\n"
   ]
  },
  {
   "cell_type": "markdown",
   "id": "f204cacd",
   "metadata": {},
   "source": [
    "We can Combine a regular expression pattern into pattern Objects. Which can be used for pattern matching. It also helps to search a pattern again without rewritting it."
   ]
  },
  {
   "cell_type": "markdown",
   "id": "90201e02",
   "metadata": {},
   "source": [
    "# Q6. What are some examples of how to use the match object returned by re.match and re.search?\n",
    "\n",
    "\n",
    "\n"
   ]
  },
  {
   "cell_type": "markdown",
   "id": "93f936a4",
   "metadata": {},
   "source": [
    "The __`re.search()`__ and __`re.match()`__ both are functions of re module in python. These functions are very efficient and fast for searching in strings. The function searches for some substring in a string and returns a match object if found, else it returns none.\n",
    "\n",
    "There is a difference between the use of both functions. Both return the first match of a substring found in the string, but __`re.match()`__ searches only from the beginning of the string and return match object if found. But if a match of substring is found somewhere in the middle of the string, it returns none.\n",
    "\n",
    "While __`re.search()`__ searches for the whole string even if the string contains multi-lines and tries to find a match of the substring in all the lines of string\n",
    "\n"
   ]
  },
  {
   "cell_type": "code",
   "execution_count": 1,
   "id": "a43acf7b",
   "metadata": {},
   "outputs": [
    {
     "name": "stdout",
     "output_type": "stream",
     "text": [
      "<re.Match object; span=(45, 52), match='vaccine'>\n",
      "<re.Match object; span=(0, 7), match='Vaccine'>\n",
      "None\n",
      "<re.Match object; span=(0, 7), match='Vaccine'>\n"
     ]
    }
   ],
   "source": [
    "import re\n",
    "\n",
    "ss='Vaccine'\n",
    "str1 = 'Everyone 15 and older is eligible to get the vaccine against Covid-19.'\n",
    "str2 = 'Vaccines.gov helps you find clinics, pharmacies, and other locations that offer COVID-19 vaccine in the United States.'\n",
    "print(re.search(ss,str1, re.IGNORECASE))\n",
    "print(re.search(ss,str2, re.IGNORECASE))\n",
    "print(re.match(ss,str1, re.IGNORECASE))\n",
    "print(re.match(ss,str2, re.IGNORECASE))"
   ]
  },
  {
   "cell_type": "markdown",
   "id": "032ce528",
   "metadata": {},
   "source": [
    "# Q7. What is the difference between using a vertical bar (|) as an alteration and using square brackets as a character set?\n",
    "\n",
    "\n",
    "\n"
   ]
  },
  {
   "cell_type": "markdown",
   "id": "a06e185e",
   "metadata": {},
   "source": [
    "When `|` is used then patterns searches for __`or`__ option. i.e __`<pattern_1>|<pattern_2>`__ means it searches as __`<pattern_1>or<<pattern_2>`__ in the searched string. the first occurance of matched string will be returned as the Match Object. Using Character set in square Brackets searches for all the character set in the square bracket and if match is found, it returns it."
   ]
  },
  {
   "cell_type": "markdown",
   "id": "566d31b0",
   "metadata": {},
   "source": [
    "# Q8. In regular-expression search patterns, why is it necessary to use the raw-string indicator (r)? In   replacement strings?\n",
    "\n",
    "\n"
   ]
  },
  {
   "cell_type": "markdown",
   "id": "b0219e17",
   "metadata": {},
   "source": [
    "Raw Strings are used in the regular-expression search patterns, so that blackslashes donot have to be escaped."
   ]
  }
 ],
 "metadata": {
  "kernelspec": {
   "display_name": "Python 3",
   "language": "python",
   "name": "python3"
  },
  "language_info": {
   "codemirror_mode": {
    "name": "ipython",
    "version": 3
   },
   "file_extension": ".py",
   "mimetype": "text/x-python",
   "name": "python",
   "nbconvert_exporter": "python",
   "pygments_lexer": "ipython3",
   "version": "3.8.8"
  }
 },
 "nbformat": 4,
 "nbformat_minor": 5
}
