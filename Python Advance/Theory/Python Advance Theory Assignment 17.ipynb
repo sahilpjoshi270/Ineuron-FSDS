{
 "cells": [
  {
   "cell_type": "markdown",
   "id": "b70c0f59",
   "metadata": {},
   "source": [
    "# Q1. Explain the difference between greedy and non-greedy syntax with visual terms in as few words as possible. What is the bare minimum effort required to transform a greedy pattern into a non-greedy one? What character or characters can you introduce or change?\n"
   ]
  },
  {
   "cell_type": "markdown",
   "id": "a8bfd99f",
   "metadata": {},
   "source": [
    "The Main difference between Greedy and Non Greedy Match Syntax is The Greedy Match will try to match as many repetitions of the quantified pattern as possible Whereas The Non Greedy Match will try to match as few repetitions of the quantified pattern as possible"
   ]
  },
  {
   "cell_type": "code",
   "execution_count": 2,
   "id": "1d8b024f",
   "metadata": {},
   "outputs": [
    {
     "name": "stdout",
     "output_type": "stream",
     "text": [
      "['vvvvvvv', '']\n",
      "['', 'v', '', 'v', '', 'v', '', 'v', '', 'v', '', 'v', '', 'v', '']\n"
     ]
    }
   ],
   "source": [
    "import re\n",
    "print(re.findall('v*','vvvvvvv'))    # Greedy Match Synatx\n",
    "print(re.findall('v*?','vvvvvvv'))   # Non Greedy Synatx"
   ]
  },
  {
   "cell_type": "markdown",
   "id": "9f93216a",
   "metadata": {},
   "source": [
    "# Q2. When exactly does greedy versus non-greedy make a difference?  What if you're looking for a non-greedy match but the only one available is greedy?\n",
    "\n",
    "\n",
    "\n"
   ]
  },
  {
   "cell_type": "markdown",
   "id": "bde0ac2f",
   "metadata": {},
   "source": [
    "The Greedy Match will try to match as many repetitions of the quantified pattern as possible. The Non Greedy Match will try to match as few repetitions of the quantified pattern as possible. If only Non Greedy Match is available, we can use other filtering or pattern matching methods of regex and further identify the required pattern."
   ]
  },
  {
   "cell_type": "markdown",
   "id": "6d3f924a",
   "metadata": {},
   "source": [
    "# Q3. In a simple match of a string, which looks only for one match and does not do any replacement, is the use of a nontagged group likely to make any practical difference?\n",
    "\n",
    "\n",
    "\n"
   ]
  },
  {
   "cell_type": "markdown",
   "id": "f167b34a",
   "metadata": {},
   "source": [
    "In this Case The Non Tagged Group will not make any diffrence in this case."
   ]
  },
  {
   "cell_type": "code",
   "execution_count": 7,
   "id": "608291e4",
   "metadata": {},
   "outputs": [
    {
     "name": "stdout",
     "output_type": "stream",
     "text": [
      "Phone no found 123\n",
      "Phone no found 123\n"
     ]
    }
   ],
   "source": [
    "numReg = re.compile(r'\\d\\d\\d')\n",
    "num = numReg.search('My no. is 1234-454-2524')\n",
    "print(f'Phone no found {num.group()}')   # Non Tagged Group \n",
    "print(f'Phone no found {num.group(0)}')   # Tagged Group "
   ]
  },
  {
   "cell_type": "markdown",
   "id": "855a03aa",
   "metadata": {},
   "source": [
    "# Q4. Describe a scenario in which using a nontagged category would have a significant impact on the program's outcomes.\n",
    "\n",
    "\n",
    "\n"
   ]
  },
  {
   "cell_type": "markdown",
   "id": "f62e5816",
   "metadata": {},
   "source": [
    "Here in the below Code Snippet . decimal is not tagged or captured. It will useful in scenarios where the separator of value in a string is of no use and we need to capture only the values."
   ]
  },
  {
   "cell_type": "code",
   "execution_count": 8,
   "id": "34aa82c1",
   "metadata": {},
   "outputs": [
    {
     "data": {
      "text/plain": [
       "('135', '456')"
      ]
     },
     "execution_count": 8,
     "metadata": {},
     "output_type": "execute_result"
    }
   ],
   "source": [
    "import re\n",
    "text='135.456'\n",
    "pattern=r'(\\d+)(?:.)(\\d+)'\n",
    "regobj=re.compile(pattern)\n",
    "matobj=regobj.search(text)\n",
    "matobj.groups()"
   ]
  },
  {
   "cell_type": "markdown",
   "id": "2698d928",
   "metadata": {},
   "source": [
    "# Q5. Unlike a normal regex pattern, a look-ahead condition does not consume the characters it examines. Describe a situation in which this could make a difference in the results of your programme.\n",
    "\n",
    "\n",
    "\n"
   ]
  },
  {
   "cell_type": "markdown",
   "id": "7c64ede2",
   "metadata": {},
   "source": [
    "While counting the number of multiple lines or mutiple sentence in a string the positive look ahead makes a difference, without which we wont get the correct count of lines or sentences in a string."
   ]
  },
  {
   "cell_type": "markdown",
   "id": "7a1846a9",
   "metadata": {},
   "source": [
    "# Q6. In standard expressions, what is the difference between positive look-ahead and negative look-ahead?\n",
    "\n",
    "\n",
    "\n"
   ]
  },
  {
   "cell_type": "markdown",
   "id": "b85ad718",
   "metadata": {},
   "source": [
    "Positive Lookahead allows to add a condition for __what follows__ .\n",
    "\n",
    "Negative Lookahead is similar, but it looks behind. That is, it allows to match a pattern only if there’s something before it."
   ]
  },
  {
   "cell_type": "markdown",
   "id": "bf7bdc00",
   "metadata": {},
   "source": [
    "# Q7. What is the benefit of referring to groups by name rather than by number in a standard expression?\n",
    "\n",
    "\n",
    "\n"
   ]
  },
  {
   "cell_type": "markdown",
   "id": "8d1eeafd",
   "metadata": {},
   "source": [
    "Referring to groups by name rather than by number in a standard expression helps to keep the code clear and easy to understand."
   ]
  },
  {
   "cell_type": "markdown",
   "id": "91728d3a",
   "metadata": {},
   "source": [
    "# Q8. Can you identify repeated items within a target string using named groups, as in \"The cow jumped over the moon\"?\n",
    "\n",
    "\n",
    "\n"
   ]
  },
  {
   "cell_type": "code",
   "execution_count": 1,
   "id": "e2e618c4",
   "metadata": {},
   "outputs": [
    {
     "data": {
      "text/plain": [
       "['The', 'the']"
      ]
     },
     "execution_count": 1,
     "metadata": {},
     "output_type": "execute_result"
    }
   ],
   "source": [
    "import re\n",
    "text = \"The cow jumped over the moon\"\n",
    "regobj=re.compile(r'(?P<w1>The)',re.I)\n",
    "regobj.findall(text)"
   ]
  },
  {
   "cell_type": "markdown",
   "id": "8e1352a9",
   "metadata": {},
   "source": [
    "# Q9. When parsing a string, what is at least one thing that the Scanner interface does for you that the re.findall feature does not?\n",
    "\n",
    "\n",
    "\n"
   ]
  },
  {
   "cell_type": "markdown",
   "id": "8d293905",
   "metadata": {},
   "source": [
    "__`re.findall()`__ module is used to search for all occurrences that matches a given pattern. \n",
    "\n",
    "In contrast, __`re.search()`__ will only return the first occurrence that matches the specified pattern. __`re.findall()`__ will iterate over all the lines of the file and will return all non-overlapping matches of pattern in a single step."
   ]
  },
  {
   "cell_type": "markdown",
   "id": "2e2ae354",
   "metadata": {},
   "source": [
    "# Q10. Does a scanner object have to be named scanner?\n"
   ]
  },
  {
   "cell_type": "markdown",
   "id": "7ffdd6ad",
   "metadata": {},
   "source": [
    "Yes, It may have any name"
   ]
  }
 ],
 "metadata": {
  "kernelspec": {
   "display_name": "Python 3",
   "language": "python",
   "name": "python3"
  },
  "language_info": {
   "codemirror_mode": {
    "name": "ipython",
    "version": 3
   },
   "file_extension": ".py",
   "mimetype": "text/x-python",
   "name": "python",
   "nbconvert_exporter": "python",
   "pygments_lexer": "ipython3",
   "version": "3.8.8"
  }
 },
 "nbformat": 4,
 "nbformat_minor": 5
}
