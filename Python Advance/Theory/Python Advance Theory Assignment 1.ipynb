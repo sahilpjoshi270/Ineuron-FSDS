{
 "cells": [
  {
   "cell_type": "markdown",
   "id": "9b4a65f8",
   "metadata": {},
   "source": [
    "# Q1. What is the purpose of Python's OOP?\n",
    "\n",
    "\n",
    "\n"
   ]
  },
  {
   "cell_type": "markdown",
   "id": "891f3c4d",
   "metadata": {},
   "source": [
    "The main aim of OOP is to bind together data and function that operate on them so that no other part of code can access this data except for the functions which are within the class.\n",
    "\n",
    "Another reason is increasing the implementation, modurability, using encapsulation techniques,etc."
   ]
  },
  {
   "cell_type": "markdown",
   "id": "6f711987",
   "metadata": {},
   "source": [
    "# Q2. Where does an inheritance search look for an attribute?\n",
    "\n",
    "\n",
    "\n"
   ]
  },
  {
   "cell_type": "markdown",
   "id": "7ea10361",
   "metadata": {},
   "source": [
    "While using inheritence, the objectof the child class will search all the properties of the parent class amd inherit those"
   ]
  },
  {
   "cell_type": "markdown",
   "id": "8ad399ee",
   "metadata": {},
   "source": [
    "# Q3. How do you distinguish between a class object and an instance object?\n",
    "\n",
    "\n",
    "\n"
   ]
  },
  {
   "cell_type": "markdown",
   "id": "df564a88",
   "metadata": {},
   "source": [
    "The object is something which we can feel or is a real world entity but Instance is a virtual copy of an object.\n",
    "\n",
    "In programming terms, when we define a class and assign some variable like 'obj_name=class_name()', this will create an instance of a class which is refering to the class actually. When we refer some object which has some property and characteristics, we can say that it is an instance of a particular class. Example, iphone is an object and we call it because apple name dit. So it is an object. But in the same time it is also an smartphone. It belong to some smartphone class. So we now refer it an instance of a smartphone class.\n",
    "\n",
    "And if we create a variable like 'var_name=10', here 'var_name' is a object for integer 10. So 'instance' is nothing but something which represents the class and a virtual copy of an object\n",
    "\n"
   ]
  },
  {
   "cell_type": "markdown",
   "id": "96a444a0",
   "metadata": {},
   "source": [
    "# Q4. What makes the first argument in a class’s method function special?\n",
    "\n",
    "\n",
    "\n"
   ]
  },
  {
   "cell_type": "markdown",
   "id": "cb68c67a",
   "metadata": {},
   "source": [
    "The first argument of a class method is always an instance of a class. It means its an instance of a class which is pointing to itself saying that this function belongs to this instance of this class."
   ]
  },
  {
   "cell_type": "markdown",
   "id": "a413e341",
   "metadata": {},
   "source": [
    "# Q5. What is the purpose of the __init__ method?\n",
    "\n",
    "\n",
    "\n"
   ]
  },
  {
   "cell_type": "markdown",
   "id": "4d459d8d",
   "metadata": {},
   "source": [
    "The \"init\" method is also refered to as constructor function. Because all the data refering to the instance of a perticular class gets initialized under this function with the values which are given when class object / instance is created"
   ]
  },
  {
   "cell_type": "markdown",
   "id": "e461ae05",
   "metadata": {},
   "source": [
    "# Q6. What is the process for creating a class instance?\n",
    "\n",
    "\n",
    "\n"
   ]
  },
  {
   "cell_type": "markdown",
   "id": "5ca32df4",
   "metadata": {},
   "source": [
    "class test1: pass\n",
    "\n",
    "class_instance=test1() #here we have created the class instance"
   ]
  },
  {
   "cell_type": "markdown",
   "id": "c0e709be",
   "metadata": {},
   "source": [
    "# Q7. What is the process for creating a class?\n",
    "\n",
    "\n",
    "\n"
   ]
  },
  {
   "cell_type": "markdown",
   "id": "795ddab1",
   "metadata": {},
   "source": [
    "We can create a class by simply using the keyword \"class\"\n",
    "\n",
    "for eg.\n",
    "\n",
    "class doctor:\n",
    "\n",
    "    pass"
   ]
  },
  {
   "cell_type": "markdown",
   "id": "f4180542",
   "metadata": {},
   "source": [
    "# Q8. How would you define the superclasses of a class?\n"
   ]
  },
  {
   "cell_type": "markdown",
   "id": "38de3e7a",
   "metadata": {},
   "source": [
    "A superclass is a class where a child class inherits the data from a parent class. It uses the function super().\n",
    "\n",
    "\n",
    "Parent class- Principal\n",
    "Child class- Teacher\n",
    "\n",
    "class teacher(principal):\n",
    "\n",
    "    def __init__(self, var,*args):\n",
    "    \n",
    "    super(teacher,self).__init__(*args)\n",
    "    \n",
    "    self.var1 = var"
   ]
  }
 ],
 "metadata": {
  "kernelspec": {
   "display_name": "Python 3",
   "language": "python",
   "name": "python3"
  },
  "language_info": {
   "codemirror_mode": {
    "name": "ipython",
    "version": 3
   },
   "file_extension": ".py",
   "mimetype": "text/x-python",
   "name": "python",
   "nbconvert_exporter": "python",
   "pygments_lexer": "ipython3",
   "version": "3.8.8"
  }
 },
 "nbformat": 4,
 "nbformat_minor": 5
}
