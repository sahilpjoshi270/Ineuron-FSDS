{
 "cells": [
  {
   "cell_type": "markdown",
   "id": "25abc723",
   "metadata": {},
   "source": [
    "# Q1. What is the meaning of multiple inheritance?\n",
    "\n",
    "\n",
    "\n"
   ]
  },
  {
   "cell_type": "markdown",
   "id": "6010b344",
   "metadata": {},
   "source": [
    "Inheritence is nothing but reusing the code of Parent class by the child class. Similary when a child class inherits its properties from multiple Parent classes this scenario is called Multiple Inheritence"
   ]
  },
  {
   "cell_type": "code",
   "execution_count": 1,
   "id": "a17dbee7",
   "metadata": {},
   "outputs": [],
   "source": [
    "class Parent_one:\n",
    "    pass\n",
    "class Parent_two:\n",
    "    pass\n",
    "class child(Parent_one,Parent_two):\n",
    "    pass"
   ]
  },
  {
   "cell_type": "markdown",
   "id": "732556c0",
   "metadata": {},
   "source": [
    "# Q2. What is the concept of delegation?\n",
    "\n",
    "\n",
    "\n"
   ]
  },
  {
   "cell_type": "markdown",
   "id": "c21b7ccf",
   "metadata": {},
   "source": [
    "Delegation provides a proxy object for any class that you want on top of the main class. Its like a wrapper to your class so that you can access limited resources of the main class.\n",
    "\n",
    "It Wraps the object of main class into a smaller object with limited access\n",
    "\n",
    "Simply Delegation means that you can include a instance of another class as an instance variable, and forward messages to the instance."
   ]
  },
  {
   "cell_type": "markdown",
   "id": "e40ef3d0",
   "metadata": {},
   "source": [
    "# Q3. What is the concept of composition?\n",
    "\n",
    "\n",
    "\n"
   ]
  },
  {
   "cell_type": "markdown",
   "id": "319afc51",
   "metadata": {},
   "source": [
    "In the concept of Composition, a class refers to one or more other classes by using instances of those classes as a instance variable. Irrespective of inheritence in this approach all the parent class members are not inherited into child class, but only required methods from a class are used by using class instances."
   ]
  },
  {
   "cell_type": "markdown",
   "id": "2c90b486",
   "metadata": {},
   "source": [
    "# Q4. What are bound methods and how do we use them?\n",
    "\n",
    "\n",
    "\n"
   ]
  },
  {
   "cell_type": "markdown",
   "id": "e6279fb4",
   "metadata": {},
   "source": [
    "If a function is a attribute of a class and it is access via instances then it is called as bound method. A bound method is one that has self as its first argument. Since these are dependent on the instance of classes, these are also known as instance methods. "
   ]
  },
  {
   "cell_type": "code",
   "execution_count": 1,
   "id": "1eaf8d67",
   "metadata": {},
   "outputs": [
    {
     "name": "stdout",
     "output_type": "stream",
     "text": [
      "Called method_one\n",
      "Called method_two\n",
      "Called method_two\n",
      "Called method_three\n"
     ]
    }
   ],
   "source": [
    "class Test:\n",
    "    def method_one(self): # bound method\n",
    "        print(\"Called method_one\")\n",
    "    @classmethod\n",
    "    def method_two(cls): # unbound method\n",
    "        print(\"Called method_two\")\n",
    "    @staticmethod\n",
    "    def method_three(): # static method\n",
    "        print(\"Called method_three\")\n",
    "\n",
    "test = Test()\n",
    "test.method_one() # accessing through instance object\n",
    "test.method_two() # accessing through instance object\n",
    "Test.method_two() # accessing directly through class\n",
    "Test.method_three() # accessing directly through class"
   ]
  },
  {
   "cell_type": "markdown",
   "id": "28221bfd",
   "metadata": {},
   "source": [
    "# Q5. What is the purpose of pseudoprivate attributes?\n"
   ]
  },
  {
   "cell_type": "markdown",
   "id": "07cee0ff",
   "metadata": {},
   "source": [
    "Pseudoprivate attributes are useful in larger frameworks or tools, both to avoid introducing new method names that might accidentally hide definitions elsewhere in the class tree and to reduce the chance of internal methods being replaced by names defined lower in the tree. If a method is intended for use only within a class that may be mixed into other classes, the double underscore prefix ensures that the method won't interfere with other names in the tree, especially in multiple-inheritance scenarios\n",
    "\n",
    "Pseudoprivate names also prevent subclasses from accidentally redefining the internal method's names,"
   ]
  }
 ],
 "metadata": {
  "kernelspec": {
   "display_name": "Python 3",
   "language": "python",
   "name": "python3"
  },
  "language_info": {
   "codemirror_mode": {
    "name": "ipython",
    "version": 3
   },
   "file_extension": ".py",
   "mimetype": "text/x-python",
   "name": "python",
   "nbconvert_exporter": "python",
   "pygments_lexer": "ipython3",
   "version": "3.8.8"
  }
 },
 "nbformat": 4,
 "nbformat_minor": 5
}
