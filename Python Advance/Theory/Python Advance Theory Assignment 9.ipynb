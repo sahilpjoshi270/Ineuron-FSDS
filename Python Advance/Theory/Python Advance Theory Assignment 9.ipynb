{
 "cells": [
  {
   "cell_type": "markdown",
   "id": "0b0278c0",
   "metadata": {},
   "source": [
    "# Q1. In Python 3.X, what are the names and functions of string object types?\n",
    "\n",
    "\n",
    "\n"
   ]
  },
  {
   "cell_type": "markdown",
   "id": "565d0b96",
   "metadata": {},
   "source": [
    "The following are the names and functions of string object types in Python 3.X\n",
    "##  <stirng>.isdecimal() -> Returns True if all characters in a string are decimal.\n",
    "## <string>.isalnum() -> Returns True if all characters in the string are AlphaNumeric.\n",
    "## <string>.istitle() -> Returns True if first character in a string is in Uppercase.\n",
    "## <string>.partition(<sub_string>) -> Splits string at first occurance of sub string and returns a tuple of 3 elements.\n",
    "## <string>.rpartition(<sub_string>) -> Splits string at last occurance of sub string and returns a tuple of 3 elements.\n",
    "## <string>.isidentifier() -> Returns True if give string is a valid identifier name.\n",
    "## len(<string>) -> Returns the length of the given string.\n",
    "## <string>.index(<sub_string>) -> Returns the lowest index of substring if substring is found in the string.\n",
    "## <string>.rindex(<sub_string>) -> Returns the highest index of substring if substring is found in the string.\n",
    "## max(<string>) -> Returns the highest Alphabetical Character in the string as per ASCII.\n",
    "## min(<string>) -> Returns the lowest Alphabetical Character in the string as per ASCII.\n",
    "## <string>.splitlines() -> Returns a list of lines in the string.\n",
    "## <string>.capitalize() -> Returns the string with first character capitalized.\n",
    "## <string>.upper() -> Returns the string with all characters in uppercase.\n",
    "## <string>.lower() -> Returns the string with all characters in lowercase\n",
    "## <string>.casefold() -> Returns the string in lowercase which can be used for caseless comparisions.\n",
    "## <string>.expandtabs(no_of_spaces) -> Replaces tabs in a string with specified no of spaces default is 8\n",
    "## <string>.find(<sub_string>) -> Returns lowest index of substring if substring is found in the string else returns -1.\n",
    "## <string>.rfind(<sub_string>) -> Returns highest index of substring if substring is found in the string else returns -1.\n",
    "## <string>.count(<char>) -> Returns the no of occurances of the char in the given string.\n",
    "## <string>.split(<sep>) -> Returns list of words seperated by given sep else seperated by whitespace.\n",
    "## <string>.rsplit(<sep>) -> Returns list of words seperated by given sep else seperated by whitespace scanning from end.\n",
    "## <string>.lstrip() -> Returns a copy of where leading whitespaces are removed.\n",
    "## <string>.rstrip() -> Returns a copy of where trailed whitespaces are removed.\n",
    "## <string>.strip() -> Returns a copy of where both leading and trailing whitespaces are removed.\n",
    "## <string>.swapcase() -> Swaps lowercase characters with uppercase and vice versa.\n",
    "## <sep>.join(<list>) -> Concatenates a list or tuple of words with intervening occuernces of sep.\n",
    "## <string>.translate(<mapping_table>) -> translates the characters using table.\n",
    "## <string>.maketrans(<dict>) -> Creating a mapping translation tbale usable for <string>.translate(<mapping_table>)\n",
    "## <string>.replace(<char_1>,<char_2>) -> Replace all occurances of char_1 with char_2 in string.\n",
    "## <string>.encode() -> Encodes string into any encoding supported by python. Default encoding is UTF-8.\n",
    "## <string>.ljust(<no_of_spaces>) -> Left-justify in a field of given width.\n",
    "## <string>.rjust(<no_of_spaces>) -> Right-justify in a field of given width.\n",
    "## <string>.center(<no_of_spaces>) -> Center-justify in a field of given width.\n",
    "## <stirng>.zfill(<length>) -> Zfill adds zeros to the begining of string until the specified length is reached."
   ]
  },
  {
   "cell_type": "code",
   "execution_count": 3,
   "id": "c91667d3",
   "metadata": {},
   "outputs": [
    {
     "name": "stdout",
     "output_type": "stream",
     "text": [
      "True\n",
      "True\n",
      "False\n",
      "('tom has 3 ', 'cats', ' and 9 dogs')\n",
      "('tom has 3 ', 'cats', ' and 9 dogs')\n",
      "True\n",
      "13\n",
      "0\n",
      "2\n",
      "t\n",
      "A\n",
      "['Full stack ', ' data ', ' science ', ' Ineuron']\n",
      "Thor\n",
      "LOKI\n",
      "captain\n",
      "albus dumbledoor\n",
      "Happy   Ron\n",
      "1\n",
      "5\n",
      "2\n",
      "['ratatouille']\n",
      "['ratatouille']\n",
      "Jumbo\n",
      "  Jumbo\n",
      "mIGHTY tHANoS\n",
      "Iris_flower_dataset\n",
      "Hank pym\n",
      "Bruce Wyyne\n",
      "I2euro2\n",
      "b'Natural Language Processing'\n",
      "Nemo      \n",
      "      Nemo\n",
      "   Nemo   \n",
      "00000Hello\n"
     ]
    }
   ],
   "source": [
    "print(\"1564654161\".isdecimal())\n",
    "print(\"Johndoe\".isalnum())\n",
    "print(\"INEURON\".istitle())\n",
    "print(\"tom has 3 cats and 9 dogs\".partition('cats'))\n",
    "print(\"tom has 3 cats and 9 dogs\".rpartition('cats'))\n",
    "print(\"Thanos\".isidentifier())\n",
    "print(len(\"deep learning\"))\n",
    "print(\"elephant\".index('e'))\n",
    "print(\"elephant\".rindex('e'))\n",
    "print(max('Data_Scientist'))\n",
    "print(min('Data_Analyst'))\n",
    "print(\"Full stack \\n data \\n science \\n Ineuron\".splitlines())\n",
    "print(\"thor\".capitalize())\n",
    "print(\"loki\".upper())\n",
    "print(\"captain\".lower())\n",
    "print(\"Albus Dumbledoor\".casefold())\n",
    "print(\"Happy \\tRon\".expandtabs())\n",
    "print(\"Tomatoes\".find('o'))\n",
    "print(\"tomatoes\".rfind('o'))\n",
    "print(\"psycopology\".count('p'))\n",
    "print(\"ratatouille\".split('n'))\n",
    "print(\"ratatouille\".rsplit('n'))\n",
    "print(\"  Jumbo\".lstrip())\n",
    "print(\"  Jumbo  \".rstrip())\n",
    "print(\"Mighty ThanOs\".swapcase())\n",
    "print(\"_\".join(['Iris','flower','dataset']))\n",
    "\n",
    "\n",
    "d1 ={2:3}\n",
    "print(\"Hank pym\".translate(d1))\n",
    "\n",
    "str4 = \"Bruce Wayne\"\n",
    "m = str4.maketrans(\"a\",\"y\")\n",
    "print(str4.translate(m))\n",
    "\n",
    "\n",
    "print('Ineuron'.replace('n','2'))\n",
    "print('Natural Language Processing'.encode())\n",
    "print('Nemo'.ljust(10))\n",
    "print('Nemo'.rjust(10))\n",
    "print('Nemo'.center(10))\n",
    "print('Hello'.zfill(10))"
   ]
  },
  {
   "cell_type": "markdown",
   "id": "9f375978",
   "metadata": {},
   "source": [
    "# Q2. How do the string forms in Python 3.X vary in terms of operations?\n",
    "\n",
    "\n",
    "\n"
   ]
  },
  {
   "cell_type": "markdown",
   "id": "c953ee3e",
   "metadata": {},
   "source": [
    " In Python3 default format of strings is Unicode Whereas in Pyton2 we need to explicitly mention Unicode value using u."
   ]
  },
  {
   "cell_type": "markdown",
   "id": "da6f0809",
   "metadata": {},
   "source": [
    "# Q3. In 3.X, how do you put non-ASCII Unicode characters in a string?\n",
    "\n",
    "\n",
    "\n"
   ]
  },
  {
   "cell_type": "markdown",
   "id": "d86612ac",
   "metadata": {},
   "source": [
    " In Python 3.x unidecode() method from unidecode library can be used to put non-ASCII Unicode Characters in a string."
   ]
  },
  {
   "cell_type": "markdown",
   "id": "8d3a85a5",
   "metadata": {},
   "source": [
    "# Q4. In Python 3.X, what are the key differences between text-mode and binary-mode files?\n",
    "\n",
    "\n",
    "\n"
   ]
  },
  {
   "cell_type": "markdown",
   "id": "9f9ce5cb",
   "metadata": {},
   "source": [
    "The major difference between these two is that a text file contains textual information in the form of alphabets, digits and special characters or symbols. On the other hand, a binary file contains bytes or a compiled version of a text file.\n",
    "\n",
    "When a file is opened in text mode, reading its data automatically decodes its content (as per the platform default or as per provided encoding), and returns it as a str; writing operation takes a str, and automatically encodes it before transferring to the file. Text mode files also support universal end-of-line translation, and encoding specification arguments.\n",
    "\n",
    "When a file is opened in binary mode by adding a b to the mode string argument in the open() call, reading its data does not decode it in any way, and simply returns its content raw and unchanged, as a bytes object; writing takes a bytes object and transfers it to the file unchanged. Binary-mode files also accept a bytearray object for the content to be written to the file."
   ]
  },
  {
   "cell_type": "markdown",
   "id": "e282b2cb",
   "metadata": {},
   "source": [
    "# Q5. How can you interpret a Unicode text file containing text encoded in a different encoding than your platform's default?\n",
    "\n",
    "\n",
    "\n"
   ]
  },
  {
   "cell_type": "markdown",
   "id": "7548d48a",
   "metadata": {},
   "source": [
    " Use of encode() and decode() method can be used to you interpret a Unicode text file containing text encoded in a different encoding than your platform's default, by default encoding parameter is UTF-8"
   ]
  },
  {
   "cell_type": "markdown",
   "id": "445e2af2",
   "metadata": {},
   "source": [
    "# Q6. What is the best way to make a Unicode text file in a particular encoding format?\n",
    "\n",
    "\n",
    "\n"
   ]
  },
  {
   "cell_type": "markdown",
   "id": "bc5712c1",
   "metadata": {},
   "source": [
    "Use str.encode() and file.write() to make a Unicode text file in a particular encoding format, default encoding format is UTF-18.\n",
    "\n",
    "Call str.encode(encoding) with encoding set to utf8 to encode str.\n",
    "Call open(file, mode) to open a file with mode set to wb . wb writes to files in binary mode & preserves UTF-8format.\n",
    "Call file.write(data) to write data to the file."
   ]
  },
  {
   "cell_type": "markdown",
   "id": "ef0cdf86",
   "metadata": {},
   "source": [
    "# Q7. What qualifies ASCII text as a form of Unicode text?\n",
    "\n",
    "\n",
    "\n"
   ]
  },
  {
   "cell_type": "markdown",
   "id": "58490c71",
   "metadata": {},
   "source": [
    "Unicode represents most written languages in the world. ASCII has its equivalent in Unicode. The difference between ASCII and Unicode is that ASCII represents lowercase letters (a-z), uppercase letters (A-Z), digits (0–9) and symbols such as punctuation marks while Unicode represents letters of English, Arabic, Greek etc. mathematical symbols, historical scripts, emoji covering a wide range of characters than ASCII."
   ]
  },
  {
   "cell_type": "markdown",
   "id": "d386a239",
   "metadata": {},
   "source": [
    "# Q8. How much of an effect does the change in string types in Python 3.X have on your code?\n"
   ]
  },
  {
   "cell_type": "markdown",
   "id": "ba9a77c5",
   "metadata": {},
   "source": [
    "Python 3 stores strings as Unicode by default whereas Python 2 requires you to mark a string with a u if you want to store it as Unicode. Unicode strings are more versatile than ASCII strings, which are the Python 3.X default, as they can store letters from foreign languages as well as emoji and the standard Roman letters and numerals."
   ]
  }
 ],
 "metadata": {
  "kernelspec": {
   "display_name": "Python 3",
   "language": "python",
   "name": "python3"
  },
  "language_info": {
   "codemirror_mode": {
    "name": "ipython",
    "version": 3
   },
   "file_extension": ".py",
   "mimetype": "text/x-python",
   "name": "python",
   "nbconvert_exporter": "python",
   "pygments_lexer": "ipython3",
   "version": "3.8.8"
  }
 },
 "nbformat": 4,
 "nbformat_minor": 5
}
